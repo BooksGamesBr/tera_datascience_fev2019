{
 "cells": [
  {
   "cell_type": "markdown",
   "metadata": {},
   "source": [
    "# Aula #28 – Clustering"
   ]
  },
  {
   "cell_type": "markdown",
   "metadata": {},
   "source": [
    "# Aprendizado supervisionado vs não supervisionado"
   ]
  },
  {
   "cell_type": "markdown",
   "metadata": {},
   "source": [
    "![](figures/tipoAprendizado.png)"
   ]
  },
  {
   "cell_type": "markdown",
   "metadata": {},
   "source": [
    "# Clustering"
   ]
  },
  {
   "cell_type": "markdown",
   "metadata": {},
   "source": [
    "?"
   ]
  },
  {
   "cell_type": "markdown",
   "metadata": {},
   "source": [
    "### Para que fazer agrupamentos?"
   ]
  },
  {
   "cell_type": "markdown",
   "metadata": {},
   "source": [
    "?"
   ]
  },
  {
   "cell_type": "markdown",
   "metadata": {},
   "source": [
    "### Tipos de clustering"
   ]
  },
  {
   "cell_type": "markdown",
   "metadata": {},
   "source": [
    "- **Por partição**\n",
    "- **Hierárquico**\n",
    "- **Por densidade**"
   ]
  },
  {
   "cell_type": "markdown",
   "metadata": {},
   "source": [
    "## K-means"
   ]
  },
  {
   "cell_type": "markdown",
   "metadata": {},
   "source": [
    "- Algoritmo de particionamento que tem como objetivo agrupar os objetos em K clusters.\n",
    "- Para isso, são elegidos representantes desses clusters, chamados de **centroides**."
   ]
  },
  {
   "cell_type": "markdown",
   "metadata": {},
   "source": [
    "<tr>\n",
    "    <td> <img src=\"figures/fluxogramaKmeans.png\" style=\"width: 850px;\" /> </td>\n",
    "    <td> <img src=\"https://media.giphy.com/media/VryvUKuOxNLqM/giphy.gif\" /> </td>\n",
    "</tr>"
   ]
  },
  {
   "cell_type": "markdown",
   "metadata": {},
   "source": [
    "### Como calcular essa distância?"
   ]
  },
  {
   "cell_type": "markdown",
   "metadata": {},
   "source": [
    "![](figures/distancia.png)"
   ]
  },
  {
   "cell_type": "markdown",
   "metadata": {},
   "source": [
    "#### Vamos praticar agora? :D"
   ]
  },
  {
   "cell_type": "markdown",
   "metadata": {},
   "source": [
    "![](https://media.giphy.com/media/AuwBPJztsEWkw/giphy.gif)"
   ]
  },
  {
   "cell_type": "markdown",
   "metadata": {},
   "source": [
    "### Exercício 1 - segmentação de clientes"
   ]
  },
  {
   "cell_type": "markdown",
   "metadata": {},
   "source": [
    "Vamos utilizar uma base fictícia contendo dados de visitas de clientes em um site:  \n",
    "- **Visitas**: quantidade de visitas realizadas durante o mês\n",
    "- **Tempo**: tempo, em segundos, que os usuários ficaram no site"
   ]
  },
  {
   "cell_type": "code",
   "execution_count": null,
   "metadata": {},
   "outputs": [],
   "source": [
    "# imports necessários para a aula\n",
    "import numpy as np\n",
    "import pandas as pd\n",
    "import matplotlib.pyplot as plt"
   ]
  },
  {
   "cell_type": "code",
   "execution_count": null,
   "metadata": {},
   "outputs": [],
   "source": [
    "plt.rcParams['figure.figsize'] = (12, 7)"
   ]
  },
  {
   "cell_type": "code",
   "execution_count": null,
   "metadata": {},
   "outputs": [],
   "source": [
    "import warnings\n",
    "warnings.filterwarnings('ignore')"
   ]
  },
  {
   "cell_type": "code",
   "execution_count": null,
   "metadata": {},
   "outputs": [],
   "source": [
    "# importar o dataset\n",
    "df = pd.read_csv(\"data/case.csv\")"
   ]
  },
  {
   "cell_type": "code",
   "execution_count": null,
   "metadata": {},
   "outputs": [],
   "source": [
    "df.head()"
   ]
  },
  {
   "cell_type": "code",
   "execution_count": null,
   "metadata": {},
   "outputs": [],
   "source": [
    "df.describe()"
   ]
  },
  {
   "cell_type": "markdown",
   "metadata": {},
   "source": [
    "**Vamos visualizar a distribuição desses dados?**"
   ]
  },
  {
   "cell_type": "code",
   "execution_count": null,
   "metadata": {},
   "outputs": [],
   "source": [
    "plt.scatter(df.visitas, df.tempo, alpha=0.5)\n",
    "plt.xlabel('Tempo')\n",
    "plt.ylabel('Quantidade de visitas')\n",
    "plt.show()"
   ]
  },
  {
   "cell_type": "markdown",
   "metadata": {},
   "source": [
    "### **IMPORTANTE**\n",
    "\n",
    "Como os agrupamentos são definidos com base em uma medida de distância, primeiro **precisamos normalizar os dados**!"
   ]
  },
  {
   "cell_type": "code",
   "execution_count": null,
   "metadata": {},
   "outputs": [],
   "source": [
    "# TODO\n",
    "# Importar o StandardScaler e normalizar os dados\n",
    "from sklearn.preprocessing import StandardScaler\n",
    "\n",
    "scaler = \n",
    "df[['visitas','tempo']] = "
   ]
  },
  {
   "cell_type": "code",
   "execution_count": null,
   "metadata": {},
   "outputs": [],
   "source": [
    "# Vamos plotar os dados novamente\n",
    "plt.scatter(df.visitas, df.tempo, alpha=0.5)\n",
    "plt.xlabel('Tempo')\n",
    "plt.ylabel('Quantidade de visitas')\n",
    "plt.show()"
   ]
  },
  {
   "cell_type": "markdown",
   "metadata": {},
   "source": [
    "**Voltando ao K-means...**\n",
    "\n",
    "O Sklearn já conta com uma implementação do [K-means](https://scikit-learn.org/stable/modules/generated/sklearn.cluster.KMeans.html). Podemos importá-la:"
   ]
  },
  {
   "cell_type": "code",
   "execution_count": null,
   "metadata": {},
   "outputs": [],
   "source": [
    "# Importar o K-means\n",
    "from sklearn.cluster import KMeans"
   ]
  },
  {
   "cell_type": "code",
   "execution_count": null,
   "metadata": {},
   "outputs": [],
   "source": [
    "# cria uma instância do K-means\n",
    "kmeans = KMeans() \n",
    "kmeans.fit(df)\n",
    "# salva os centroides\n",
    "centroides = kmeans.cluster_centers_\n",
    "# salva as labels dos clusters para cada exemplo\n",
    "y_kmeans = kmeans.predict(df)"
   ]
  },
  {
   "cell_type": "code",
   "execution_count": null,
   "metadata": {},
   "outputs": [],
   "source": [
    "# plota os dados identificando seus clusters\n",
    "plt.scatter(df.visitas, df.tempo, c=y_kmeans, alpha=0.5, cmap='rainbow')\n",
    "plt.xlabel('Tempo')\n",
    "plt.ylabel('Quantidade de visitas')\n",
    "# plota os centroides também\n",
    "plt.scatter(centroides[:, 0], centroides[:, 1], c='black', marker='X', s=200, alpha=0.5)\n",
    "plt.show()"
   ]
  },
  {
   "cell_type": "markdown",
   "metadata": {},
   "source": [
    "**Acham que 8 clusters fazem sentido nesse caso? Podemos mudar o número de clusters!**"
   ]
  },
  {
   "cell_type": "markdown",
   "metadata": {},
   "source": [
    "### **IMPORTANTE²**\n",
    "\n",
    "Além de definir o número de clusters, também é **importante escolher uma seed**. Isso porque como os centroides iniciais são escolhidos aleatoriamente, clusters diferentes podem ser gerados pelo K-means dependendo dessa iniciação e do número de clusters."
   ]
  },
  {
   "cell_type": "code",
   "execution_count": null,
   "metadata": {},
   "outputs": [],
   "source": [
    "# TODO\n",
    "# Acrescentar um número de clusters e não colocar o seed"
   ]
  },
  {
   "cell_type": "code",
   "execution_count": null,
   "metadata": {},
   "outputs": [],
   "source": [
    "# TODO\n",
    "# Acrescentar o mesmo número de clusters escolhido acima e colocar o seed"
   ]
  },
  {
   "cell_type": "markdown",
   "metadata": {},
   "source": [
    "Altere o número de clusters e rode o algoritmo de novo. Vamos ver o que acontece :D\n",
    "\n",
    "Não se esqueça de adicionar uma seed!"
   ]
  },
  {
   "cell_type": "code",
   "execution_count": null,
   "metadata": {},
   "outputs": [],
   "source": [
    "# TODO\n",
    "# Agora escolha o número de clusters que você achar mais adequado para o dataset"
   ]
  },
  {
   "cell_type": "markdown",
   "metadata": {},
   "source": [
    "**Agora fez mais sentido a quantidade de clusters? E no caso do dataset abaixo? Quantos clusters seriam?**"
   ]
  },
  {
   "cell_type": "markdown",
   "metadata": {},
   "source": [
    "![](https://media.giphy.com/media/hgCM9JNzlqAr6/giphy.gif)"
   ]
  },
  {
   "cell_type": "markdown",
   "metadata": {},
   "source": [
    "### Como escolher o número de clusters?"
   ]
  },
  {
   "cell_type": "markdown",
   "metadata": {},
   "source": [
    "![](https://media1.tenor.com/images/aa9c780acd020eaa5b11322b869f67fa/tenor.gif?itemid=5794186)"
   ]
  },
  {
   "cell_type": "markdown",
   "metadata": {},
   "source": [
    "## Avaliação dos clusters"
   ]
  },
  {
   "cell_type": "markdown",
   "metadata": {},
   "source": [
    "Como os dados não são rotulados, não podemos usar métricas de avaliação utilizadas em problemas de classificação como uma matriz de confusão, por exemplo.\n",
    "\n",
    "Para problemas de agrupamento, existem diversas métricas possíveis para avaliar o quão bons foram os agrupamentos encontrados. Hoje falaremos sobre uma delas: o *Elbow method*."
   ]
  },
  {
   "cell_type": "markdown",
   "metadata": {},
   "source": [
    "**Elbow method (\"método do cotovelo\")**\n",
    "\n",
    "Esse método nos fornece uma ideia de qual seria um bom número de clusters baseando-se na inércia entre os objetos e os centroides dos seus respectivos clusters. \n",
    "\n",
    "*Mas o que é essa \"inércia\"?*\n",
    "\n",
    "A **inércia** é uma medida calculada ao rodarmos o K-means e ela se baseia na soma das distâncias quadráticas de cada objeto para os centroides de seus respectivos clusters. Portanto, quanto maior for a inércia, maior será a dispersão dos clusters; quanto menor, mais os clusters estarão compactados."
   ]
  },
  {
   "cell_type": "markdown",
   "metadata": {},
   "source": [
    "\\begin{equation*}\n",
    "Inércia (k) = \\sum_{j=1}^{k}{\\sum_{x_i \\in cluster j}{||x_i - \\bar{x_j}||^2}},\n",
    "\\quad \\text{onde } \\bar{x_j} \\text{ é o centroide do cluster j}.\n",
    "\\end{equation*}"
   ]
  },
  {
   "cell_type": "markdown",
   "metadata": {},
   "source": [
    "![](figures/inercia.png)"
   ]
  },
  {
   "cell_type": "markdown",
   "metadata": {},
   "source": [
    "Para escolhermos o número de clusters, observamos o gráfico do cotovelo com as inércias e escolhemos o ponto no qual a inércia começa a ficar mais plano e formar um \"cotovelo\":"
   ]
  },
  {
   "cell_type": "code",
   "execution_count": null,
   "metadata": {},
   "outputs": [],
   "source": [
    "# Quantidade de clusters que serão testados\n",
    "k = list(range(1, 10))\n",
    "\n",
    "# Armazena das inércias para cada k\n",
    "inercia = []\n",
    "\n",
    "# Roda o K-means para cada k fornecido\n",
    "for i in k:\n",
    "    kmeans = KMeans(n_clusters=i)\n",
    "    kmeans.fit(df)\n",
    "    inercia.append(kmeans.inertia_)\n",
    "\n",
    "# Plota o gráfico com as inércias\n",
    "plt.plot(k, inercia, '-o')\n",
    "plt.xlabel(r'Número de clusters')\n",
    "plt.ylabel('Inércia')\n",
    "plt.show()"
   ]
  },
  {
   "cell_type": "markdown",
   "metadata": {},
   "source": [
    "Há diversos outros métodos de avaliação, alguns deles estão presentes no [sklearn](https://scikit-learn.org/stable/modules/clustering.html#clustering-evaluation):\n",
    "\n",
    "**Índices externos**\n",
    "\n",
    "Compara a estrutura de clusters descobertos com uma estrutura de grupos previamente conhecida.\n",
    "- índice de Rand\n",
    "- índice de Jaccard\n",
    "- índice de Folkes e Mallows\n",
    "\n",
    "\n",
    "**Índices internos**\n",
    "\n",
    "Analisa a estrutura de clusters descobertos com relação a algum critério, como compacidade e separabilidade.\n",
    "- índice Dunn\n",
    "- índice Davies-Bouldin\n",
    "- índice Silhouette\n"
   ]
  },
  {
   "cell_type": "markdown",
   "metadata": {},
   "source": [
    "*Apesar desses métodos fornecerem indícios do número de clusters ideal, também é importante ter um bom conhecimento sobre o domínio (ou envolver pessoas que o tenham no projeto!).*"
   ]
  },
  {
   "cell_type": "markdown",
   "metadata": {},
   "source": [
    "### Exercício 2 - compressão de cores de imagens"
   ]
  },
  {
   "cell_type": "markdown",
   "metadata": {},
   "source": [
    "Vamos fazer agora fazer mais um case com o K-Means, mas agora com imagens :D"
   ]
  },
  {
   "cell_type": "code",
   "execution_count": null,
   "metadata": {},
   "outputs": [],
   "source": [
    "# Importar a imagem\n",
    "img = plt.imread(\"data/mario.jpg\")\n",
    "plt.imshow(img)\n",
    "plt.show()"
   ]
  },
  {
   "cell_type": "code",
   "execution_count": null,
   "metadata": {},
   "outputs": [],
   "source": [
    "# dimensão da imagem\n",
    "img.shape"
   ]
  },
  {
   "cell_type": "code",
   "execution_count": null,
   "metadata": {},
   "outputs": [],
   "source": [
    "# redimensionar a imagem para termos somente duas dimensões de dados\n",
    "x, y, z = img.shape\n",
    "img_2d = img.reshape(x*y, z)\n",
    "img_2d.shape"
   ]
  },
  {
   "cell_type": "markdown",
   "metadata": {},
   "source": [
    "|   Pixel    | R   | G   | B   |\n",
    "|---------|-----|-----|-----|\n",
    "| Pixel 1 | 255 | 0   | 0   | \n",
    "| Pixel 2 | 255 | 102 | 102 | \n",
    "| Pixel 3 | 0   | 0   | 0   |  "
   ]
  },
  {
   "cell_type": "code",
   "execution_count": null,
   "metadata": {},
   "outputs": [],
   "source": [
    "# TODO\n",
    "# Escolha um número de clusters e use o K-means para realizar os agrupamentos\n",
    "kmeans_img = KMeans(n_clusters=)\n",
    "kmeans_img.fit(img_2d)\n",
    "\n",
    "cluster_centers = kmeans_img.cluster_centers_\n",
    "cluster_labels = kmeans_img.labels_"
   ]
  },
  {
   "cell_type": "code",
   "execution_count": null,
   "metadata": {},
   "outputs": [],
   "source": [
    "# Plotar a imagem após a compressão\n",
    "plt.imshow(cluster_centers[cluster_labels].reshape(x, y, z).astype(int))\n",
    "plt.show()"
   ]
  },
  {
   "cell_type": "markdown",
   "metadata": {},
   "source": [
    "### Vantagens do K-means\n",
    "?\n",
    "\n",
    "### Desvantagens do K-means\n",
    "?"
   ]
  },
  {
   "cell_type": "markdown",
   "metadata": {},
   "source": [
    "**O que podemos fazer para lidar com variáveis categóricas então?**\n",
    "\n",
    "?"
   ]
  },
  {
   "cell_type": "markdown",
   "metadata": {},
   "source": [
    "## Hierarquical clustering"
   ]
  },
  {
   "cell_type": "markdown",
   "metadata": {},
   "source": [
    "Os clusters são representados hierarquicamente por meio de diagrama representando uma árvore, chamado de *dendrograma*.\n",
    "\n",
    "**Tipos**:\n",
    "- **Aglomerativos**\n",
    "- **Divisivos**"
   ]
  },
  {
   "cell_type": "markdown",
   "metadata": {},
   "source": [
    "## Agrupamento hierárquico aglomerativo"
   ]
  },
  {
   "cell_type": "markdown",
   "metadata": {},
   "source": [
    "<tr>\n",
    "    <td> <img src=\"figures/fluxogramaHierarquico.png\"  /> </td>\n",
    "    <td> <img src=\"https://media.giphy.com/media/pSNCWCEAsgrAs/giphy.gif\" style=\"width: 700px;\"/> </td>\n",
    "</tr>"
   ]
  },
  {
   "cell_type": "markdown",
   "metadata": {},
   "source": [
    "**Quais são os critérios para agrupar os objetos?**\n"
   ]
  },
  {
   "cell_type": "markdown",
   "metadata": {},
   "source": [
    "### Uma métrica de distância\n",
    "- Distância euclidiana\n",
    "- Distância Manhattan\n",
    "- [Outras métricas aceitas](https://docs.scipy.org/doc/scipy/reference/generated/scipy.spatial.distance.pdist.html)\n",
    "\n",
    "### Um método de agrupamento\n",
    "- Single linkage\n",
    "- Complete linkage\n",
    "- Average linkage\n",
    "- Centroid linkage\n",
    "- [Outras abordagens aceitas](https://docs.scipy.org/doc/scipy/reference/generated/scipy.cluster.hierarchy.linkage.html#scipy.cluster.hierarchy.linkage)\n"
   ]
  },
  {
   "cell_type": "markdown",
   "metadata": {},
   "source": [
    "![](https://media.springernature.com/original/springer-static/image/chp%3A10.1007%2F978-3-319-07212-8_10/MediaObjects/318405_1_En_10_Fig2_HTML.gif)"
   ]
  },
  {
   "cell_type": "markdown",
   "metadata": {},
   "source": [
    "### Exercício 3 - segmentação de clientes (de novo!)"
   ]
  },
  {
   "cell_type": "markdown",
   "metadata": {},
   "source": [
    "Vamos utilizar o mesmo conjunto de dados utilizado no exercício do K-means para realizar um agrupamento hierárquico aglomerativo. Para esse agrupamento, precisaremos importar o dendograma do [Scipy](https://docs.scipy.org/doc/scipy/reference/cluster.hierarchy.html).\n",
    "\n",
    "O sklearn também possui um [módulo](https://scikit-learn.org/stable/modules/generated/sklearn.cluster.AgglomerativeClustering.html) para realizar um agrupamento hierárquico aglomerativo, mas é complicado visualizar o dendograma com ele, então vamos ficar com o scipy mesmo."
   ]
  },
  {
   "cell_type": "code",
   "execution_count": null,
   "metadata": {},
   "outputs": [],
   "source": [
    "# importar os módulos dendogram e linkage\n",
    "from scipy.cluster.hierarchy import dendrogram, linkage"
   ]
  },
  {
   "cell_type": "code",
   "execution_count": null,
   "metadata": {},
   "outputs": [],
   "source": [
    "# TODO\n",
    "# escolher um método de agrupamento e uma métrica de distância\n",
    "h_cluster = linkage(df, method=, metric=)"
   ]
  },
  {
   "cell_type": "code",
   "execution_count": null,
   "metadata": {},
   "outputs": [],
   "source": [
    "plt.title('Dendograma')\n",
    "plt.xlabel('Exemplos')\n",
    "plt.ylabel('Distância')\n",
    "dendrogram(h_cluster)\n",
    "plt.show()"
   ]
  },
  {
   "cell_type": "markdown",
   "metadata": {},
   "source": [
    "**Vamos testar outras abordagens de agrupamentos e métricas de distância?**"
   ]
  },
  {
   "cell_type": "markdown",
   "metadata": {},
   "source": [
    "![](https://media.giphy.com/media/12zV7u6Bh0vHpu/giphy.gif)"
   ]
  },
  {
   "cell_type": "markdown",
   "metadata": {},
   "source": [
    "**E como podemos escolher o número de clusters?**\n",
    "\n",
    "Podemos visualizar o dendograma e observar onde há a maior distância entre os grupos formados."
   ]
  },
  {
   "cell_type": "markdown",
   "metadata": {},
   "source": [
    "### Exemplo de aplicação real "
   ]
  },
  {
   "cell_type": "markdown",
   "metadata": {},
   "source": [
    "Agrupamentos hierárquicos são muito utilizados na área de bioinformática para construção de árvores filogenéticas:"
   ]
  },
  {
   "cell_type": "markdown",
   "metadata": {},
   "source": [
    "![filogenia](https://www.science20.com/files/Tree_1A.jpg)"
   ]
  },
  {
   "cell_type": "markdown",
   "metadata": {},
   "source": [
    "Para a [pesquisa](http://www.teses.usp.br/teses/disponiveis/100/100131/tde-28052017-221803/pt-br.php) abaixo, foi feito um agrupamento hierárquico aglomerativo para se obter uma árvore filogenética de bactérias do gênero *Xanthomonas* com base em suas famílias de genes. \n",
    "\n",
    "Para calcular a distância entre essas bactérias, foi utilizada a distância euclidiana e o método de agrupamento foi o complete linkage."
   ]
  },
  {
   "cell_type": "markdown",
   "metadata": {},
   "source": [
    "![mestrado](figures/mestrado.png)"
   ]
  },
  {
   "cell_type": "markdown",
   "metadata": {},
   "source": [
    "### Vantagens do agrupamento hierárquico\n",
    "?\n",
    "\n",
    "### Desvantagens do agrupamento hierárquico\n",
    "?"
   ]
  },
  {
   "cell_type": "markdown",
   "metadata": {},
   "source": [
    "## DBSCAN"
   ]
  },
  {
   "cell_type": "markdown",
   "metadata": {},
   "source": [
    "O DBSCAN é um método de clustering por densidade que busca por clusters definidos como regiões com alta densidade de objetos, separados por regiões de baixa densidade. \n",
    "\n",
    "Ele necessida dos seguintes parâmetros:\n",
    "\n",
    "- **ɛ** : raio da vizinhança ao redor do ponto P\n",
    "- **minPts**: número mínimo de pontos na vizinhança para que seja definido um cluster\n",
    "\n",
    "Com base nesses dois parâmetros, o DBSCAN categoria os pontos em três categorias:\n",
    "- **Core Points**: um ponto P é um core point se sua vizinhança contém ao menos minPts\n",
    "- **Border Points**: um ponto Q é um border point se sua vizinhança contem menos pontos que minPts, mas se Q é alcancável por algum core point P.\n",
    "- **Outlier**: um ponto O é um outlier se não for nem um core point e nem um border point"
   ]
  },
  {
   "cell_type": "markdown",
   "metadata": {},
   "source": [
    "<tr>\n",
    "    <td> <img src=\"figures/fluxogramaDBSCAN.png\"  /> </td>\n",
    "    <td> <img src=\"https://media.giphy.com/media/lCL2GQewp7fkk/giphy.gif\" style=\"width: 600px;\"/> </td>\n",
    "</tr>"
   ]
  },
  {
   "cell_type": "markdown",
   "metadata": {},
   "source": [
    "**Outro gif ilustrando o DBSCAN:**"
   ]
  },
  {
   "cell_type": "markdown",
   "metadata": {},
   "source": [
    "![](https://cdn-images-1.medium.com/max/800/1*tc8UF-h0nQqUfLC8-0uInQ.gif)"
   ]
  },
  {
   "cell_type": "markdown",
   "metadata": {},
   "source": [
    "### Exercício 4 - segmentação de clientes (de novo!²)"
   ]
  },
  {
   "cell_type": "markdown",
   "metadata": {},
   "source": [
    "Vamos utilizar novamente o conjunto do primeiro exercício com o DBSCAN, que vamos importar do [sklearn](https://scikit-learn.org/stable/modules/generated/sklearn.cluster.DBSCAN.html):"
   ]
  },
  {
   "cell_type": "code",
   "execution_count": null,
   "metadata": {},
   "outputs": [],
   "source": [
    "# Importar o DBSCAN\n",
    "from sklearn.cluster import DBSCAN"
   ]
  },
  {
   "cell_type": "code",
   "execution_count": null,
   "metadata": {},
   "outputs": [],
   "source": [
    "# TODO\n",
    "# Escolha um epsilon e um minPts\n",
    "dbscan = DBSCAN(eps = , min_samples = )\n",
    "# salvar os clusters atribuídos para cada exemplo\n",
    "clusters = dbscan.fit_predict(df)"
   ]
  },
  {
   "cell_type": "code",
   "execution_count": null,
   "metadata": {},
   "outputs": [],
   "source": [
    "# plota os clusters encontrados\n",
    "plt.scatter(df.visitas, df.tempo, c=clusters, alpha=0.5, cmap='rainbow')\n",
    "plt.xlabel('Tempo')\n",
    "plt.ylabel('Quantidade de visitas')\n",
    "plt.show()"
   ]
  },
  {
   "cell_type": "markdown",
   "metadata": {},
   "source": [
    "### Vantagens do DBSCAN\n",
    "?\n",
    "\n",
    "### Desvantagens do DBSCAN\n",
    "?"
   ]
  },
  {
   "cell_type": "markdown",
   "metadata": {},
   "source": [
    "### Outros métodos de clustering"
   ]
  },
  {
   "cell_type": "markdown",
   "metadata": {},
   "source": [
    "**Por partição**\n",
    "- K-medians\n",
    "- [K-modes](https://github.com/nicodv/kmodes)\n",
    "- K-prototypes\n",
    "\n",
    "**Por densidade/ hierárquico**\n",
    "- [HDBSCAN](https://hdbscan.readthedocs.io/en/latest/how_hdbscan_works.html) \n",
    "\n",
    "**Por distribuição**\n",
    "- Gaussian Mixture Models (GMMs)\n",
    "\n",
    "**Redes neurais**\n",
    "- Self Organizing Map (SOM)\n",
    "\n",
    "O [sklearn](https://scikit-learn.org/stable/modules/clustering.html) conta com mais alguns algoritmos de clustering e também tem uma comparação entre eles para vários conjuntos de dados:"
   ]
  },
  {
   "cell_type": "markdown",
   "metadata": {},
   "source": [
    "![](https://scikit-learn.org/stable/_images/sphx_glr_plot_cluster_comparison_0011.png)"
   ]
  },
  {
   "cell_type": "markdown",
   "metadata": {},
   "source": [
    "### ÚLTIMA PERGUNTA!"
   ]
  },
  {
   "cell_type": "markdown",
   "metadata": {},
   "source": [
    "![](https://media.giphy.com/media/xT0xeuOy2Fcl9vDGiA/giphy.gif)"
   ]
  },
  {
   "cell_type": "markdown",
   "metadata": {},
   "source": [
    "### Depois de ver todos esses algoritmos, quais aplicações poderíamos ter com eles?"
   ]
  },
  {
   "cell_type": "markdown",
   "metadata": {},
   "source": [
    "?"
   ]
  },
  {
   "cell_type": "markdown",
   "metadata": {},
   "source": [
    "### Para treinar"
   ]
  },
  {
   "cell_type": "markdown",
   "metadata": {},
   "source": [
    "- O repositório do [UCI](https://archive.ics.uci.edu/ml/datasets.php?format=&task=clu&att=&area=&numAtt=&numIns=&type=&sort=nameUp&view=table) contém alguns datasets para realizar clustering\n",
    "- Também pode-se retirar a classe de datasets existentes para problemas supervisionados e aplicar técnicas de aprendizado não supervisionado! "
   ]
  }
 ],
 "metadata": {
  "kernelspec": {
   "display_name": "Python 3",
   "language": "python",
   "name": "python3"
  },
  "language_info": {
   "codemirror_mode": {
    "name": "ipython",
    "version": 3
   },
   "file_extension": ".py",
   "mimetype": "text/x-python",
   "name": "python",
   "nbconvert_exporter": "python",
   "pygments_lexer": "ipython3",
   "version": "3.7.1"
  }
 },
 "nbformat": 4,
 "nbformat_minor": 2
}

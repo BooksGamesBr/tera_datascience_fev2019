{
 "cells": [
  {
   "cell_type": "markdown",
   "metadata": {},
   "source": [
    "![tera.png](images/tera.png)"
   ]
  },
  {
   "cell_type": "markdown",
   "metadata": {},
   "source": [
    "# Aula #5 - Desafio em Grupo & Checkpoint #1"
   ]
  },
  {
   "cell_type": "markdown",
   "metadata": {},
   "source": [
    "## Warm Up\n",
    "Precisamos de seis robôs<br>\n",
    "Levante a mão se você tem experiência com programação!\n",
    "\n",
    "![robot.png](images/robot.png)<br>\n",
    "### Parabéns! Você é o robô!\n",
    "\n",
    "As demais pessoas devem se dividir em seis grupos. Cada grupo vai receber um objetivo que deve ser cumprido pelo robô<br>\n",
    "O objetivo deve ser alcançado em 7 passos ou menos pelo robô e ele não pode saber qual o objetivo."
   ]
  },
  {
   "cell_type": "markdown",
   "metadata": {},
   "source": [
    "## Expectativas!\n",
    "O que vocês esperam da aula de hoje?\n",
    "\n",
    "![expectativas.png](images/expectativas.png)"
   ]
  },
  {
   "cell_type": "markdown",
   "metadata": {},
   "source": [
    "## O que veremos hoje"
   ]
  },
  {
   "cell_type": "markdown",
   "metadata": {},
   "source": [
    "* Lógica de programação\n",
    "* Funções\n",
    "* Tipos inputs\n",
    "* Controles de fluxo\n",
    "* Bibliotecas\n",
    "* Python!"
   ]
  },
  {
   "cell_type": "markdown",
   "metadata": {},
   "source": [
    "## O que não veremos hoje"
   ]
  },
  {
   "cell_type": "markdown",
   "metadata": {},
   "source": [
    "- Machine Learning"
   ]
  },
  {
   "cell_type": "markdown",
   "metadata": {},
   "source": [
    "![npte.gif](images/nope.gif)"
   ]
  },
  {
   "cell_type": "markdown",
   "metadata": {},
   "source": [
    "## Software e Plataformas\n",
    "![plat.png](images/plat.png)"
   ]
  },
  {
   "cell_type": "markdown",
   "metadata": {},
   "source": [
    "\n",
    "## Recapitulando o DataCamp\n",
    "![datacamp.png](images/datacamp.png)"
   ]
  },
  {
   "cell_type": "markdown",
   "metadata": {},
   "source": [
    "## Linguagem de Programação"
   ]
  },
  {
   "cell_type": "markdown",
   "metadata": {},
   "source": [
    "Quantas linguagem de programação existem?<br>\n",
    "Quantas vocês conhecem? <br>\n",
    "https://pt.wikipedia.org/wiki/Lista_de_linguagens_de_programa%C3%A7%C3%A3o <br>\n"
   ]
  },
  {
   "cell_type": "markdown",
   "metadata": {},
   "source": [
    "## Por que Python?"
   ]
  },
  {
   "cell_type": "markdown",
   "metadata": {},
   "source": [
    "![why.gif](images/why.gif)"
   ]
  },
  {
   "cell_type": "markdown",
   "metadata": {},
   "source": [
    "### Em C"
   ]
  },
  {
   "cell_type": "code",
   "execution_count": null,
   "metadata": {},
   "outputs": [],
   "source": [
    "#include <stdio.h>\n",
    "\n",
    "int main(void)\n",
    "{\n",
    "    printf(\"hello, world\\n\");\n",
    "}"
   ]
  },
  {
   "cell_type": "markdown",
   "metadata": {},
   "source": [
    "### Em Java"
   ]
  },
  {
   "cell_type": "code",
   "execution_count": null,
   "metadata": {},
   "outputs": [],
   "source": [
    "class HelloWorldApp {\n",
    "    public static void main(String[] args) {\n",
    "        System.out.println(\"Hello World!\"); \n",
    "    }\n",
    "}"
   ]
  },
  {
   "cell_type": "markdown",
   "metadata": {},
   "source": [
    "### Em Python"
   ]
  },
  {
   "cell_type": "code",
   "execution_count": 1,
   "metadata": {},
   "outputs": [
    {
     "name": "stdout",
     "output_type": "stream",
     "text": [
      "Hello World\n"
     ]
    }
   ],
   "source": [
    "print(\"Hello World\")"
   ]
  },
  {
   "cell_type": "markdown",
   "metadata": {},
   "source": [
    "## Funções"
   ]
  },
  {
   "cell_type": "markdown",
   "metadata": {},
   "source": [
    "O que precisamos para criar uma função em Python ..."
   ]
  },
  {
   "cell_type": "code",
   "execution_count": 2,
   "metadata": {},
   "outputs": [],
   "source": [
    "# Crie uma função que retonar a saudação \"Olá Nome!\"\n",
    "def welcome(nome) :\n",
    "    return('Olá ' + nome + '!' )"
   ]
  },
  {
   "cell_type": "code",
   "execution_count": 3,
   "metadata": {},
   "outputs": [
    {
     "data": {
      "text/plain": [
       "'Olá Thales!'"
      ]
     },
     "execution_count": 3,
     "metadata": {},
     "output_type": "execute_result"
    }
   ],
   "source": [
    "# Teste sua função aqui!\n",
    "welcome('Thales')"
   ]
  },
  {
   "cell_type": "markdown",
   "metadata": {},
   "source": [
    "<br>Vamos criar uma função que é capaz de calcular a média de preço das minha viagens de uber\n"
   ]
  },
  {
   "cell_type": "markdown",
   "metadata": {},
   "source": [
    "| Data|02/02/19|15/01/19|14/01/19|12/01/19|12/01/19|11/01/19|06/01/19|06/01/19|06/01/19|06/01/19|\n",
    "|-----|--------|--------|--------|--------|--------|--------|--------|--------|--------|--------|\n",
    "| R$  |  16,09 |  19,74 |  7,36  |  11,94 |  12,57 |  44,50 |  16,08 |  13,24 |  13,95 |  16,20 |\n"
   ]
  },
  {
   "cell_type": "markdown",
   "metadata": {},
   "source": [
    "Como vocês escreveriam esses dados para que o Python consiga entender?"
   ]
  },
  {
   "cell_type": "code",
   "execution_count": 4,
   "metadata": {},
   "outputs": [],
   "source": [
    "valor_uber = [16.09, 19.74, 7.36, 11.94, 12.57, 44.5, 16.08, 13.24, 13,95, 16.2]"
   ]
  },
  {
   "cell_type": "markdown",
   "metadata": {},
   "source": [
    "Crie a função que calcula a média do valor das viagens de Uber"
   ]
  },
  {
   "cell_type": "code",
   "execution_count": 5,
   "metadata": {},
   "outputs": [],
   "source": [
    "# To do\n",
    "def media(x) :\n",
    "    return(sum(x)/len(x))"
   ]
  },
  {
   "cell_type": "code",
   "execution_count": 6,
   "metadata": {},
   "outputs": [
    {
     "data": {
      "text/plain": [
       "24.156363636363633"
      ]
     },
     "execution_count": 6,
     "metadata": {},
     "output_type": "execute_result"
    }
   ],
   "source": [
    "# vamos testar\n",
    "media(valor_uber)"
   ]
  },
  {
   "cell_type": "markdown",
   "metadata": {},
   "source": [
    "Tá-daa! Conseguimos criar a função e ela fez o que nós queriamos. Qual alternativa podemos utilizar ao inves de criar uma a uma?"
   ]
  },
  {
   "cell_type": "code",
   "execution_count": 7,
   "metadata": {},
   "outputs": [],
   "source": [
    "import numpy as np"
   ]
  },
  {
   "cell_type": "code",
   "execution_count": 8,
   "metadata": {
    "scrolled": true
   },
   "outputs": [
    {
     "data": {
      "text/plain": [
       "24.156363636363633"
      ]
     },
     "execution_count": 8,
     "metadata": {},
     "output_type": "execute_result"
    }
   ],
   "source": [
    "np.mean(valor_uber)"
   ]
  },
  {
   "cell_type": "markdown",
   "metadata": {},
   "source": [
    "## Ferramentas: If, elif, else, while, for e range "
   ]
  },
  {
   "cell_type": "markdown",
   "metadata": {},
   "source": [
    "Se quisermos controlar como uma função vai se comportar dado uma situação em específico, podemosd usar controladores de fluxo, os quais vão ditar as regras do jogo dentro da nossa função"
   ]
  },
  {
   "cell_type": "markdown",
   "metadata": {},
   "source": [
    "Podemos criar uma ferramenta que nos ajuda no dia-a-dia!"
   ]
  },
  {
   "cell_type": "code",
   "execution_count": 9,
   "metadata": {},
   "outputs": [],
   "source": [
    "def semaforo(cor) :\n",
    "    if cor == 'verde' :\n",
    "        acao = 'Prosseguir!'\n",
    "    elif cor == 'vermelho' :\n",
    "        acao = 'Parar!'\n",
    "    else :\n",
    "        acao = 'Atenção!'\n",
    "    return(acao)"
   ]
  },
  {
   "cell_type": "code",
   "execution_count": 10,
   "metadata": {},
   "outputs": [
    {
     "data": {
      "text/plain": [
       "'Prosseguir!'"
      ]
     },
     "execution_count": 10,
     "metadata": {},
     "output_type": "execute_result"
    }
   ],
   "source": [
    "semaforo('verde')"
   ]
  },
  {
   "cell_type": "code",
   "execution_count": 11,
   "metadata": {},
   "outputs": [
    {
     "data": {
      "text/plain": [
       "'Parar!'"
      ]
     },
     "execution_count": 11,
     "metadata": {},
     "output_type": "execute_result"
    }
   ],
   "source": [
    "semaforo('vermelho')"
   ]
  },
  {
   "cell_type": "code",
   "execution_count": 12,
   "metadata": {},
   "outputs": [
    {
     "data": {
      "text/plain": [
       "'Atenção!'"
      ]
     },
     "execution_count": 12,
     "metadata": {},
     "output_type": "execute_result"
    }
   ],
   "source": [
    "semaforo('amarelo')"
   ]
  },
  {
   "cell_type": "code",
   "execution_count": 13,
   "metadata": {},
   "outputs": [
    {
     "data": {
      "text/plain": [
       "'Atenção!'"
      ]
     },
     "execution_count": 13,
     "metadata": {},
     "output_type": "execute_result"
    }
   ],
   "source": [
    "semaforo('desligado')"
   ]
  },
  {
   "cell_type": "markdown",
   "metadata": {},
   "source": [
    "Quais situações apresentadas a você seriam possíveis de resolver com essa ferramenta?"
   ]
  },
  {
   "cell_type": "markdown",
   "metadata": {},
   "source": [
    "E se quisermos ser mais rigorosos com a segurança no transito?\n",
    "Podemos sugerir para o motorista que ele pare tanto quando a cor for amarela ou vermelho, usando `or` dentro do `elif`"
   ]
  },
  {
   "cell_type": "code",
   "execution_count": 14,
   "metadata": {},
   "outputs": [],
   "source": [
    "# To do\n",
    "def semaforo(cor) :\n",
    "    if cor == 'verde' :\n",
    "        acao = 'Prosseguir!'\n",
    "    elif cor == 'vermelho' or cor == 'amarelo':\n",
    "        acao = 'Parar!'\n",
    "    else :\n",
    "        acao = 'Atenção!'\n",
    "    return(acao)"
   ]
  },
  {
   "cell_type": "code",
   "execution_count": 15,
   "metadata": {},
   "outputs": [
    {
     "data": {
      "text/plain": [
       "'Parar!'"
      ]
     },
     "execution_count": 15,
     "metadata": {},
     "output_type": "execute_result"
    }
   ],
   "source": [
    "semaforo('vermelho')"
   ]
  },
  {
   "cell_type": "code",
   "execution_count": 16,
   "metadata": {},
   "outputs": [
    {
     "data": {
      "text/plain": [
       "'Parar!'"
      ]
     },
     "execution_count": 16,
     "metadata": {},
     "output_type": "execute_result"
    }
   ],
   "source": [
    "semaforo('amarelo')"
   ]
  },
  {
   "cell_type": "markdown",
   "metadata": {},
   "source": [
    "Vamos fazer uma contagem regressiva para o semaforo mudar do vermelho para o verde? \n",
    "\n",
    "Quais condicionais vocês usariam para completar essa tarefa?"
   ]
  },
  {
   "cell_type": "code",
   "execution_count": 17,
   "metadata": {},
   "outputs": [],
   "source": [
    "def contagem_regressiava_while(tempo) :\n",
    "    while (tempo > 0) :\n",
    "        print(tempo)\n",
    "        tempo = tempo - 1\n",
    "    print('Go go go!!!!')"
   ]
  },
  {
   "cell_type": "code",
   "execution_count": 18,
   "metadata": {},
   "outputs": [
    {
     "name": "stdout",
     "output_type": "stream",
     "text": [
      "3\n",
      "2\n",
      "1\n",
      "Go go go!!!!\n"
     ]
    }
   ],
   "source": [
    "contagem_regressiava_while(3)"
   ]
  },
  {
   "cell_type": "markdown",
   "metadata": {},
   "source": [
    "Podemos usar o `for` e o `range` para ter o mesmo efeito de contagem regressiva"
   ]
  },
  {
   "cell_type": "code",
   "execution_count": 19,
   "metadata": {},
   "outputs": [],
   "source": [
    "def contagem_regressiva_for(tempo):\n",
    "    for numero in range(tempo, 0, -1):\n",
    "        print(numero)\n",
    "    print('Go go go!!!!')"
   ]
  },
  {
   "cell_type": "code",
   "execution_count": 20,
   "metadata": {},
   "outputs": [
    {
     "name": "stdout",
     "output_type": "stream",
     "text": [
      "3\n",
      "2\n",
      "1\n",
      "Go go go!!!!\n"
     ]
    }
   ],
   "source": [
    "contagem_regressiva_for(3)"
   ]
  },
  {
   "cell_type": "markdown",
   "metadata": {},
   "source": [
    "## Desafio"
   ]
  },
  {
   "cell_type": "markdown",
   "metadata": {},
   "source": [
    "Vamos fazer uma contagem regresiva reversa? Vamos fazer os números aparecerem na ordem crescente!\n",
    "\n",
    "Coloque um `print` da sua escolha no final, para garantir que deu certo! Uhulllll!"
   ]
  },
  {
   "cell_type": "code",
   "execution_count": 21,
   "metadata": {},
   "outputs": [],
   "source": [
    "def contagem_reversa(tempo):\n",
    "    while tempo < 4:\n",
    "        print(tempo)\n",
    "        tempo = tempo + 1\n",
    "    print(\"Go go go!!!!\")"
   ]
  },
  {
   "cell_type": "code",
   "execution_count": 22,
   "metadata": {},
   "outputs": [
    {
     "name": "stdout",
     "output_type": "stream",
     "text": [
      "1\n",
      "2\n",
      "3\n",
      "Go go go!!!!\n"
     ]
    }
   ],
   "source": [
    "contagem_reversa(1)"
   ]
  },
  {
   "cell_type": "code",
   "execution_count": 23,
   "metadata": {},
   "outputs": [],
   "source": [
    "def contagem_reversa(tempo):\n",
    "    for numero in range(1, tempo + 1, 1):\n",
    "        print(numero)\n",
    "    print(\"Go go go!!!!\")"
   ]
  },
  {
   "cell_type": "code",
   "execution_count": 24,
   "metadata": {},
   "outputs": [
    {
     "name": "stdout",
     "output_type": "stream",
     "text": [
      "1\n",
      "2\n",
      "3\n",
      "Go go go!!!!\n"
     ]
    }
   ],
   "source": [
    "contagem_reversa(3)"
   ]
  },
  {
   "cell_type": "markdown",
   "metadata": {},
   "source": [
    "## Estruturas: strings, int, floats, listas, tuplas, conjuntos e dicionários"
   ]
  },
  {
   "cell_type": "markdown",
   "metadata": {},
   "source": [
    "### Strings"
   ]
  },
  {
   "cell_type": "markdown",
   "metadata": {},
   "source": [
    "Podemos declarar uma variável como uma `string` nomeando-a e colocando entre aspas"
   ]
  },
  {
   "cell_type": "code",
   "execution_count": 25,
   "metadata": {},
   "outputs": [],
   "source": [
    "startup = 'tera'"
   ]
  },
  {
   "cell_type": "code",
   "execution_count": 26,
   "metadata": {},
   "outputs": [
    {
     "name": "stdout",
     "output_type": "stream",
     "text": [
      "Tipo: <class 'str'>\n"
     ]
    }
   ],
   "source": [
    "print('Tipo: {0}'.format(type(startup)))"
   ]
  },
  {
   "cell_type": "code",
   "execution_count": 27,
   "metadata": {},
   "outputs": [
    {
     "data": {
      "text/plain": [
       "'tera'"
      ]
     },
     "execution_count": 27,
     "metadata": {},
     "output_type": "execute_result"
    }
   ],
   "source": [
    "startup"
   ]
  },
  {
   "cell_type": "markdown",
   "metadata": {},
   "source": [
    "Podemos acessar as letras específicas da palavra. Se quisermos acessar o `t` de tera, podemos fazer assim:"
   ]
  },
  {
   "cell_type": "code",
   "execution_count": 28,
   "metadata": {},
   "outputs": [
    {
     "data": {
      "text/plain": [
       "'t'"
      ]
     },
     "execution_count": 28,
     "metadata": {},
     "output_type": "execute_result"
    }
   ],
   "source": [
    "startup[0]"
   ]
  },
  {
   "cell_type": "markdown",
   "metadata": {},
   "source": [
    "Mas o `t` da Tera é maiusculo, vamos ver se posso muda-lo depois de declarar a variável"
   ]
  },
  {
   "cell_type": "code",
   "execution_count": 29,
   "metadata": {},
   "outputs": [
    {
     "ename": "TypeError",
     "evalue": "'str' object does not support item assignment",
     "output_type": "error",
     "traceback": [
      "\u001b[1;31m---------------------------------------------------------------------------\u001b[0m",
      "\u001b[1;31mTypeError\u001b[0m                                 Traceback (most recent call last)",
      "\u001b[1;32m<ipython-input-29-d93b15fa0468>\u001b[0m in \u001b[0;36m<module>\u001b[1;34m\u001b[0m\n\u001b[1;32m----> 1\u001b[1;33m \u001b[0mstartup\u001b[0m\u001b[1;33m[\u001b[0m\u001b[1;36m0\u001b[0m\u001b[1;33m]\u001b[0m \u001b[1;33m=\u001b[0m \u001b[1;34m'T'\u001b[0m\u001b[1;33m\u001b[0m\u001b[0m\n\u001b[0m",
      "\u001b[1;31mTypeError\u001b[0m: 'str' object does not support item assignment"
     ]
    }
   ],
   "source": [
    "startup[0] = 'T'"
   ]
  },
  {
   "cell_type": "markdown",
   "metadata": {},
   "source": [
    "Ops! As strings são imutáveis. Como podemos corrigi-las? Basta declara-la novamente"
   ]
  },
  {
   "cell_type": "code",
   "execution_count": 30,
   "metadata": {},
   "outputs": [],
   "source": [
    "startup = 'Tera'"
   ]
  },
  {
   "cell_type": "code",
   "execution_count": 31,
   "metadata": {},
   "outputs": [
    {
     "name": "stdout",
     "output_type": "stream",
     "text": [
      "Tera\n"
     ]
    }
   ],
   "source": [
    "print(startup)"
   ]
  },
  {
   "cell_type": "markdown",
   "metadata": {},
   "source": [
    "Onde as caracteristicas das `strings` podem influenciar no seu dia-a-dia?"
   ]
  },
  {
   "cell_type": "markdown",
   "metadata": {},
   "source": [
    "### Tuplas"
   ]
  },
  {
   "cell_type": "code",
   "execution_count": 34,
   "metadata": {},
   "outputs": [],
   "source": [
    "key_words = ('python', 'data science', 'machine learning', 'programação', 'jupiter')"
   ]
  },
  {
   "cell_type": "code",
   "execution_count": 35,
   "metadata": {},
   "outputs": [
    {
     "name": "stdout",
     "output_type": "stream",
     "text": [
      "Tipo: <class 'tuple'>\n"
     ]
    }
   ],
   "source": [
    "print('Tipo: {0}'.format(type(key_words)))"
   ]
  },
  {
   "cell_type": "markdown",
   "metadata": {},
   "source": [
    "Poxa! Escrevi o nome do ambiente errado, ao invés de `Jupyter` escrevi `Jupiter`. \n",
    "\n",
    "Vamos tentar subistitui-lo!"
   ]
  },
  {
   "cell_type": "code",
   "execution_count": 36,
   "metadata": {},
   "outputs": [
    {
     "data": {
      "text/plain": [
       "'python'"
      ]
     },
     "execution_count": 36,
     "metadata": {},
     "output_type": "execute_result"
    }
   ],
   "source": [
    "key_words[0]"
   ]
  },
  {
   "cell_type": "markdown",
   "metadata": {},
   "source": [
    "Em python, os índices começam em `zero`. Então no caso da `tupla` que criamos, a palavra `jupiter` está na no indice `4`\n",
    "\n",
    "Porem, como ele é o último item da nossa tupla, podemos usar também o `-1`"
   ]
  },
  {
   "cell_type": "code",
   "execution_count": 37,
   "metadata": {},
   "outputs": [
    {
     "data": {
      "text/plain": [
       "'jupiter'"
      ]
     },
     "execution_count": 37,
     "metadata": {},
     "output_type": "execute_result"
    }
   ],
   "source": [
    "key_words[4]"
   ]
  },
  {
   "cell_type": "code",
   "execution_count": 38,
   "metadata": {},
   "outputs": [
    {
     "data": {
      "text/plain": [
       "'jupiter'"
      ]
     },
     "execution_count": 38,
     "metadata": {},
     "output_type": "execute_result"
    }
   ],
   "source": [
    "key_words[-1]"
   ]
  },
  {
   "cell_type": "code",
   "execution_count": 39,
   "metadata": {},
   "outputs": [
    {
     "ename": "TypeError",
     "evalue": "'tuple' object does not support item assignment",
     "output_type": "error",
     "traceback": [
      "\u001b[1;31m---------------------------------------------------------------------------\u001b[0m",
      "\u001b[1;31mTypeError\u001b[0m                                 Traceback (most recent call last)",
      "\u001b[1;32m<ipython-input-39-df949d6fc553>\u001b[0m in \u001b[0;36m<module>\u001b[1;34m\u001b[0m\n\u001b[1;32m----> 1\u001b[1;33m \u001b[0mkey_words\u001b[0m\u001b[1;33m[\u001b[0m\u001b[1;33m-\u001b[0m\u001b[1;36m1\u001b[0m\u001b[1;33m]\u001b[0m \u001b[1;33m=\u001b[0m \u001b[1;34m'jupyter'\u001b[0m\u001b[1;33m\u001b[0m\u001b[0m\n\u001b[0m",
      "\u001b[1;31mTypeError\u001b[0m: 'tuple' object does not support item assignment"
     ]
    }
   ],
   "source": [
    "key_words[-1] = 'jupyter'"
   ]
  },
  {
   "cell_type": "markdown",
   "metadata": {},
   "source": [
    "Assim como as `strings`, as `tuplas` são imutáveis. \n",
    "\n",
    "Como poderiamos inserir os nossos dados de forma que eles possam ser alterados?"
   ]
  },
  {
   "cell_type": "code",
   "execution_count": 5,
   "metadata": {},
   "outputs": [],
   "source": [
    "#.\n",
    "#.##\n",
    "#.\n",
    "key_words = ['python', 'data science', 'machine learning', 'programação', 'jupiter']"
   ]
  },
  {
   "cell_type": "markdown",
   "metadata": {},
   "source": [
    "Agora quando tentamos substituir o erro de digitação do `jupyter`, temos sucesso!"
   ]
  },
  {
   "cell_type": "code",
   "execution_count": 41,
   "metadata": {},
   "outputs": [],
   "source": [
    "key_words[-1] ='jupyter'"
   ]
  },
  {
   "cell_type": "code",
   "execution_count": 42,
   "metadata": {},
   "outputs": [
    {
     "data": {
      "text/plain": [
       "['python', 'data science', 'machine learning', 'programação', 'jupyter']"
      ]
     },
     "execution_count": 42,
     "metadata": {},
     "output_type": "execute_result"
    }
   ],
   "source": [
    "key_words"
   ]
  },
  {
   "cell_type": "markdown",
   "metadata": {},
   "source": [
    "Ta-dá!"
   ]
  },
  {
   "cell_type": "markdown",
   "metadata": {},
   "source": [
    "## Desafio\n",
    "O que acontece se fizermos lista com tuplas, tuplas com listas, tuplas com tuplas e listas com listas?\n",
    "\n",
    "E se quisermos editar, quais conseguimos, quais não?"
   ]
  },
  {
   "cell_type": "code",
   "execution_count": 43,
   "metadata": {},
   "outputs": [],
   "source": [
    "# To do - Lista com tuplas\n",
    "lct = [1, 'a', (1, 2)]"
   ]
  },
  {
   "cell_type": "code",
   "execution_count": 44,
   "metadata": {},
   "outputs": [],
   "source": [
    "# To do - Tupla com lista\n",
    "tcl = ('a', 1, ['tera', 'code'])"
   ]
  },
  {
   "cell_type": "code",
   "execution_count": 45,
   "metadata": {},
   "outputs": [],
   "source": [
    "# To do - Tupla com tupla\n",
    "tct = (1, 'pc', (4, 'X'))"
   ]
  },
  {
   "cell_type": "code",
   "execution_count": 46,
   "metadata": {},
   "outputs": [],
   "source": [
    "# To do - Lista com lista\n",
    "lcl = ['tera', 42, ['Oi', 55]]"
   ]
  },
  {
   "cell_type": "markdown",
   "metadata": {},
   "source": [
    "Como vocês acham que isso pode afetar a vida de vocês?"
   ]
  },
  {
   "cell_type": "markdown",
   "metadata": {},
   "source": [
    "### Dicionários"
   ]
  },
  {
   "cell_type": "markdown",
   "metadata": {},
   "source": [
    "Vamos conhecer mais um jeito de organizar nossas informações em Python, são os dicionários"
   ]
  },
  {
   "cell_type": "code",
   "execution_count": 8,
   "metadata": {},
   "outputs": [],
   "source": [
    "informacoes = {'Nome' : 'Thales',\n",
    "               'Idade' : 25,\n",
    "               'Idiomas' : ['PT-BR EN']}"
   ]
  },
  {
   "cell_type": "code",
   "execution_count": 9,
   "metadata": {},
   "outputs": [
    {
     "ename": "KeyError",
     "evalue": "0",
     "output_type": "error",
     "traceback": [
      "\u001b[1;31m---------------------------------------------------------------------------\u001b[0m",
      "\u001b[1;31mKeyError\u001b[0m                                  Traceback (most recent call last)",
      "\u001b[1;32m<ipython-input-9-d541447c734b>\u001b[0m in \u001b[0;36m<module>\u001b[1;34m\u001b[0m\n\u001b[1;32m----> 1\u001b[1;33m \u001b[0minformacoes\u001b[0m\u001b[1;33m[\u001b[0m\u001b[1;36m0\u001b[0m\u001b[1;33m]\u001b[0m\u001b[1;33m\u001b[0m\u001b[0m\n\u001b[0m",
      "\u001b[1;31mKeyError\u001b[0m: 0"
     ]
    }
   ],
   "source": [
    "informacoes[0]"
   ]
  },
  {
   "cell_type": "code",
   "execution_count": 13,
   "metadata": {},
   "outputs": [
    {
     "data": {
      "text/plain": [
       "'THALES'"
      ]
     },
     "execution_count": 13,
     "metadata": {},
     "output_type": "execute_result"
    }
   ],
   "source": [
    "informacoes['Nome']"
   ]
  },
  {
   "cell_type": "markdown",
   "metadata": {},
   "source": [
    "### Conseguem separar somente o 'Tha' do meu nome?"
   ]
  },
  {
   "cell_type": "code",
   "execution_count": 17,
   "metadata": {},
   "outputs": [
    {
     "data": {
      "text/plain": [
       "'THA'"
      ]
     },
     "execution_count": 17,
     "metadata": {},
     "output_type": "execute_result"
    }
   ],
   "source": [
    "informacoes['Nome'][0:3]"
   ]
  },
  {
   "cell_type": "markdown",
   "metadata": {},
   "source": [
    "### Como separar os idiomas em duas string e criar uma nova lista para o dicionário?"
   ]
  },
  {
   "cell_type": "code",
   "execution_count": 23,
   "metadata": {},
   "outputs": [],
   "source": [
    "informacoes['Idiomas'] = informacoes['Idiomas'][0].split()"
   ]
  },
  {
   "cell_type": "code",
   "execution_count": 24,
   "metadata": {},
   "outputs": [
    {
     "data": {
      "text/plain": [
       "['PT-BR', 'EN']"
      ]
     },
     "execution_count": 24,
     "metadata": {},
     "output_type": "execute_result"
    }
   ],
   "source": [
    "informacoes['Idiomas']"
   ]
  },
  {
   "cell_type": "code",
   "execution_count": 27,
   "metadata": {},
   "outputs": [
    {
     "data": {
      "text/plain": [
       "'PT-BR'"
      ]
     },
     "execution_count": 27,
     "metadata": {},
     "output_type": "execute_result"
    }
   ],
   "source": [
    "# Nesse caso, como estamos acessando uma lista, primeiro selecionamos o índice\n",
    "informacoes['Idiomas'][0]"
   ]
  },
  {
   "cell_type": "code",
   "execution_count": 28,
   "metadata": {},
   "outputs": [
    {
     "data": {
      "text/plain": [
       "'BR'"
      ]
     },
     "execution_count": 28,
     "metadata": {},
     "output_type": "execute_result"
    }
   ],
   "source": [
    "#Caso queira imprimir somente uma parte do texto, após acessar o elemento da lista, é só selecionar os indices na palavra\n",
    "informacoes['Idiomas'][0][3:]"
   ]
  },
  {
   "cell_type": "markdown",
   "metadata": {},
   "source": [
    "### Desafio"
   ]
  },
  {
   "cell_type": "markdown",
   "metadata": {},
   "source": [
    "Faça com que o jupyter só mostre a palavra `Tera` do dicionário abaixo, em seguida subistitua-o por `Somos Tera`"
   ]
  },
  {
   "cell_type": "code",
   "execution_count": 30,
   "metadata": {},
   "outputs": [],
   "source": [
    "desafio =  {'Cor' : ['Verde', 'Preto'], 'Casas' : [101, ('Olá', 1_044_34, ['2A', 9/3])], 'E@' : ['jupyter', 111, ['aret', (1, ['Tera'])]]}"
   ]
  },
  {
   "cell_type": "code",
   "execution_count": 31,
   "metadata": {},
   "outputs": [
    {
     "data": {
      "text/plain": [
       "'Tera'"
      ]
     },
     "execution_count": 31,
     "metadata": {},
     "output_type": "execute_result"
    }
   ],
   "source": [
    "desafio['E@'][2][1][1][0]"
   ]
  },
  {
   "cell_type": "code",
   "execution_count": 32,
   "metadata": {},
   "outputs": [],
   "source": [
    "desafio['E@'][2][1][1][0] = 'Somos Tera'"
   ]
  },
  {
   "cell_type": "code",
   "execution_count": 33,
   "metadata": {},
   "outputs": [
    {
     "data": {
      "text/plain": [
       "{'Cor': ['Verde', 'Preto'],\n",
       " 'Casas': [101, ('Olá', 104434, ['2A', 3.0])],\n",
       " 'E@': ['jupyter', 111, ['aret', (1, ['Somos Tera'])]]}"
      ]
     },
     "execution_count": 33,
     "metadata": {},
     "output_type": "execute_result"
    }
   ],
   "source": [
    "desafio"
   ]
  },
  {
   "cell_type": "markdown",
   "metadata": {},
   "source": [
    "![show.gif](images/show.gif)"
   ]
  },
  {
   "cell_type": "markdown",
   "metadata": {},
   "source": [
    "## Vamos ao nosso primeiro Dataset do Bootcamp!"
   ]
  },
  {
   "cell_type": "markdown",
   "metadata": {},
   "source": [
    "Vamos começar importando o Pandas!"
   ]
  },
  {
   "cell_type": "code",
   "execution_count": 2,
   "metadata": {},
   "outputs": [],
   "source": [
    "import pandas as pd"
   ]
  },
  {
   "cell_type": "markdown",
   "metadata": {},
   "source": [
    "Vamos fazer a leitura de um dataset sobre o YouTube, que está disponível no Kaggle<br>\n",
    "https://www.kaggle.com/mdhrumil/top-5000-youtube-channels-data-from-socialblade/version/2\n",
    "\n",
    "Algumas alterações foram feitas no dataset para facilitar o uso durante a aula. Essas manipulações podem ser encontradas no notebook chamado `Manipulando_Dataset`"
   ]
  },
  {
   "cell_type": "code",
   "execution_count": 3,
   "metadata": {},
   "outputs": [],
   "source": [
    "# Crie uma DataFrame lendo o arquivo `youtube.csv`\n",
    "df = pd.read_csv('../data/youtube.csv')"
   ]
  },
  {
   "cell_type": "code",
   "execution_count": 4,
   "metadata": {},
   "outputs": [
    {
     "data": {
      "text/html": [
       "<div>\n",
       "<style scoped>\n",
       "    .dataframe tbody tr th:only-of-type {\n",
       "        vertical-align: middle;\n",
       "    }\n",
       "\n",
       "    .dataframe tbody tr th {\n",
       "        vertical-align: top;\n",
       "    }\n",
       "\n",
       "    .dataframe thead th {\n",
       "        text-align: right;\n",
       "    }\n",
       "</style>\n",
       "<table border=\"1\" class=\"dataframe\">\n",
       "  <thead>\n",
       "    <tr style=\"text-align: right;\">\n",
       "      <th></th>\n",
       "      <th>Rank</th>\n",
       "      <th>Grade</th>\n",
       "      <th>Channel name</th>\n",
       "      <th>Video Uploads</th>\n",
       "      <th>Subscribers</th>\n",
       "      <th>Video views</th>\n",
       "    </tr>\n",
       "  </thead>\n",
       "  <tbody>\n",
       "    <tr>\n",
       "      <th>0</th>\n",
       "      <td>1st</td>\n",
       "      <td>A++</td>\n",
       "      <td>Zee TV</td>\n",
       "      <td>82757</td>\n",
       "      <td>18752951</td>\n",
       "      <td>20869786591</td>\n",
       "    </tr>\n",
       "    <tr>\n",
       "      <th>1</th>\n",
       "      <td>2nd</td>\n",
       "      <td>A++</td>\n",
       "      <td>T-Series</td>\n",
       "      <td>12661</td>\n",
       "      <td>61196302</td>\n",
       "      <td>47548839843</td>\n",
       "    </tr>\n",
       "    <tr>\n",
       "      <th>2</th>\n",
       "      <td>3rd</td>\n",
       "      <td>A++</td>\n",
       "      <td>Cocomelon - Nursery Rhymes</td>\n",
       "      <td>373</td>\n",
       "      <td>19238251</td>\n",
       "      <td>9793305082</td>\n",
       "    </tr>\n",
       "    <tr>\n",
       "      <th>3</th>\n",
       "      <td>4th</td>\n",
       "      <td>A++</td>\n",
       "      <td>SET India</td>\n",
       "      <td>27323</td>\n",
       "      <td>31180559</td>\n",
       "      <td>22675948293</td>\n",
       "    </tr>\n",
       "    <tr>\n",
       "      <th>4</th>\n",
       "      <td>5th</td>\n",
       "      <td>A++</td>\n",
       "      <td>WWE</td>\n",
       "      <td>36756</td>\n",
       "      <td>32852346</td>\n",
       "      <td>26273668433</td>\n",
       "    </tr>\n",
       "  </tbody>\n",
       "</table>\n",
       "</div>"
      ],
      "text/plain": [
       "  Rank Grade                Channel name  Video Uploads  Subscribers  \\\n",
       "0  1st  A++                       Zee TV          82757     18752951   \n",
       "1  2nd  A++                     T-Series          12661     61196302   \n",
       "2  3rd  A++   Cocomelon - Nursery Rhymes            373     19238251   \n",
       "3  4th  A++                    SET India          27323     31180559   \n",
       "4  5th  A++                          WWE          36756     32852346   \n",
       "\n",
       "   Video views  \n",
       "0  20869786591  \n",
       "1  47548839843  \n",
       "2   9793305082  \n",
       "3  22675948293  \n",
       "4  26273668433  "
      ]
     },
     "execution_count": 4,
     "metadata": {},
     "output_type": "execute_result"
    }
   ],
   "source": [
    "# To do - Visualize as primeiras linhas do DataFrame\n",
    "df.head()"
   ]
  },
  {
   "cell_type": "markdown",
   "metadata": {},
   "source": [
    "## Desafio YouTube\n",
    "Mostre os dados dos canais que tem mais vídeos, mais inscritos e o que tem mais visualizações<br>\n",
    "Utilize o `pandas` para essa tarefa"
   ]
  },
  {
   "cell_type": "code",
   "execution_count": 102,
   "metadata": {},
   "outputs": [],
   "source": [
    "mais_videos = df.loc[df['Video Uploads'] == df['Video Uploads'].max()]\n",
    "mais_inscritos = df.loc[df['Subscribers'] == df['Subscribers'].max()]\n",
    "mais_views = df.loc[df['Video views'] == df['Video views'].max()]"
   ]
  },
  {
   "cell_type": "markdown",
   "metadata": {},
   "source": [
    "#### Os dados do canal com mais vídeos"
   ]
  },
  {
   "cell_type": "code",
   "execution_count": 103,
   "metadata": {
    "scrolled": true
   },
   "outputs": [
    {
     "data": {
      "text/html": [
       "<div>\n",
       "<style scoped>\n",
       "    .dataframe tbody tr th:only-of-type {\n",
       "        vertical-align: middle;\n",
       "    }\n",
       "\n",
       "    .dataframe tbody tr th {\n",
       "        vertical-align: top;\n",
       "    }\n",
       "\n",
       "    .dataframe thead th {\n",
       "        text-align: right;\n",
       "    }\n",
       "</style>\n",
       "<table border=\"1\" class=\"dataframe\">\n",
       "  <thead>\n",
       "    <tr style=\"text-align: right;\">\n",
       "      <th></th>\n",
       "      <th>Rank</th>\n",
       "      <th>Grade</th>\n",
       "      <th>Channel name</th>\n",
       "      <th>Video Uploads</th>\n",
       "      <th>Subscribers</th>\n",
       "      <th>Video views</th>\n",
       "    </tr>\n",
       "  </thead>\n",
       "  <tbody>\n",
       "    <tr>\n",
       "      <th>3453</th>\n",
       "      <td>3,454th</td>\n",
       "      <td>B+</td>\n",
       "      <td>AP Archive</td>\n",
       "      <td>422326</td>\n",
       "      <td>746325</td>\n",
       "      <td>548619569</td>\n",
       "    </tr>\n",
       "  </tbody>\n",
       "</table>\n",
       "</div>"
      ],
      "text/plain": [
       "         Rank Grade Channel name  Video Uploads  Subscribers  Video views\n",
       "3453  3,454th   B+    AP Archive         422326       746325    548619569"
      ]
     },
     "execution_count": 103,
     "metadata": {},
     "output_type": "execute_result"
    }
   ],
   "source": [
    "# Mostre os dados dos canais com mais vídeos\n",
    "mais_videos"
   ]
  },
  {
   "cell_type": "markdown",
   "metadata": {},
   "source": [
    "#### Os dados do canal com mais inscritos"
   ]
  },
  {
   "cell_type": "code",
   "execution_count": 107,
   "metadata": {
    "scrolled": true
   },
   "outputs": [
    {
     "data": {
      "text/html": [
       "<div>\n",
       "<style scoped>\n",
       "    .dataframe tbody tr th:only-of-type {\n",
       "        vertical-align: middle;\n",
       "    }\n",
       "\n",
       "    .dataframe tbody tr th {\n",
       "        vertical-align: top;\n",
       "    }\n",
       "\n",
       "    .dataframe thead th {\n",
       "        text-align: right;\n",
       "    }\n",
       "</style>\n",
       "<table border=\"1\" class=\"dataframe\">\n",
       "  <thead>\n",
       "    <tr style=\"text-align: right;\">\n",
       "      <th></th>\n",
       "      <th>Rank</th>\n",
       "      <th>Grade</th>\n",
       "      <th>Channel name</th>\n",
       "      <th>Video Uploads</th>\n",
       "      <th>Subscribers</th>\n",
       "      <th>Video views</th>\n",
       "    </tr>\n",
       "  </thead>\n",
       "  <tbody>\n",
       "    <tr>\n",
       "      <th>1470</th>\n",
       "      <td>1,471st</td>\n",
       "      <td>A-</td>\n",
       "      <td>PewDiePie</td>\n",
       "      <td>3601</td>\n",
       "      <td>65995310</td>\n",
       "      <td>18684630003</td>\n",
       "    </tr>\n",
       "  </tbody>\n",
       "</table>\n",
       "</div>"
      ],
      "text/plain": [
       "         Rank Grade Channel name  Video Uploads  Subscribers  Video views\n",
       "1470  1,471st   A-     PewDiePie           3601     65995310  18684630003"
      ]
     },
     "execution_count": 107,
     "metadata": {},
     "output_type": "execute_result"
    }
   ],
   "source": [
    "mais_inscritos"
   ]
  },
  {
   "cell_type": "markdown",
   "metadata": {},
   "source": [
    "#### Os dados do canal com mais views"
   ]
  },
  {
   "cell_type": "code",
   "execution_count": 105,
   "metadata": {},
   "outputs": [
    {
     "data": {
      "text/html": [
       "<div>\n",
       "<style scoped>\n",
       "    .dataframe tbody tr th:only-of-type {\n",
       "        vertical-align: middle;\n",
       "    }\n",
       "\n",
       "    .dataframe tbody tr th {\n",
       "        vertical-align: top;\n",
       "    }\n",
       "\n",
       "    .dataframe thead th {\n",
       "        text-align: right;\n",
       "    }\n",
       "</style>\n",
       "<table border=\"1\" class=\"dataframe\">\n",
       "  <thead>\n",
       "    <tr style=\"text-align: right;\">\n",
       "      <th></th>\n",
       "      <th>Rank</th>\n",
       "      <th>Grade</th>\n",
       "      <th>Channel name</th>\n",
       "      <th>Video Uploads</th>\n",
       "      <th>Subscribers</th>\n",
       "      <th>Video views</th>\n",
       "    </tr>\n",
       "  </thead>\n",
       "  <tbody>\n",
       "    <tr>\n",
       "      <th>1</th>\n",
       "      <td>2nd</td>\n",
       "      <td>A++</td>\n",
       "      <td>T-Series</td>\n",
       "      <td>12661</td>\n",
       "      <td>61196302</td>\n",
       "      <td>47548839843</td>\n",
       "    </tr>\n",
       "  </tbody>\n",
       "</table>\n",
       "</div>"
      ],
      "text/plain": [
       "  Rank Grade Channel name  Video Uploads  Subscribers  Video views\n",
       "1  2nd  A++      T-Series          12661     61196302  47548839843"
      ]
     },
     "execution_count": 105,
     "metadata": {},
     "output_type": "execute_result"
    }
   ],
   "source": [
    "mais_views"
   ]
  },
  {
   "cell_type": "markdown",
   "metadata": {},
   "source": [
    "Quais são os valores médios de cada um dos itens obtidos anteriormente em relação ao `dataset` utilizado<br>"
   ]
  },
  {
   "cell_type": "markdown",
   "metadata": {},
   "source": [
    "#### Média de vídeos por canal"
   ]
  },
  {
   "cell_type": "code",
   "execution_count": 1,
   "metadata": {},
   "outputs": [
    {
     "ename": "NameError",
     "evalue": "name 'df' is not defined",
     "output_type": "error",
     "traceback": [
      "\u001b[1;31m---------------------------------------------------------------------------\u001b[0m",
      "\u001b[1;31mNameError\u001b[0m                                 Traceback (most recent call last)",
      "\u001b[1;32m<ipython-input-1-ad7f9ecfd38f>\u001b[0m in \u001b[0;36m<module>\u001b[1;34m\u001b[0m\n\u001b[1;32m----> 1\u001b[1;33m \u001b[0mdf\u001b[0m\u001b[1;33m.\u001b[0m\u001b[0mdescribe\u001b[0m\u001b[1;33m\u001b[0m\u001b[0m\n\u001b[0m",
      "\u001b[1;31mNameError\u001b[0m: name 'df' is not defined"
     ]
    }
   ],
   "source": [
    "df.describe"
   ]
  },
  {
   "cell_type": "code",
   "execution_count": 127,
   "metadata": {},
   "outputs": [
    {
     "data": {
      "text/plain": [
       "3854.8321999999998"
      ]
     },
     "execution_count": 127,
     "metadata": {},
     "output_type": "execute_result"
    }
   ],
   "source": [
    "df['Video Uploads'].mean()"
   ]
  },
  {
   "cell_type": "markdown",
   "metadata": {},
   "source": [
    "#### Média de inscritos por canal"
   ]
  },
  {
   "cell_type": "code",
   "execution_count": 134,
   "metadata": {},
   "outputs": [
    {
     "data": {
      "text/plain": [
       "2417215.8144"
      ]
     },
     "execution_count": 134,
     "metadata": {},
     "output_type": "execute_result"
    }
   ],
   "source": [
    "df['Subscribers'].mean()"
   ]
  },
  {
   "cell_type": "markdown",
   "metadata": {},
   "source": [
    "#### Média de views por canal"
   ]
  },
  {
   "cell_type": "code",
   "execution_count": 135,
   "metadata": {},
   "outputs": [
    {
     "data": {
      "text/plain": [
       "1071449400.15"
      ]
     },
     "execution_count": 135,
     "metadata": {},
     "output_type": "execute_result"
    }
   ],
   "source": [
    "df['Video views'].mean()"
   ]
  },
  {
   "cell_type": "markdown",
   "metadata": {},
   "source": [
    "## Desafio Final\n",
    "### Mercado de Adquirencia (Fluxo da Informação)"
   ]
  },
  {
   "cell_type": "markdown",
   "metadata": {},
   "source": [
    "![acquirer.png](images/acquirer.png)"
   ]
  },
  {
   "cell_type": "markdown",
   "metadata": {},
   "source": [
    "![fluxo_informacao.png](images/fluxo_informacao.png)"
   ]
  },
  {
   "cell_type": "markdown",
   "metadata": {},
   "source": [
    "## Considere esses bancos de dados de 3 emissores"
   ]
  },
  {
   "cell_type": "code",
   "execution_count": 2,
   "metadata": {},
   "outputs": [],
   "source": [
    "# Banco de dados usuários de cartão para cada instituição\n",
    "\n",
    "# Nubank\n",
    "nubank_db = [\n",
    "    {'id' : 4268, 'bandeira' : 'MasterCard', 'portador' : [\"Thales\", \"Follador\"],'senha': 5419,'saldo' : 1_300},\n",
    "    {'id' : 4269, 'bandeira' : 'MasterCard', 'portador' : [\"Marilia\", \"Teixeira\"],'senha': 8521,'saldo' : 500},\n",
    "    {'id' : 4270, 'bandeira' : 'MasterCard', 'portador' : [\"João\", \"Silva\"],'senha': 7894,'saldo' : 2_210},\n",
    "    {'id' : 4271, 'bandeira' : 'MasterCard', 'portador' : [\"Fabricio\", \"Antunes\"],'senha': 1348,'saldo' : 10_554},\n",
    "    {'id' : 4272, 'bandeira' : 'MasterCard', 'portador' : [\"Roberta\", \"Caxias\"],'senha': 4685,'saldo' : 999}\n",
    "]\n",
    "    \n",
    "# Bradesco\n",
    "bradesco_db =[\n",
    "    {'id' : 1472, 'bandeira' : 'MasterCard', 'portador' : [\"Renata\", \"Andrade\"],'senha': 1415,'saldo' : 4_725},\n",
    "    {'id' : 1473, 'bandeira' : 'Elo', 'portador' : [\"Cleyton\", \"Rasta\"],'senha': 3226,'saldo' : 102},\n",
    "    {'id' : 1474, 'bandeira' : 'Visa', 'portador' : [\"Wilson\", \"Tayar\"],'senha': 7563,'saldo' : 10_852},\n",
    "    {'id' : 1475, 'bandeira' : 'Elo', 'portador' : [\"Fatima\", \"Bernardes\"],'senha': 9514,'saldo' : 722},\n",
    "    {'id' : 1476, 'bandeira' : 'MasterCard', 'portador' : [\"Ailton\", \"Fernandes\"],'senha': 1105,'saldo' : 1_355}\n",
    "]\n",
    "\n",
    "# Itaú\n",
    "itau_db = [\n",
    "    {'id' : 6652, 'bandeira' : 'MasterCard', 'portador' : [\"Claudio\", \"Yamaguchi\"],'senha': 8167,'saldo' : 158_300},\n",
    "    {'id' : 6653, 'bandeira' : 'Visa', 'portador' : [\"Leandro\", \"Herera\"],'senha': 4587,'saldo' : 150_558_850},\n",
    "    {'id' : 6654, 'bandeira' : 'Visa', 'portador' : [\"Jhenifer\", \"DoTinder\"],'senha': 1234,'saldo' : 2_210},\n",
    "    {'id' : 6655, 'bandeira' : 'MasterCard', 'portador' : [\"Maria\", \"Francisca\"],'senha': 9514,'saldo' : 10_554},\n",
    "    {'id' : 6656, 'bandeira' : 'MasterCard', 'portador' : [\"Luisa\", \"Falcioni\"],'senha': 1887,'saldo' : 12_254_555}\n",
    "]\n"
   ]
  },
  {
   "cell_type": "markdown",
   "metadata": {},
   "source": [
    "## Como estruturar o fluxo da informação durante uma transação\n",
    "Se o cliente com os dados a seguir for passar o cartão, os dados devem ser verificados com o emissor para aprovar a transação. <br>\n",
    "Dicas:\n",
    "* Utilize funções\n",
    "* Crie uma função para cada um dos participantes do fluxo da informação no pagamento\n",
    "* Não esqueça de verificar se o saldo disponível é compativel com o valor da compra\n",
    "\n",
    "## Façam em grupo!"
   ]
  },
  {
   "cell_type": "code",
   "execution_count": 3,
   "metadata": {},
   "outputs": [],
   "source": [
    "# Dados do cartão do cliente e valor da transação\n",
    "\n",
    "numero_do_cartao = 4268\n",
    "portador = \"Thales Follador\"\n",
    "emissor = \"Nubank\"\n",
    "bandeira = \"MasterCard\"\n",
    "senha = 5419\n",
    "valor = 1000\n"
   ]
  },
  {
   "cell_type": "markdown",
   "metadata": {},
   "source": [
    "## Função dos Emissores"
   ]
  },
  {
   "cell_type": "code",
   "execution_count": 4,
   "metadata": {},
   "outputs": [],
   "source": [
    "def Nubank(numero_do_cartao, portador, senha, valor) :\n",
    "    \n",
    "    # Encontrando a posição no banco de dados\n",
    "    for i in range(len(nubank_db)) :\n",
    "        if (nubank_db[i]['id'] == numero_do_cartao) == True:\n",
    "            index = i\n",
    "        else :\n",
    "            continue\n",
    "        \n",
    "    # Passo 1: Conferir nome e sobrenome do portador \n",
    "    # lembre-se de conferir nome e sobrenome separadamenteo\n",
    "    user = portador.split()\n",
    "    # Nome\n",
    "    if user[0] == nubank_db[index]['portador'][0] :\n",
    "        print('Nome Verificado')\n",
    "    else :\n",
    "        print('Nome Invalido')   \n",
    "    # Sobrenome\n",
    "    if user[1] == nubank_db[index]['portador'][1] :\n",
    "        print('Sobreome Verificado')\n",
    "    else :\n",
    "        print('Sobrenome Invalido')\n",
    "    \n",
    "    # Passo 2: Conferir a senha\n",
    "    if senha == nubank_db[index]['senha'] == senha :\n",
    "        print('Senha Verificada')\n",
    "    else :\n",
    "        print('Senha Inválida')\n",
    "    \n",
    "    # Passo 3: Conferir saldo e fazer o update do valor\n",
    "    if valor <= nubank_db[index]['saldo'] :\n",
    "        nubank_db[index]['saldo'] = nubank_db[index]['saldo'] - valor\n",
    "        print('Aprovado!')\n",
    "    else :\n",
    "        print('Saldo Insuficiente!')\n",
    "        "
   ]
  },
  {
   "cell_type": "markdown",
   "metadata": {},
   "source": [
    "## Função das Bandeiras"
   ]
  },
  {
   "cell_type": "code",
   "execution_count": 5,
   "metadata": {},
   "outputs": [],
   "source": [
    "def MasterCard(emissor, numero_do_cartao, portador, senha, valor) :\n",
    "\n",
    "    \n",
    "    if emissor == 'Nubank' :\n",
    "        Nubank(numero_do_cartao, portador, senha, valor)\n",
    "        \n",
    "    elif emissor == 'Bradesco' :\n",
    "        Bradesco(numero_do_cartao, portador, senha, valor)\n",
    "        \n",
    "    else :\n",
    "        Itau(numero_do_cartao, portador, senha, valor)\n",
    "        "
   ]
  },
  {
   "cell_type": "markdown",
   "metadata": {},
   "source": [
    "## Função das Adquirentes"
   ]
  },
  {
   "cell_type": "code",
   "execution_count": 6,
   "metadata": {},
   "outputs": [],
   "source": [
    "def Stone(emissor, bandeira, numero_do_cartao, portador, senha, valor) :\n",
    "    \n",
    "    # Verificando qual bandeira será comunicada\n",
    "    \n",
    "    if bandeira == 'MasterCard' :\n",
    "        MasterCard(emissor, numero_do_cartao, portador, senha, valor)\n",
    "        \n",
    "    elif bandeira == 'Visa' : \n",
    "        Visa(emissor, numero_do_cartao, portador, senha, valor)\n",
    "        \n",
    "    else :\n",
    "        Elo(emissor, numero_do_cartao, portador, senha, valor)"
   ]
  },
  {
   "cell_type": "code",
   "execution_count": 8,
   "metadata": {},
   "outputs": [
    {
     "name": "stdout",
     "output_type": "stream",
     "text": [
      "Nome Verificado\n",
      "Sobreome Verificado\n",
      "Senha Verificada\n",
      "Saldo Insuficiente!\n"
     ]
    }
   ],
   "source": [
    "Stone(emissor, bandeira, numero_do_cartao, portador, senha, valor)"
   ]
  },
  {
   "cell_type": "code",
   "execution_count": null,
   "metadata": {},
   "outputs": [],
   "source": []
  }
 ],
 "metadata": {
  "kernelspec": {
   "display_name": "Python 3",
   "language": "python",
   "name": "python3"
  },
  "language_info": {
   "codemirror_mode": {
    "name": "ipython",
    "version": 3
   },
   "file_extension": ".py",
   "mimetype": "text/x-python",
   "name": "python",
   "nbconvert_exporter": "python",
   "pygments_lexer": "ipython3",
   "version": "3.6.5"
  }
 },
 "nbformat": 4,
 "nbformat_minor": 2
}

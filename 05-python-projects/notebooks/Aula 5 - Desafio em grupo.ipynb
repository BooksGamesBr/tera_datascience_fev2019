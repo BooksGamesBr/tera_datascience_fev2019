{
 "cells": [
  {
   "cell_type": "markdown",
   "metadata": {},
   "source": [
    "![tera.png](images/tera.png)"
   ]
  },
  {
   "cell_type": "markdown",
   "metadata": {},
   "source": [
    "# Aula #5 - Desafio em Grupo & Checkpoint #1"
   ]
  },
  {
   "cell_type": "markdown",
   "metadata": {},
   "source": [
    "## Warm Up\n",
    "Precisamos de seis robôs<br>\n",
    "Levante a mão se você tem experiência com programação!\n",
    "\n",
    "![robot.png](images/robot.png)<br>\n",
    "### Parabéns! Você é o robô!\n",
    "\n",
    "As demais pessoas devem se dividir em seis grupos. Cada grupo vai receber um objetivo que deve ser cumprido pelo robô<br>\n",
    "O objetivo deve ser alcançado em 7 passos ou menos pelo robô e ele não pode saber qual o objetivo."
   ]
  },
  {
   "cell_type": "markdown",
   "metadata": {},
   "source": [
    "## Expectativas!\n",
    "O que vocês esperam da aula de hoje?\n",
    "\n",
    "![expectativas.png](images/expectativas.png)"
   ]
  },
  {
   "cell_type": "markdown",
   "metadata": {},
   "source": [
    "## O que veremos hoje"
   ]
  },
  {
   "cell_type": "markdown",
   "metadata": {},
   "source": [
    "* Lógica de programação\n",
    "* Funções\n",
    "* Tipos inputs\n",
    "* Controles de fluxo\n",
    "* Bibliotecas\n",
    "* Python!"
   ]
  },
  {
   "cell_type": "markdown",
   "metadata": {},
   "source": [
    "## O que não veremos hoje"
   ]
  },
  {
   "cell_type": "markdown",
   "metadata": {},
   "source": [
    "- Machine Learning"
   ]
  },
  {
   "cell_type": "markdown",
   "metadata": {},
   "source": [
    "![npte.gif](images/nope.gif)"
   ]
  },
  {
   "cell_type": "markdown",
   "metadata": {},
   "source": [
    "## Software e Plataformas\n",
    "![plat.png](images/plat.png)"
   ]
  },
  {
   "cell_type": "markdown",
   "metadata": {},
   "source": [
    "\n",
    "## Recapitulando o DataCamp\n",
    "![datacamp.png](images/datacamp.png)"
   ]
  },
  {
   "cell_type": "markdown",
   "metadata": {},
   "source": [
    "## Linguagem de Programação"
   ]
  },
  {
   "cell_type": "markdown",
   "metadata": {},
   "source": [
    "Quantas linguagem de programação existem?<br>\n",
    "Quantas vocês conhecem? <br>\n",
    "https://pt.wikipedia.org/wiki/Lista_de_linguagens_de_programa%C3%A7%C3%A3o <br>\n"
   ]
  },
  {
   "cell_type": "markdown",
   "metadata": {},
   "source": [
    "## Por que Python?"
   ]
  },
  {
   "cell_type": "markdown",
   "metadata": {},
   "source": [
    "![why.gif](images/why.gif)"
   ]
  },
  {
   "cell_type": "markdown",
   "metadata": {},
   "source": [
    "### Em C"
   ]
  },
  {
   "cell_type": "code",
   "execution_count": null,
   "metadata": {},
   "outputs": [],
   "source": [
    "#include <stdio.h>\n",
    "\n",
    "int main(void)\n",
    "{\n",
    "    printf(\"hello, world\\n\");\n",
    "}"
   ]
  },
  {
   "cell_type": "markdown",
   "metadata": {},
   "source": [
    "### Em Java"
   ]
  },
  {
   "cell_type": "code",
   "execution_count": null,
   "metadata": {},
   "outputs": [],
   "source": [
    "class HelloWorldApp {\n",
    "    public static void main(String[] args) {\n",
    "        System.out.println(\"Hello World!\"); \n",
    "    }\n",
    "}"
   ]
  },
  {
   "cell_type": "markdown",
   "metadata": {},
   "source": [
    "### Em Python"
   ]
  },
  {
   "cell_type": "code",
   "execution_count": null,
   "metadata": {},
   "outputs": [],
   "source": [
    "print(\"Hello World\")"
   ]
  },
  {
   "cell_type": "markdown",
   "metadata": {},
   "source": [
    "## Funções"
   ]
  },
  {
   "cell_type": "markdown",
   "metadata": {},
   "source": [
    "O que precisamos para criar uma função em Python ..."
   ]
  },
  {
   "cell_type": "code",
   "execution_count": null,
   "metadata": {},
   "outputs": [],
   "source": [
    "# Crie uma função que retonar a saudação \"Olá Nome!\"\n"
   ]
  },
  {
   "cell_type": "code",
   "execution_count": null,
   "metadata": {},
   "outputs": [],
   "source": [
    "# Teste sua função aqui!\n"
   ]
  },
  {
   "cell_type": "markdown",
   "metadata": {},
   "source": [
    "<br>Vamos criar uma função que é capaz de calcular a média de preço das minha viagens de uber\n"
   ]
  },
  {
   "cell_type": "markdown",
   "metadata": {},
   "source": [
    "| Data|02/02/19|15/01/19|14/01/19|12/01/19|12/01/19|11/01/19|06/01/19|06/01/19|06/01/19|06/01/19|\n",
    "|-----|--------|--------|--------|--------|--------|--------|--------|--------|--------|--------|\n",
    "| R$  |  16,09 |  19,74 |  7,36  |  11,94 |  12,57 |  44,50 |  16,08 |  13,24 |  13,95 |  16,20 |\n"
   ]
  },
  {
   "cell_type": "markdown",
   "metadata": {},
   "source": [
    "Como vocês escreveriam esses dados para que o Python consiga entender?"
   ]
  },
  {
   "cell_type": "code",
   "execution_count": null,
   "metadata": {},
   "outputs": [],
   "source": []
  },
  {
   "cell_type": "markdown",
   "metadata": {},
   "source": [
    "Crie a função que calcula a média do valor das viagens de Uber"
   ]
  },
  {
   "cell_type": "code",
   "execution_count": null,
   "metadata": {},
   "outputs": [],
   "source": [
    "# To do\n"
   ]
  },
  {
   "cell_type": "code",
   "execution_count": null,
   "metadata": {},
   "outputs": [],
   "source": [
    "# vamos testar\n"
   ]
  },
  {
   "cell_type": "markdown",
   "metadata": {},
   "source": [
    "Tá-daa! Conseguimos criar a função e ela fez o que nós queriamos. Qual alternativa podemos utilizar ao inves de criar uma a uma?"
   ]
  },
  {
   "cell_type": "code",
   "execution_count": null,
   "metadata": {},
   "outputs": [],
   "source": []
  },
  {
   "cell_type": "code",
   "execution_count": null,
   "metadata": {
    "scrolled": true
   },
   "outputs": [],
   "source": []
  },
  {
   "cell_type": "markdown",
   "metadata": {},
   "source": [
    "## Ferramentas: If, elif, else, while, for e range "
   ]
  },
  {
   "cell_type": "markdown",
   "metadata": {},
   "source": [
    "Se quisermos controlar como uma função vai se comportar dado uma situação em específico, podemos usar controladores de fluxo, os quais vão ditar as regras do jogo dentro da nossa função"
   ]
  },
  {
   "cell_type": "markdown",
   "metadata": {},
   "source": [
    "Podemos criar uma ferramenta que nos ajuda no dia-a-dia!"
   ]
  },
  {
   "cell_type": "code",
   "execution_count": null,
   "metadata": {},
   "outputs": [],
   "source": [
    "def semaforo(cor) :\n"
   ]
  },
  {
   "cell_type": "code",
   "execution_count": null,
   "metadata": {},
   "outputs": [],
   "source": []
  },
  {
   "cell_type": "markdown",
   "metadata": {},
   "source": [
    "Quais situações apresentadas a você seriam possíveis de resolver com essa ferramenta?"
   ]
  },
  {
   "cell_type": "markdown",
   "metadata": {},
   "source": [
    "E se quisermos ser mais rigorosos com a segurança no transito?\n",
    "Podemos sugerir para o motorista que ele pare tanto quando a cor for amarela ou vermelho, usando `or` dentro do `elif`"
   ]
  },
  {
   "cell_type": "code",
   "execution_count": null,
   "metadata": {},
   "outputs": [],
   "source": [
    "# To do\n",
    "def semaforo(cor) :\n"
   ]
  },
  {
   "cell_type": "code",
   "execution_count": null,
   "metadata": {},
   "outputs": [],
   "source": [
    "# Teste aqui!\n"
   ]
  },
  {
   "cell_type": "markdown",
   "metadata": {},
   "source": [
    "Vamos fazer uma contagem regressiva para o semaforo mudar do vermelho para o verde? \n",
    "\n",
    "Quais condicionais vocês usariam para completar essa tarefa?"
   ]
  },
  {
   "cell_type": "code",
   "execution_count": null,
   "metadata": {},
   "outputs": [],
   "source": [
    "def contagem_regressiava_while(tempo) :\n"
   ]
  },
  {
   "cell_type": "code",
   "execution_count": null,
   "metadata": {},
   "outputs": [],
   "source": [
    "# Teste aqui!"
   ]
  },
  {
   "cell_type": "markdown",
   "metadata": {},
   "source": [
    "Podemos usar o `for` e o `range` para ter o mesmo efeito de contagem regressiva"
   ]
  },
  {
   "cell_type": "code",
   "execution_count": null,
   "metadata": {},
   "outputs": [],
   "source": [
    "# To do\n",
    "def contagem_regressiva_for(tempo):\n"
   ]
  },
  {
   "cell_type": "code",
   "execution_count": null,
   "metadata": {},
   "outputs": [],
   "source": [
    "# Teste aqui!\n"
   ]
  },
  {
   "cell_type": "markdown",
   "metadata": {},
   "source": [
    "## Desafio"
   ]
  },
  {
   "cell_type": "markdown",
   "metadata": {},
   "source": [
    "Vamos fazer uma contagem regresiva reversa? Vamos fazer os números aparecerem na ordem crescente!\n",
    "\n",
    "Faça usando `while` e `for`\n",
    "\n",
    "Coloque um `print` da sua escolha no final, para garantir que deu certo! Uhulllll!"
   ]
  },
  {
   "cell_type": "code",
   "execution_count": null,
   "metadata": {},
   "outputs": [],
   "source": [
    "# To do\n",
    "def contagem_reversa(tempo):\n"
   ]
  },
  {
   "cell_type": "code",
   "execution_count": null,
   "metadata": {},
   "outputs": [],
   "source": [
    "# Teste aqui!\n"
   ]
  },
  {
   "cell_type": "code",
   "execution_count": null,
   "metadata": {},
   "outputs": [],
   "source": [
    "# To do\n",
    "def contagem_reversa(tempo):\n"
   ]
  },
  {
   "cell_type": "code",
   "execution_count": null,
   "metadata": {},
   "outputs": [],
   "source": [
    "# Teste aqui!\n"
   ]
  },
  {
   "cell_type": "markdown",
   "metadata": {},
   "source": [
    "## Estruturas: strings, int, floats, listas, tuplas, conjuntos e dicionários"
   ]
  },
  {
   "cell_type": "markdown",
   "metadata": {},
   "source": [
    "### Strings"
   ]
  },
  {
   "cell_type": "markdown",
   "metadata": {},
   "source": [
    "Podemos declarar uma variável como uma `string` nomeando-a e colocando entre aspas"
   ]
  },
  {
   "cell_type": "code",
   "execution_count": null,
   "metadata": {},
   "outputs": [],
   "source": [
    "startup = 'tera'"
   ]
  },
  {
   "cell_type": "code",
   "execution_count": null,
   "metadata": {},
   "outputs": [],
   "source": [
    "print('Tipo: {0}'.format(type(startup)))"
   ]
  },
  {
   "cell_type": "code",
   "execution_count": null,
   "metadata": {},
   "outputs": [],
   "source": [
    "startup"
   ]
  },
  {
   "cell_type": "markdown",
   "metadata": {},
   "source": [
    "Podemos acessar as letras específicas da palavra. Se quisermos acessar o `t` de tera, podemos fazer assim:"
   ]
  },
  {
   "cell_type": "code",
   "execution_count": null,
   "metadata": {},
   "outputs": [],
   "source": [
    "startup[0]"
   ]
  },
  {
   "cell_type": "markdown",
   "metadata": {},
   "source": [
    "Mas o `t` da Tera é maiusculo, vamos ver se posso muda-lo depois de declarar a variável"
   ]
  },
  {
   "cell_type": "code",
   "execution_count": null,
   "metadata": {},
   "outputs": [],
   "source": [
    "startup[0] = 'T'"
   ]
  },
  {
   "cell_type": "markdown",
   "metadata": {},
   "source": [
    "Ops! As strings são imutáveis. Como podemos corrigi-las? Basta declara-la novamente"
   ]
  },
  {
   "cell_type": "code",
   "execution_count": null,
   "metadata": {},
   "outputs": [],
   "source": [
    "startup = 'Tera'"
   ]
  },
  {
   "cell_type": "code",
   "execution_count": null,
   "metadata": {},
   "outputs": [],
   "source": [
    "print(startup)"
   ]
  },
  {
   "cell_type": "markdown",
   "metadata": {},
   "source": [
    "Onde as caracteristicas das `strings` podem influenciar no seu dia-a-dia?"
   ]
  },
  {
   "cell_type": "markdown",
   "metadata": {},
   "source": [
    "### Tuplas"
   ]
  },
  {
   "cell_type": "code",
   "execution_count": null,
   "metadata": {},
   "outputs": [],
   "source": [
    "key_words = ('python', 'data science', 'machine learning', 'programação', 'jupiter')"
   ]
  },
  {
   "cell_type": "code",
   "execution_count": null,
   "metadata": {},
   "outputs": [],
   "source": [
    "print('Tipo: {0}'.format(type(key_words)))"
   ]
  },
  {
   "cell_type": "markdown",
   "metadata": {},
   "source": [
    "Poxa! Escrevi o nome do ambiente errado, ao invés de `Jupyter` escrevi `Jupiter`. \n",
    "\n",
    "Vamos tentar subistitui-lo!"
   ]
  },
  {
   "cell_type": "code",
   "execution_count": null,
   "metadata": {},
   "outputs": [],
   "source": [
    "key_words[0]"
   ]
  },
  {
   "cell_type": "markdown",
   "metadata": {},
   "source": [
    "Em python, os índices começam em `zero`. Então no caso da `tupla` que criamos, a palavra `jupiter` está na no indice `4`\n",
    "\n",
    "Porem, como ele é o último item da nossa tupla, podemos usar também o `-1`"
   ]
  },
  {
   "cell_type": "code",
   "execution_count": null,
   "metadata": {},
   "outputs": [],
   "source": [
    "key_words[4]"
   ]
  },
  {
   "cell_type": "code",
   "execution_count": null,
   "metadata": {},
   "outputs": [],
   "source": [
    "key_words[-1]"
   ]
  },
  {
   "cell_type": "code",
   "execution_count": null,
   "metadata": {},
   "outputs": [],
   "source": [
    "key_words[-1] = 'jupyter'"
   ]
  },
  {
   "cell_type": "markdown",
   "metadata": {},
   "source": [
    "Assim como as `strings`, as `tuplas` são imutáveis. \n",
    "\n",
    "Como poderiamos inserir os nossos dados de forma que eles possam ser alterados?"
   ]
  },
  {
   "cell_type": "code",
   "execution_count": null,
   "metadata": {},
   "outputs": [],
   "source": [
    "# Usar outra maneira a não ser tupla\n"
   ]
  },
  {
   "cell_type": "markdown",
   "metadata": {},
   "source": [
    "Agora quando tentamos substituir o erro de digitação do `jupyter`, temos sucesso!"
   ]
  },
  {
   "cell_type": "code",
   "execution_count": null,
   "metadata": {},
   "outputs": [],
   "source": []
  },
  {
   "cell_type": "code",
   "execution_count": null,
   "metadata": {},
   "outputs": [],
   "source": []
  },
  {
   "cell_type": "markdown",
   "metadata": {},
   "source": [
    "Ta-dá!"
   ]
  },
  {
   "cell_type": "markdown",
   "metadata": {},
   "source": [
    "## Desafio\n",
    "O que acontece se fizermos lista com tuplas, tuplas com listas, tuplas com tuplas e listas com listas?\n",
    "\n",
    "E se quisermos editar, quais conseguimos, quais não?"
   ]
  },
  {
   "cell_type": "code",
   "execution_count": null,
   "metadata": {},
   "outputs": [],
   "source": [
    "# To do - Lista com Tuplas\n",
    "lct = "
   ]
  },
  {
   "cell_type": "code",
   "execution_count": null,
   "metadata": {},
   "outputs": [],
   "source": [
    "# To do - Tupla com Lista\n",
    "tcl = "
   ]
  },
  {
   "cell_type": "code",
   "execution_count": null,
   "metadata": {},
   "outputs": [],
   "source": [
    "# To do - Tupla com Tupla\n",
    "tct = "
   ]
  },
  {
   "cell_type": "code",
   "execution_count": null,
   "metadata": {},
   "outputs": [],
   "source": [
    "# To do - Lista com Lista\n",
    "lcl = "
   ]
  },
  {
   "cell_type": "markdown",
   "metadata": {},
   "source": [
    "Como vocês acham que isso pode afetar a vida de vocês?"
   ]
  },
  {
   "cell_type": "markdown",
   "metadata": {},
   "source": [
    "### Dicionários"
   ]
  },
  {
   "cell_type": "markdown",
   "metadata": {},
   "source": [
    "Vamos conhecer mais um jeito de organizar nossas informações em Python, são os dicionários"
   ]
  },
  {
   "cell_type": "code",
   "execution_count": null,
   "metadata": {},
   "outputs": [],
   "source": [
    "informacoes = {'Nome' : 'Thales',\n",
    "               'Idade' : 25,\n",
    "               'Idiomas' : ['PT-BR EN']}"
   ]
  },
  {
   "cell_type": "markdown",
   "metadata": {},
   "source": [
    "Como acessamos as informações do dicionário?"
   ]
  },
  {
   "cell_type": "code",
   "execution_count": null,
   "metadata": {},
   "outputs": [],
   "source": []
  },
  {
   "cell_type": "markdown",
   "metadata": {},
   "source": [
    "### Conseguem separar somente o 'Tha' do meu nome?"
   ]
  },
  {
   "cell_type": "code",
   "execution_count": null,
   "metadata": {},
   "outputs": [],
   "source": [
    "# To do\n"
   ]
  },
  {
   "cell_type": "markdown",
   "metadata": {},
   "source": [
    "### Como separar os idiomas em duas string e criar uma nova lista para o dicionário?\n",
    "'PT-BR EN'  =>  'PT-BR', 'EN'"
   ]
  },
  {
   "cell_type": "code",
   "execution_count": null,
   "metadata": {},
   "outputs": [],
   "source": [
    "# To do\n"
   ]
  },
  {
   "cell_type": "code",
   "execution_count": null,
   "metadata": {},
   "outputs": [],
   "source": [
    "# Verifique aqui!\n"
   ]
  },
  {
   "cell_type": "code",
   "execution_count": null,
   "metadata": {},
   "outputs": [],
   "source": [
    "# Como imprimir somente o 'PT-BR'\n"
   ]
  },
  {
   "cell_type": "code",
   "execution_count": null,
   "metadata": {},
   "outputs": [],
   "source": [
    "# E só o 'BR'?\n"
   ]
  },
  {
   "cell_type": "markdown",
   "metadata": {},
   "source": [
    "### Desafio"
   ]
  },
  {
   "cell_type": "markdown",
   "metadata": {},
   "source": [
    "Faça com que o jupyter só mostre a palavra `Tera` do dicionário abaixo, em seguida subistitua-o por `Somos Tera`"
   ]
  },
  {
   "cell_type": "code",
   "execution_count": null,
   "metadata": {},
   "outputs": [],
   "source": [
    "desafio =  {'Cor' : ['Verde', 'Preto'], 'Casas' : [101, ('Olá', 1_044_34, ['2A', 9/3])], 'E@' : ['jupyter', 111, ['aret', (1, ['Tera'])]]}"
   ]
  },
  {
   "cell_type": "code",
   "execution_count": null,
   "metadata": {},
   "outputs": [],
   "source": [
    "# To do"
   ]
  },
  {
   "cell_type": "markdown",
   "metadata": {},
   "source": [
    "![show.gif](images/show.gif)"
   ]
  },
  {
   "cell_type": "markdown",
   "metadata": {},
   "source": [
    "## Vamos ao nosso primeiro Dataset do Bootcamp!"
   ]
  },
  {
   "cell_type": "markdown",
   "metadata": {},
   "source": [
    "Vamos começar importando o Pandas!"
   ]
  },
  {
   "cell_type": "code",
   "execution_count": null,
   "metadata": {},
   "outputs": [],
   "source": [
    "import pandas as pd"
   ]
  },
  {
   "cell_type": "markdown",
   "metadata": {},
   "source": [
    "Vamos fazer a leitura de um dataset sobre o YouTube, que está disponível no Kaggle<br>\n",
    "https://www.kaggle.com/mdhrumil/top-5000-youtube-channels-data-from-socialblade/version/2\n",
    "\n",
    "Algumas alterações foram feitas no dataset para facilitar o uso durante a aula. Essas manipulações podem ser encontradas no notebook chamado `Manipulando_Dataset`"
   ]
  },
  {
   "cell_type": "code",
   "execution_count": null,
   "metadata": {},
   "outputs": [],
   "source": [
    "# To do - Crie uma DataFrame lendo o arquivo `youtube.csv`\n"
   ]
  },
  {
   "cell_type": "code",
   "execution_count": null,
   "metadata": {},
   "outputs": [],
   "source": [
    "# To do - Visualize as primeiras linhas do DataFrame\n"
   ]
  },
  {
   "cell_type": "markdown",
   "metadata": {},
   "source": [
    "## Desafio YouTube\n",
    "Mostre os dados dos canais que tem mais vídeos, mais inscritos e o que tem mais visualizações<br>\n",
    "Utilize o `pandas` para essa tarefa"
   ]
  },
  {
   "cell_type": "code",
   "execution_count": null,
   "metadata": {},
   "outputs": [],
   "source": [
    "# To do\n",
    "mais_videos = \n",
    "mais_inscritos = \n",
    "mais_views = "
   ]
  },
  {
   "cell_type": "markdown",
   "metadata": {},
   "source": [
    "#### Os dados do canal com mais vídeos"
   ]
  },
  {
   "cell_type": "code",
   "execution_count": null,
   "metadata": {},
   "outputs": [],
   "source": [
    "mais_videos"
   ]
  },
  {
   "cell_type": "markdown",
   "metadata": {},
   "source": [
    "#### Os dados do canal com mais inscritos"
   ]
  },
  {
   "cell_type": "code",
   "execution_count": null,
   "metadata": {
    "scrolled": true
   },
   "outputs": [],
   "source": [
    "mais_inscritos"
   ]
  },
  {
   "cell_type": "markdown",
   "metadata": {},
   "source": [
    "#### Os dados do canal com mais views"
   ]
  },
  {
   "cell_type": "code",
   "execution_count": null,
   "metadata": {},
   "outputs": [],
   "source": [
    "mais_views"
   ]
  },
  {
   "cell_type": "markdown",
   "metadata": {},
   "source": [
    "Quais são os valores médios de cada um dos itens obtidos anteriormente em relação ao `dataset` utilizado<br>"
   ]
  },
  {
   "cell_type": "markdown",
   "metadata": {},
   "source": [
    "#### Média de vídeos por canal"
   ]
  },
  {
   "cell_type": "code",
   "execution_count": null,
   "metadata": {},
   "outputs": [],
   "source": [
    "# To do\n"
   ]
  },
  {
   "cell_type": "markdown",
   "metadata": {},
   "source": [
    "#### Média de inscritos por canal"
   ]
  },
  {
   "cell_type": "code",
   "execution_count": null,
   "metadata": {},
   "outputs": [],
   "source": [
    "# To do\n"
   ]
  },
  {
   "cell_type": "markdown",
   "metadata": {},
   "source": [
    "#### Média de views por canal"
   ]
  },
  {
   "cell_type": "code",
   "execution_count": null,
   "metadata": {},
   "outputs": [],
   "source": [
    "# To do\n"
   ]
  },
  {
   "cell_type": "markdown",
   "metadata": {},
   "source": [
    "## Desafio Final\n",
    "### Mercado de Adquirencia (Fluxo da Informação)"
   ]
  },
  {
   "cell_type": "markdown",
   "metadata": {},
   "source": [
    "![acquirer.png](images/acquirer.png)"
   ]
  },
  {
   "cell_type": "markdown",
   "metadata": {},
   "source": [
    "![fluxo_informacao.png](images/fluxo_informacao.png)"
   ]
  },
  {
   "cell_type": "markdown",
   "metadata": {},
   "source": [
    "## Considere esses bancos de dados de 3 emissores"
   ]
  },
  {
   "cell_type": "code",
   "execution_count": null,
   "metadata": {},
   "outputs": [],
   "source": [
    "# Banco de dados usuários de cartão para cada instituição\n",
    "\n",
    "# Nubank\n",
    "nubank_db = [\n",
    "    {'id' : 4268, 'bandeira' : 'MasterCard', 'portador' : [\"Thales\", \"Follador\"],'senha': 5419,'saldo' : 1_300},\n",
    "    {'id' : 4269, 'bandeira' : 'MasterCard', 'portador' : [\"Marilia\", \"Teixeira\"],'senha': 8521,'saldo' : 500},\n",
    "    {'id' : 4270, 'bandeira' : 'MasterCard', 'portador' : [\"João\", \"Silva\"],'senha': 7894,'saldo' : 2_210},\n",
    "    {'id' : 4271, 'bandeira' : 'MasterCard', 'portador' : [\"Fabricio\", \"Antunes\"],'senha': 1348,'saldo' : 10_554},\n",
    "    {'id' : 4272, 'bandeira' : 'MasterCard', 'portador' : [\"Roberta\", \"Caxias\"],'senha': 4685,'saldo' : 999}\n",
    "]\n",
    "    \n",
    "# Bradesco\n",
    "bradesco_db =[\n",
    "    {'id' : 1472, 'bandeira' : 'MasterCard', 'portador' : [\"Renata\", \"Andrade\"],'senha': 1415,'saldo' : 4_725},\n",
    "    {'id' : 1473, 'bandeira' : 'Elo', 'portador' : [\"Cleyton\", \"Rasta\"],'senha': 3226,'saldo' : 102},\n",
    "    {'id' : 1474, 'bandeira' : 'Visa', 'portador' : [\"Wilson\", \"Tayar\"],'senha': 7563,'saldo' : 10_852},\n",
    "    {'id' : 1475, 'bandeira' : 'Elo', 'portador' : [\"Fatima\", \"Bernardes\"],'senha': 9514,'saldo' : 722},\n",
    "    {'id' : 1476, 'bandeira' : 'MasterCard', 'portador' : [\"Ailton\", \"Fernandes\"],'senha': 1105,'saldo' : 1_355}\n",
    "]\n",
    "\n",
    "# Itaú\n",
    "itau_db = [\n",
    "    {'id' : 6652, 'bandeira' : 'MasterCard', 'portador' : [\"Claudio\", \"Yamaguchi\"],'senha': 8167,'saldo' : 158_300},\n",
    "    {'id' : 6653, 'bandeira' : 'Visa', 'portador' : [\"Leandro\", \"Herera\"],'senha': 4587,'saldo' : 150_558_850},\n",
    "    {'id' : 6654, 'bandeira' : 'Visa', 'portador' : [\"Jhenifer\", \"DoTinder\"],'senha': 1234,'saldo' : 2_210},\n",
    "    {'id' : 6655, 'bandeira' : 'MasterCard', 'portador' : [\"Maria\", \"Francisca\"],'senha': 9514,'saldo' : 10_554},\n",
    "    {'id' : 6656, 'bandeira' : 'MasterCard', 'portador' : [\"Luisa\", \"Falcioni\"],'senha': 1887,'saldo' : 12_254_555}\n",
    "]\n"
   ]
  },
  {
   "cell_type": "markdown",
   "metadata": {},
   "source": [
    "## Como estruturar o fluxo da informação durante uma transação\n",
    "Se o cliente com os dados a seguir for passar o cartão, os dados devem ser verificados com o emissor para aprovar a transação. <br>\n",
    "Dicas:\n",
    "* Utilize funções\n",
    "* Crie uma função para cada um dos participantes do fluxo da informação no pagamento\n",
    "* Não esqueça de verificar se o saldo disponível é compativel com o valor da compra\n",
    "\n",
    "## Façam em grupo!"
   ]
  },
  {
   "cell_type": "code",
   "execution_count": null,
   "metadata": {},
   "outputs": [],
   "source": [
    "# Dados do cartão do cliente e valor da transação\n",
    "\n",
    "numero_do_cartao = 4268\n",
    "portador = \"Thales Follador\"\n",
    "emissor = \"Nubank\"\n",
    "bandeira = \"MasterCard\"\n",
    "senha = 5419\n",
    "valor = 1000\n"
   ]
  },
  {
   "cell_type": "markdown",
   "metadata": {},
   "source": [
    "## Funções dos Emissores"
   ]
  },
  {
   "cell_type": "code",
   "execution_count": null,
   "metadata": {},
   "outputs": [],
   "source": [
    "# To do\n"
   ]
  },
  {
   "cell_type": "markdown",
   "metadata": {},
   "source": [
    "## Funções das Bandeiras"
   ]
  },
  {
   "cell_type": "code",
   "execution_count": null,
   "metadata": {},
   "outputs": [],
   "source": [
    "# To do\n"
   ]
  },
  {
   "cell_type": "markdown",
   "metadata": {},
   "source": [
    "## Função da Adquirente"
   ]
  },
  {
   "cell_type": "code",
   "execution_count": null,
   "metadata": {},
   "outputs": [],
   "source": [
    "# To do\n"
   ]
  }
 ],
 "metadata": {
  "kernelspec": {
   "display_name": "Python 3",
   "language": "python",
   "name": "python3"
  },
  "language_info": {
   "codemirror_mode": {
    "name": "ipython",
    "version": 3
   },
   "file_extension": ".py",
   "mimetype": "text/x-python",
   "name": "python",
   "nbconvert_exporter": "python",
   "pygments_lexer": "ipython3",
   "version": "3.6.5"
  }
 },
 "nbformat": 4,
 "nbformat_minor": 2
}

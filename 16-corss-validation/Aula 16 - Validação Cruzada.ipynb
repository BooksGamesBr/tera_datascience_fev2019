{
 "cells": [
  {
   "cell_type": "markdown",
   "metadata": {},
   "source": [
    "# Aula 16 - Validação Cruzada"
   ]
  },
  {
   "cell_type": "markdown",
   "metadata": {},
   "source": [
    "## Máquinas De Previsão\n",
    "\n",
    "\"Artificial intelligence does the seemingly impossible, magically bringing machines to life--driving cars, trading stocks, and teaching children. But facing the sea change that AI will bring can be paralyzing. How should companies set strategies, governments design policies, and people plan their lives for a world so different from what we know? In the face of such uncertainty, many analysts either cower in fear or predict an impossibly sunny future.\"\n",
    "\n",
    "**IA pode ser visto como conseguindo baratear o preço de previsões**. Colocando dessa forma, seu potencial fica mais claro:\n",
    "\n",
    "* Previsão está no centro da tomada de decisão sob incerteza. \n",
    "* Previsão consegue aumentar a produtividade de sistemas, seja lendo documentos, dirigindo carros ou falando com clientes.\n",
    "\n",
    "## Aprendizado Supervisionado\n",
    "\n",
    "Nós estamos tentando partir de um conjunto de variáveis independentes e prever a variável dependente ou target. Nós fazemos isso estimando alguma função (modelo de aprendizado de máquina) `f(X) -> y`. Aqui, nós só queremos prever `y` bem e não nos importamos muito com `f`.\n"
   ]
  },
  {
   "cell_type": "markdown",
   "metadata": {},
   "source": [
    "## Exemplo\n",
    "\n",
    "Para começar, vamos tentar prever quantos exercícios de estatística um estudante faz dadas as horas de estudos.\n",
    "De antemão, como vocês acham que é essa relação?"
   ]
  },
  {
   "cell_type": "code",
   "execution_count": 1,
   "metadata": {},
   "outputs": [],
   "source": [
    "import pandas as pd\n",
    "import numpy as np\n",
    "from  matplotlib import pyplot as plt\n",
    "%matplotlib inline\n",
    "from sklearn.linear_model import LinearRegression\n",
    "from sklearn.metrics import r2_score\n",
    "\n",
    "from sklearn.exceptions import DataConversionWarning\n",
    "import warnings\n",
    "warnings.filterwarnings(\"ignore\", category=DataConversionWarning)"
   ]
  },
  {
   "cell_type": "code",
   "execution_count": 2,
   "metadata": {},
   "outputs": [
    {
     "name": "stdout",
     "output_type": "stream",
     "text": [
      "(1000, 2)\n"
     ]
    },
    {
     "data": {
      "text/html": [
       "<div>\n",
       "<style scoped>\n",
       "    .dataframe tbody tr th:only-of-type {\n",
       "        vertical-align: middle;\n",
       "    }\n",
       "\n",
       "    .dataframe tbody tr th {\n",
       "        vertical-align: top;\n",
       "    }\n",
       "\n",
       "    .dataframe thead th {\n",
       "        text-align: right;\n",
       "    }\n",
       "</style>\n",
       "<table border=\"1\" class=\"dataframe\">\n",
       "  <thead>\n",
       "    <tr style=\"text-align: right;\">\n",
       "      <th></th>\n",
       "      <th>horas</th>\n",
       "      <th>exercicios</th>\n",
       "    </tr>\n",
       "  </thead>\n",
       "  <tbody>\n",
       "    <tr>\n",
       "      <th>0</th>\n",
       "      <td>3.701473</td>\n",
       "      <td>7.221098</td>\n",
       "    </tr>\n",
       "    <tr>\n",
       "      <th>1</th>\n",
       "      <td>1.605321</td>\n",
       "      <td>6.857714</td>\n",
       "    </tr>\n",
       "    <tr>\n",
       "      <th>2</th>\n",
       "      <td>2.489333</td>\n",
       "      <td>7.124659</td>\n",
       "    </tr>\n",
       "    <tr>\n",
       "      <th>3</th>\n",
       "      <td>4.080763</td>\n",
       "      <td>7.739974</td>\n",
       "    </tr>\n",
       "    <tr>\n",
       "      <th>4</th>\n",
       "      <td>0.759507</td>\n",
       "      <td>6.144221</td>\n",
       "    </tr>\n",
       "  </tbody>\n",
       "</table>\n",
       "</div>"
      ],
      "text/plain": [
       "      horas  exercicios\n",
       "0  3.701473    7.221098\n",
       "1  1.605321    6.857714\n",
       "2  2.489333    7.124659\n",
       "3  4.080763    7.739974\n",
       "4  0.759507    6.144221"
      ]
     },
     "execution_count": 2,
     "metadata": {},
     "output_type": "execute_result"
    }
   ],
   "source": [
    "dataset = pd.read_parquet(\"/Users/matheus.facure/Downloads/produtividade.parquet\")\n",
    "print(dataset.shape)\n",
    "dataset.head()"
   ]
  },
  {
   "cell_type": "code",
   "execution_count": 3,
   "metadata": {},
   "outputs": [
    {
     "data": {
      "image/png": "[encoded data removed]",
      "text/plain": [
       "<Figure size 432x288 with 1 Axes>"
      ]
     },
     "metadata": {
      "needs_background": "light"
     },
     "output_type": "display_data"
    }
   ],
   "source": [
    "samples = dataset.sample(15, random_state=42)\n",
    "\n",
    "samples.plot.scatter(x=\"horas\", y=\"exercicios\")\n",
    "plt.show()"
   ]
  },
  {
   "cell_type": "markdown",
   "metadata": {},
   "source": [
    "Em primeiro lugar, vamos ajustar uma reta aos nossos dados.\n",
    "\n",
    "### MACHINE LEARNING TIME!!!!"
   ]
  },
  {
   "cell_type": "code",
   "execution_count": 4,
   "metadata": {},
   "outputs": [
    {
     "data": {
      "image/png": "[encoded data removed]",
      "text/plain": [
       "<Figure size 432x288 with 1 Axes>"
      ]
     },
     "metadata": {
      "needs_background": "light"
     },
     "output_type": "display_data"
    }
   ],
   "source": [
    "model1 = LinearRegression()\n",
    "model1.fit(samples[[\"horas\"]], samples[\"exercicios\"])\n",
    "\n",
    "predictions = (samples\n",
    "               .assign(predictions = lambda df: model1.predict(df[[\"horas\"]])))\n",
    "               \n",
    "predictions.plot.scatter(x=\"horas\", y=\"exercicios\")\n",
    "plt.plot(predictions[\"horas\"], predictions[\"predictions\"])\n",
    "plt.show()"
   ]
  },
  {
   "cell_type": "code",
   "execution_count": 5,
   "metadata": {},
   "outputs": [
    {
     "data": {
      "text/plain": [
       "0.823223120462185"
      ]
     },
     "execution_count": 5,
     "metadata": {},
     "output_type": "execute_result"
    }
   ],
   "source": [
    "r2_score(predictions[\"exercicios\"], predictions[\"predictions\"])"
   ]
  },
  {
   "cell_type": "markdown",
   "metadata": {},
   "source": [
    "Nada mal! Mas nós podemos fazer melhor do que isso!\n",
    "\n",
    "## Regressão Polinomial\n",
    "\n",
    "Em primeiro lugar, é preciso lembrar que, teoricamente, [podemos aproximar qualquer função com um polinômio](https://en.wikipedia.org/wiki/Approximation_theory). Então, nós vamos utilizar esse fato para estender regressão linear para regressão polinomial. A ideia é bastante simples: a partir das variáveis existentes, **nós vamos construindo novas variáveis polinomiais e a regressão com elas terá mais capacidade quanto maior o grau do polinômio criado**.\n",
    "\n",
    "[Mais Sobre Regressão Polinomial...](https://matheusfacure.github.io/2017/02/26/regr-poli/)\n",
    "\n",
    "![](img/polregr.png)"
   ]
  },
  {
   "cell_type": "code",
   "execution_count": 6,
   "metadata": {},
   "outputs": [
    {
     "data": {
      "text/html": [
       "<div>\n",
       "<style scoped>\n",
       "    .dataframe tbody tr th:only-of-type {\n",
       "        vertical-align: middle;\n",
       "    }\n",
       "\n",
       "    .dataframe tbody tr th {\n",
       "        vertical-align: top;\n",
       "    }\n",
       "\n",
       "    .dataframe thead th {\n",
       "        text-align: right;\n",
       "    }\n",
       "</style>\n",
       "<table border=\"1\" class=\"dataframe\">\n",
       "  <thead>\n",
       "    <tr style=\"text-align: right;\">\n",
       "      <th></th>\n",
       "      <th>exercicios</th>\n",
       "      <th>horas_1</th>\n",
       "      <th>horas_2</th>\n",
       "      <th>horas_3</th>\n",
       "      <th>horas_4</th>\n",
       "      <th>horas_5</th>\n",
       "      <th>horas_6</th>\n",
       "      <th>horas_7</th>\n",
       "      <th>horas_8</th>\n",
       "      <th>horas_9</th>\n",
       "      <th>horas_10</th>\n",
       "      <th>horas_11</th>\n",
       "      <th>horas_12</th>\n",
       "      <th>horas_13</th>\n",
       "      <th>horas_14</th>\n",
       "      <th>horas_15</th>\n",
       "    </tr>\n",
       "  </thead>\n",
       "  <tbody>\n",
       "    <tr>\n",
       "      <th>521</th>\n",
       "      <td>8.013150</td>\n",
       "      <td>5.386292</td>\n",
       "      <td>29.012144</td>\n",
       "      <td>156.267888</td>\n",
       "      <td>841.704518</td>\n",
       "      <td>4533.666533</td>\n",
       "      <td>24419.652962</td>\n",
       "      <td>131531.387771</td>\n",
       "      <td>708466.496067</td>\n",
       "      <td>3.816008e+06</td>\n",
       "      <td>2.055413e+07</td>\n",
       "      <td>1.107106e+08</td>\n",
       "      <td>5.963195e+08</td>\n",
       "      <td>3.211951e+09</td>\n",
       "      <td>1.730051e+10</td>\n",
       "      <td>9.318558e+10</td>\n",
       "    </tr>\n",
       "    <tr>\n",
       "      <th>737</th>\n",
       "      <td>7.844930</td>\n",
       "      <td>5.037526</td>\n",
       "      <td>25.376664</td>\n",
       "      <td>127.835596</td>\n",
       "      <td>643.975086</td>\n",
       "      <td>3244.040985</td>\n",
       "      <td>16341.939521</td>\n",
       "      <td>82322.938751</td>\n",
       "      <td>414703.911717</td>\n",
       "      <td>2.089082e+06</td>\n",
       "      <td>1.052380e+07</td>\n",
       "      <td>5.301392e+07</td>\n",
       "      <td>2.670590e+08</td>\n",
       "      <td>1.345316e+09</td>\n",
       "      <td>6.777066e+09</td>\n",
       "      <td>3.413964e+10</td>\n",
       "    </tr>\n",
       "    <tr>\n",
       "      <th>740</th>\n",
       "      <td>7.364783</td>\n",
       "      <td>4.104594</td>\n",
       "      <td>16.847693</td>\n",
       "      <td>69.152943</td>\n",
       "      <td>283.844766</td>\n",
       "      <td>1165.067567</td>\n",
       "      <td>4782.129525</td>\n",
       "      <td>19628.700903</td>\n",
       "      <td>80567.851019</td>\n",
       "      <td>3.306983e+05</td>\n",
       "      <td>1.357382e+06</td>\n",
       "      <td>5.571504e+06</td>\n",
       "      <td>2.286876e+07</td>\n",
       "      <td>9.386699e+07</td>\n",
       "      <td>3.852859e+08</td>\n",
       "      <td>1.581442e+09</td>\n",
       "    </tr>\n",
       "    <tr>\n",
       "      <th>660</th>\n",
       "      <td>6.743131</td>\n",
       "      <td>2.573175</td>\n",
       "      <td>6.621230</td>\n",
       "      <td>17.037585</td>\n",
       "      <td>43.840689</td>\n",
       "      <td>112.809769</td>\n",
       "      <td>290.279290</td>\n",
       "      <td>746.939445</td>\n",
       "      <td>1922.005989</td>\n",
       "      <td>4.945658e+03</td>\n",
       "      <td>1.272604e+04</td>\n",
       "      <td>3.274634e+04</td>\n",
       "      <td>8.426207e+04</td>\n",
       "      <td>2.168211e+05</td>\n",
       "      <td>5.579185e+05</td>\n",
       "      <td>1.435622e+06</td>\n",
       "    </tr>\n",
       "    <tr>\n",
       "      <th>411</th>\n",
       "      <td>6.366609</td>\n",
       "      <td>1.270155</td>\n",
       "      <td>1.613293</td>\n",
       "      <td>2.049131</td>\n",
       "      <td>2.602713</td>\n",
       "      <td>3.305848</td>\n",
       "      <td>4.198938</td>\n",
       "      <td>5.333300</td>\n",
       "      <td>6.774115</td>\n",
       "      <td>8.604173e+00</td>\n",
       "      <td>1.092863e+01</td>\n",
       "      <td>1.388105e+01</td>\n",
       "      <td>1.763108e+01</td>\n",
       "      <td>2.239419e+01</td>\n",
       "      <td>2.844409e+01</td>\n",
       "      <td>3.612839e+01</td>\n",
       "    </tr>\n",
       "  </tbody>\n",
       "</table>\n",
       "</div>"
      ],
      "text/plain": [
       "     exercicios   horas_1    horas_2     horas_3     horas_4      horas_5  \\\n",
       "521    8.013150  5.386292  29.012144  156.267888  841.704518  4533.666533   \n",
       "737    7.844930  5.037526  25.376664  127.835596  643.975086  3244.040985   \n",
       "740    7.364783  4.104594  16.847693   69.152943  283.844766  1165.067567   \n",
       "660    6.743131  2.573175   6.621230   17.037585   43.840689   112.809769   \n",
       "411    6.366609  1.270155   1.613293    2.049131    2.602713     3.305848   \n",
       "\n",
       "          horas_6        horas_7        horas_8       horas_9      horas_10  \\\n",
       "521  24419.652962  131531.387771  708466.496067  3.816008e+06  2.055413e+07   \n",
       "737  16341.939521   82322.938751  414703.911717  2.089082e+06  1.052380e+07   \n",
       "740   4782.129525   19628.700903   80567.851019  3.306983e+05  1.357382e+06   \n",
       "660    290.279290     746.939445    1922.005989  4.945658e+03  1.272604e+04   \n",
       "411      4.198938       5.333300       6.774115  8.604173e+00  1.092863e+01   \n",
       "\n",
       "         horas_11      horas_12      horas_13      horas_14      horas_15  \n",
       "521  1.107106e+08  5.963195e+08  3.211951e+09  1.730051e+10  9.318558e+10  \n",
       "737  5.301392e+07  2.670590e+08  1.345316e+09  6.777066e+09  3.413964e+10  \n",
       "740  5.571504e+06  2.286876e+07  9.386699e+07  3.852859e+08  1.581442e+09  \n",
       "660  3.274634e+04  8.426207e+04  2.168211e+05  5.579185e+05  1.435622e+06  \n",
       "411  1.388105e+01  1.763108e+01  2.239419e+01  2.844409e+01  3.612839e+01  "
      ]
     },
     "execution_count": 6,
     "metadata": {},
     "output_type": "execute_result"
    }
   ],
   "source": [
    "exponents = range(1, 16)\n",
    "exp_col_names = [f\"horas_{exp}\" for exp in exponents]\n",
    "exp_hours = [samples[\"horas\"] ** exp for exp in exponents]\n",
    "\n",
    "samples_exp = (samples\n",
    "               .assign(**dict(zip(exp_col_names, exp_hours)))\n",
    "               .drop(columns=[\"horas\"]))\n",
    "\n",
    "# isso é uma forma mais programática de fazer\n",
    "# samples_exp = (samples\n",
    "#                .assign(horas_2 = dataset[\"horas\"] ** 2)\n",
    "#                .assign(horas_3 = dataset[\"horas\"] ** 3)\n",
    "#                .assign(horas_4 = dataset[\"horas\"] ** 4)\n",
    "#                ...\n",
    "#                .assign(horas_6 = dataset[\"horas\"] ** 6))\n",
    "\n",
    "samples_exp.head()"
   ]
  },
  {
   "cell_type": "markdown",
   "metadata": {},
   "source": [
    "Com as features polinomiais prontas, podemos ajustar nosso modelo"
   ]
  },
  {
   "cell_type": "code",
   "execution_count": 7,
   "metadata": {
    "scrolled": true
   },
   "outputs": [
    {
     "data": {
      "image/png": "[encoded data removed]",
      "text/plain": [
       "<Figure size 432x288 with 1 Axes>"
      ]
     },
     "metadata": {
      "needs_background": "light"
     },
     "output_type": "display_data"
    }
   ],
   "source": [
    "model2 = LinearRegression()\n",
    "model2.fit(samples_exp[exp_col_names], samples_exp[\"exercicios\"])\n",
    "\n",
    "pred = (samples_exp\n",
    "        .assign(predictions = lambda df: model2.predict(df[exp_col_names]))\n",
    "        .sort_values(\"horas_1\")) # só pra deixar o plot mais bonitinho\n",
    "               \n",
    "pred.plot.scatter(x=\"horas_1\", y=\"exercicios\")\n",
    "plt.plot(pred[[\"horas_1\"]], pred[\"predictions\"])\n",
    "plt.show()"
   ]
  },
  {
   "cell_type": "code",
   "execution_count": 8,
   "metadata": {},
   "outputs": [
    {
     "data": {
      "text/plain": [
       "0.9503159019789671"
      ]
     },
     "execution_count": 8,
     "metadata": {},
     "output_type": "execute_result"
    }
   ],
   "source": [
    "r2_score(pred[\"exercicios\"], pred[\"predictions\"])"
   ]
  },
  {
   "cell_type": "markdown",
   "metadata": {},
   "source": [
    "### Qual dos Dois Modelos Acima é Melhor????"
   ]
  },
  {
   "cell_type": "markdown",
   "metadata": {},
   "source": []
  },
  {
   "cell_type": "markdown",
   "metadata": {},
   "source": [
    "## Regularização e Complexidade de Modelo\n",
    "\n",
    "### Capacidade e Generalização\n",
    "Vamos ver como nossos dois modeos se saem numa nova amostra de dados"
   ]
  },
  {
   "cell_type": "code",
   "execution_count": 9,
   "metadata": {},
   "outputs": [
    {
     "name": "stdout",
     "output_type": "stream",
     "text": [
      "-0.2158686748808072\n"
     ]
    },
    {
     "data": {
      "image/png": "[encoded data removed]",
      "text/plain": [
       "<Figure size 432x288 with 1 Axes>"
      ]
     },
     "metadata": {
      "needs_background": "light"
     },
     "output_type": "display_data"
    }
   ],
   "source": [
    "new_samples = dataset.sample(20, random_state=42)\n",
    "exponents = range(1, 16)\n",
    "exp_hours = [new_samples[\"horas\"] ** exp for exp in exponents]\n",
    "\n",
    "new_pred2 = (new_samples\n",
    "            .assign(**dict(zip(exp_col_names, exp_hours)))\n",
    "            .assign(predictions = lambda df: model2.predict(df[exp_col_names]))\n",
    "            .sort_values(\"horas_1\")\n",
    "            .drop(columns=[\"horas\"]))\n",
    "\n",
    "print(r2_score(new_pred2[\"exercicios\"], new_pred2[\"predictions\"]))\n",
    "\n",
    "new_pred2.plot.scatter(x=\"horas_1\", y=\"exercicios\")\n",
    "plt.plot(new_pred2[[\"horas_1\"]], new_pred2[\"predictions\"])\n",
    "plt.show()"
   ]
  },
  {
   "cell_type": "code",
   "execution_count": 10,
   "metadata": {},
   "outputs": [
    {
     "name": "stdout",
     "output_type": "stream",
     "text": [
      "0.7928711060545443\n"
     ]
    },
    {
     "data": {
      "image/png": "[encoded data removed]",
      "text/plain": [
       "<Figure size 432x288 with 1 Axes>"
      ]
     },
     "metadata": {
      "needs_background": "light"
     },
     "output_type": "display_data"
    }
   ],
   "source": [
    "new_pred1 = (new_samples\n",
    "            .assign(predictions = lambda df: model1.predict(df[[\"horas\"]])))\n",
    "\n",
    "print(r2_score(new_pred1[\"exercicios\"], new_pred1[\"predictions\"]))\n",
    "\n",
    "new_pred1.plot.scatter(x=\"horas\", y=\"exercicios\")\n",
    "plt.plot(new_pred1[[\"horas\"]], new_pred1[\"predictions\"])\n",
    "plt.show()"
   ]
  },
  {
   "cell_type": "markdown",
   "metadata": {},
   "source": [
    "E agora? Qual dos dois modelos é o melhor?\n",
    "\n",
    "# Generalização\n",
    "\n",
    "Quando nós fazemos um modelo, nós não estamos interessados em prever a variável resposta que temos nos dados. Nós só usamos essa variável `y` para que o nosso modelo aprenda uma relação entre `X` e `y` e depois **queremos que essa relação aprendida pelo modelo generalize para novos dados**.\n",
    "\n",
    "## Overfitting e Underfitting\n",
    "\n",
    "Capacidade e generalização são as duas qualidades que gostaríamos que nossos modelos de AM adquirissem: a primeira lhe da força para aprender as regularidades nos dados em que treinamos o modelo; a segunda faz com que ele consiga generalizar o que aprendeu para dados novos. Infelizmente essas duas forças então em polos opostos, de forma que ter mais de uma geralmente significa perder mais da outra. A seguir, vamos detalhar bem como esse tradeoff acontece e como ponderar essas duas forças. \n",
    "\n",
    "[Mais Sobre Capacidasde e Generalização...](https://matheusfacure.github.io/AM-Essencial/#Capacidade-e-generaliza%C3%A7%C3%A3o)\n",
    "\n",
    "### Regularização por Quantidade de Dados\n",
    "A forma mais fácil de regularizar os seus modelos é adicionando mais dados no set de treino. Assim, ele terá que usar toda a sua capacidade para ajustar apenas o sinal e deixar de lado o ruído.\n",
    "\n",
    "Exercício: retreine o modelo acima, só que usando todos os dados!"
   ]
  },
  {
   "cell_type": "code",
   "execution_count": null,
   "metadata": {},
   "outputs": [],
   "source": []
  },
  {
   "cell_type": "markdown",
   "metadata": {},
   "source": [
    "### Regularização Algorítmica\n",
    "\n",
    "Mas nem sempre você terá dados suficientes para regularizar seu modelo. Por isso, todos os algorítmos de aprendizado de máquina tem um (ou vários) hiperparâmetro que controla a sua complexidade/capacidade. \n",
    "\n",
    "\"With four parameters I can fit an elephant, and with five I can make him wiggle his trunk.\"  \n",
    "-- John von Neumann\n",
    "\n",
    "### Regressão de  Ridge\n",
    "\n",
    "Diz a lenda que, para lidar com esse problema, alguns cientistas adicionavam um pequeno valor à diagonal de \\\\((X^T X)\\\\), tornando sua inversão mais estável. Ao fazer isso perceberam que a performance do modelo no set de avaliação melhorava. Com o tempo, o teoria estatística se desenvolveu para explicar essa melhora e é isso que veremos aqui. A primeira coisa que precisamos reparar é que \\\\((X^T X)\\\\) é uma matriz de covariância, ou seja, ela contém a informação de como cada variável de \\\\(X\\\\) correlaciona entre si. A diagonal de \\\\((X^T X)\\\\) tem o resultado das covariâncias das variáveis com elas mesmas, ou seja, as variâncias das variáveis de \\\\(X\\\\). Assim, adicionar um pequeno valor a diagonal de \\\\((X^T X)\\\\) é como aumentar artificialmente a variância nos dados. Isso torna o modelo mais robusto, melhorando sua generalização.\n",
    "\n",
    "Mais ainda, adicionar um pequeno valor \\\\(\\gamma^2\\\\) à diagonal de \\\\((X^T X)\\\\) é equivalente à adicionar um termo na nossa função custo, que passa de \\\\( (\\pmb{y} - \\pmb{\\hat{w}}X)^T(\\pmb{y} - \\pmb{\\hat{w}} X)\\\\) para\n",
    "\n",
    "$$\\mathcal{L} = (\\pmb{y} - \\pmb{\\hat{w}}X)^T(\\pmb{y} - \\pmb{\\hat{w}} X) + \\gamma \\pmb{\\hat{w}}^T \\pmb{\\hat{w}}$$\n",
    "\n",
    "Minimziar o primeiro termo da função objetivo acima corresponde a diminuir o erro no set de treino, ao passo que a minimização do segundo termo penaliza a complexidade do modelo. Com esse novo objetivo, o ponto ótimo passa a ser\n",
    "\n",
    "$$\\pmb{\\hat{w}} = (X^T X + \\gamma^2 I)^{-1} X^T \\pmb{y}$$\n",
    "\n",
    "\\\\(\\pmb{\\hat{w}}^T \\pmb{\\hat{w}}\\\\) também é chamado de norma L2 de \\\\(\\pmb{\\hat{w}}\\\\), cuja notação é \\\\(\\parallel\\pmb{\\hat{w}}\\parallel ^2\\\\). Do ponto de vista da otimização, isso adiciona uma segunda força, puxando o parâmetros \\(w\\) em direção a zero. Quanto maior for o \\\\(\\gamma\\\\), maior será essa força e maior será a regularização do modelo. O efeito disso é uma suavização da função aprendida pelo modelo. Por outro lado, é sempre bom lembrar que se \\\\(\\gamma\\\\) for muito grande, a regularização faz com que o modelo perca muita capacidade, sofrendo assim com muito viés.\n",
    "\n",
    "<img src=\"https://matheusfacure.github.io/img/tutorial/regularization/regularization_opt.png\" style=\"width: 300px;\"/>\n",
    "\n",
    "\n",
    "[Mais Sobre Regressão de Ridge...](https://matheusfacure.github.io/2017/03/01/l2-reg/)\n",
    "\n",
    "### Lasso\n",
    "\n",
    "Uma outra forma de regularizar é com a norma L1. Nesse caso, penalizamos o valor absoluto dos parâmetros.\n",
    "\n",
    "$$\\mathcal{L} = (\\pmb{y} - \\pmb{\\hat{w}}X)^T(\\pmb{y} - \\pmb{\\hat{w}} X) + \\gamma \\parallel\\pmb{\\hat{w}}\\parallel^1$$\n",
    "\n",
    "Isso força nosso problema de otimização para zero em várias das diminções. Em termos práticos, Lasso é uma boa para fazer seleção de variáveis mas costuma ser uma regularização muito forte. No geral, Rigde funciona melhor.\n",
    "\n",
    "<img src=\"https://cdn-images-1.medium.com/max/1600/1*Jd03Hyt2bpEv1r7UijLlpg.png\" style=\"width: 500px;\"/>"
   ]
  },
  {
   "cell_type": "markdown",
   "metadata": {},
   "source": [
    "Exercício: Usem a Regressão de Ridge para ajustar um modelo regularizado abaixo."
   ]
  },
  {
   "cell_type": "code",
   "execution_count": 11,
   "metadata": {
    "scrolled": true
   },
   "outputs": [],
   "source": [
    "# from sklearn.linear_model import LinearRegression\n",
    "# model = LinearRegression()\n",
    "# model.fit(samples_exp[exp_col_names], samples_exp[\"exercicios\"])\n",
    "\n",
    "# pred = (samples_exp\n",
    "#         .assign(predictions = lambda df: model.predict(df[exp_col_names]))\n",
    "#         .sort_values(\"horas_1\")) # só pra deixar o plot mais bonitinho\n",
    "               \n",
    "# pred.plot.scatter(x=\"horas_1\", y=\"exercicios\")\n",
    "# plt.plot(pred[[\"horas_1\"]], pred[\"predictions\"])\n",
    "# plt.show()"
   ]
  },
  {
   "cell_type": "markdown",
   "metadata": {},
   "source": [
    "## Dilema De Vies e Variancia\n",
    "\n",
    "Nós podemos tratar \\\\(\\hat{\\beta}\\\\) como uma variável aleatória. Pense nela como vários parâmetros que seriam aprendidos se utilizássemos apenas uma sub-amostra dos nossos dados para treinar vários modelos. Podemos então definir viés como a diferença entre a esperança dessa variável aleatória e os verdadeiros parâmetros do processo gerador dos dados: \\\\(E[\\hat{\\beta}] - \\beta\\\\). Quando essa diferença é zero, temos um estimador ŵ  que é não enviesado, algo que realmente gostaríamos que nossos modelos aprendessem. É importante lembrar que o viés mede a diferença esperada entre a função estimada e o verdadeiro processo gerador de dados.\n",
    "\n",
    "Além do viés, também precisamos considerar como as nossas estimativas variam com diferentes amostras. Isso pode ser medido pela variância: \\\\(Var(\\hat{\\beta})\\\\). Nós gostaríamos que a variância também fosse baixa, pois não queremos que o tipo de previsão do nosso modelo dependa bruscamente da amostra de dados em que ele foi treinado. Quando um modelo tem muita variância, a qualidade das nossas previsões dependerá muito da amostra que escolhermos para prever.\n",
    "\n",
    "Matematicamente, podemos mostrar que viés e variância são duas fontes de erro. Mais especificamente, a média do erro quadrado pode ser decomposta em viés e variância:\n",
    "\n",
    "$$\\pmb{MSE= Vies(\\hat{w})^2 + Var(\\hat{w})}$$\n",
    "\n",
    "![img](https://matheusfacure.github.io/img/screenshot-from-2017-02-11-17-11-55.png)"
   ]
  },
  {
   "cell_type": "markdown",
   "metadata": {},
   "source": [
    "## Corss Validation\n",
    "\n",
    "Para achar o melhor ponto na curva acima, nós trenamos nosso modelo numa amostra e validamos ele em outra. Isso chama validação cruzada. \n",
    "\n",
    "![](img/cv101.png)\n",
    "\n",
    "Vamos voltar aos nossos dados da aula passada:"
   ]
  },
  {
   "cell_type": "code",
   "execution_count": 12,
   "metadata": {},
   "outputs": [
    {
     "name": "stdout",
     "output_type": "stream",
     "text": [
      "(144200, 17)\n"
     ]
    },
    {
     "data": {
      "text/html": [
       "<div>\n",
       "<style scoped>\n",
       "    .dataframe tbody tr th:only-of-type {\n",
       "        vertical-align: middle;\n",
       "    }\n",
       "\n",
       "    .dataframe tbody tr th {\n",
       "        vertical-align: top;\n",
       "    }\n",
       "\n",
       "    .dataframe thead th {\n",
       "        text-align: right;\n",
       "    }\n",
       "</style>\n",
       "<table border=\"1\" class=\"dataframe\">\n",
       "  <thead>\n",
       "    <tr style=\"text-align: right;\">\n",
       "      <th></th>\n",
       "      <th>city</th>\n",
       "      <th>dteday</th>\n",
       "      <th>season</th>\n",
       "      <th>yr</th>\n",
       "      <th>mkt</th>\n",
       "      <th>mnth</th>\n",
       "      <th>holiday</th>\n",
       "      <th>weekday</th>\n",
       "      <th>workingday</th>\n",
       "      <th>weathersit</th>\n",
       "      <th>temp</th>\n",
       "      <th>atemp</th>\n",
       "      <th>hum</th>\n",
       "      <th>windspeed</th>\n",
       "      <th>stock</th>\n",
       "      <th>cnt</th>\n",
       "      <th>target</th>\n",
       "    </tr>\n",
       "  </thead>\n",
       "  <tbody>\n",
       "    <tr>\n",
       "      <th>0</th>\n",
       "      <td>city_0</td>\n",
       "      <td>2011-01-01</td>\n",
       "      <td>1</td>\n",
       "      <td>0</td>\n",
       "      <td>0</td>\n",
       "      <td>1</td>\n",
       "      <td>0</td>\n",
       "      <td>6</td>\n",
       "      <td>0</td>\n",
       "      <td>2</td>\n",
       "      <td>0.344167</td>\n",
       "      <td>0.363625</td>\n",
       "      <td>0.805833</td>\n",
       "      <td>0.160446</td>\n",
       "      <td>997</td>\n",
       "      <td>929</td>\n",
       "      <td>1257.0</td>\n",
       "    </tr>\n",
       "    <tr>\n",
       "      <th>1</th>\n",
       "      <td>city_0</td>\n",
       "      <td>2011-01-02</td>\n",
       "      <td>1</td>\n",
       "      <td>0</td>\n",
       "      <td>0</td>\n",
       "      <td>1</td>\n",
       "      <td>0</td>\n",
       "      <td>0</td>\n",
       "      <td>0</td>\n",
       "      <td>2</td>\n",
       "      <td>0.363478</td>\n",
       "      <td>0.353739</td>\n",
       "      <td>0.696087</td>\n",
       "      <td>0.248539</td>\n",
       "      <td>1231</td>\n",
       "      <td>765</td>\n",
       "      <td>1096.0</td>\n",
       "    </tr>\n",
       "    <tr>\n",
       "      <th>2</th>\n",
       "      <td>city_0</td>\n",
       "      <td>2011-01-03</td>\n",
       "      <td>1</td>\n",
       "      <td>0</td>\n",
       "      <td>0</td>\n",
       "      <td>1</td>\n",
       "      <td>0</td>\n",
       "      <td>1</td>\n",
       "      <td>1</td>\n",
       "      <td>1</td>\n",
       "      <td>0.196364</td>\n",
       "      <td>0.189405</td>\n",
       "      <td>0.437273</td>\n",
       "      <td>0.248309</td>\n",
       "      <td>1395</td>\n",
       "      <td>1395</td>\n",
       "      <td>1430.0</td>\n",
       "    </tr>\n",
       "    <tr>\n",
       "      <th>3</th>\n",
       "      <td>city_0</td>\n",
       "      <td>2011-01-04</td>\n",
       "      <td>1</td>\n",
       "      <td>0</td>\n",
       "      <td>0</td>\n",
       "      <td>1</td>\n",
       "      <td>0</td>\n",
       "      <td>2</td>\n",
       "      <td>1</td>\n",
       "      <td>1</td>\n",
       "      <td>0.200000</td>\n",
       "      <td>0.212122</td>\n",
       "      <td>0.590435</td>\n",
       "      <td>0.160296</td>\n",
       "      <td>1651</td>\n",
       "      <td>1641</td>\n",
       "      <td>885.0</td>\n",
       "    </tr>\n",
       "    <tr>\n",
       "      <th>4</th>\n",
       "      <td>city_0</td>\n",
       "      <td>2011-01-05</td>\n",
       "      <td>1</td>\n",
       "      <td>0</td>\n",
       "      <td>0</td>\n",
       "      <td>1</td>\n",
       "      <td>0</td>\n",
       "      <td>3</td>\n",
       "      <td>1</td>\n",
       "      <td>1</td>\n",
       "      <td>0.226957</td>\n",
       "      <td>0.229270</td>\n",
       "      <td>0.436957</td>\n",
       "      <td>0.186900</td>\n",
       "      <td>2334</td>\n",
       "      <td>1671</td>\n",
       "      <td>1210.0</td>\n",
       "    </tr>\n",
       "  </tbody>\n",
       "</table>\n",
       "</div>"
      ],
      "text/plain": [
       "     city     dteday  season  yr  mkt  mnth  holiday  weekday  workingday  \\\n",
       "0  city_0 2011-01-01       1   0    0     1        0        6           0   \n",
       "1  city_0 2011-01-02       1   0    0     1        0        0           0   \n",
       "2  city_0 2011-01-03       1   0    0     1        0        1           1   \n",
       "3  city_0 2011-01-04       1   0    0     1        0        2           1   \n",
       "4  city_0 2011-01-05       1   0    0     1        0        3           1   \n",
       "\n",
       "   weathersit      temp     atemp       hum  windspeed  stock   cnt  target  \n",
       "0           2  0.344167  0.363625  0.805833   0.160446    997   929  1257.0  \n",
       "1           2  0.363478  0.353739  0.696087   0.248539   1231   765  1096.0  \n",
       "2           1  0.196364  0.189405  0.437273   0.248309   1395  1395  1430.0  \n",
       "3           1  0.200000  0.212122  0.590435   0.160296   1651  1641   885.0  \n",
       "4           1  0.226957  0.229270  0.436957   0.186900   2334  1671  1210.0  "
      ]
     },
     "execution_count": 12,
     "metadata": {},
     "output_type": "execute_result"
    }
   ],
   "source": [
    "bike_data = (pd.read_parquet(\"/Users/matheus.facure/Downloads/bike_data.parquet\")\n",
    "             .dropna()\n",
    "             .sort_values([\"city\", \"dteday\"]))\n",
    "\n",
    "print(bike_data.shape)\n",
    "bike_data.head()"
   ]
  },
  {
   "cell_type": "code",
   "execution_count": 13,
   "metadata": {},
   "outputs": [],
   "source": [
    "from sklearn.preprocessing import PolynomialFeatures, StandardScaler, OneHotEncoder\n",
    "from sklearn.pipeline import make_pipeline\n",
    "from sklearn.model_selection import train_test_split, cross_val_score"
   ]
  },
  {
   "cell_type": "markdown",
   "metadata": {},
   "source": [
    "### Feature Engineering\n",
    "Vamos criar variáveis que são exatamente iguais a cnt, só que no período anterior"
   ]
  },
  {
   "cell_type": "code",
   "execution_count": 14,
   "metadata": {},
   "outputs": [
    {
     "data": {
      "text/html": [
       "<div>\n",
       "<style scoped>\n",
       "    .dataframe tbody tr th:only-of-type {\n",
       "        vertical-align: middle;\n",
       "    }\n",
       "\n",
       "    .dataframe tbody tr th {\n",
       "        vertical-align: top;\n",
       "    }\n",
       "\n",
       "    .dataframe thead th {\n",
       "        text-align: right;\n",
       "    }\n",
       "</style>\n",
       "<table border=\"1\" class=\"dataframe\">\n",
       "  <thead>\n",
       "    <tr style=\"text-align: right;\">\n",
       "      <th></th>\n",
       "      <th>city</th>\n",
       "      <th>dteday</th>\n",
       "      <th>season</th>\n",
       "      <th>yr</th>\n",
       "      <th>mkt</th>\n",
       "      <th>mnth</th>\n",
       "      <th>holiday</th>\n",
       "      <th>weekday</th>\n",
       "      <th>workingday</th>\n",
       "      <th>weathersit</th>\n",
       "      <th>...</th>\n",
       "      <th>cnt_l4</th>\n",
       "      <th>cnt_l5</th>\n",
       "      <th>cnt_l6</th>\n",
       "      <th>cnt_l7</th>\n",
       "      <th>cnt_l8</th>\n",
       "      <th>cnt_l9</th>\n",
       "      <th>cnt_l10</th>\n",
       "      <th>cnt_l11</th>\n",
       "      <th>cnt_l12</th>\n",
       "      <th>cnt_l13</th>\n",
       "    </tr>\n",
       "  </thead>\n",
       "  <tbody>\n",
       "    <tr>\n",
       "      <th>0</th>\n",
       "      <td>city_0</td>\n",
       "      <td>2011-01-01</td>\n",
       "      <td>1</td>\n",
       "      <td>0</td>\n",
       "      <td>0</td>\n",
       "      <td>1</td>\n",
       "      <td>0</td>\n",
       "      <td>6</td>\n",
       "      <td>0</td>\n",
       "      <td>2</td>\n",
       "      <td>...</td>\n",
       "      <td>NaN</td>\n",
       "      <td>NaN</td>\n",
       "      <td>NaN</td>\n",
       "      <td>NaN</td>\n",
       "      <td>NaN</td>\n",
       "      <td>NaN</td>\n",
       "      <td>NaN</td>\n",
       "      <td>NaN</td>\n",
       "      <td>NaN</td>\n",
       "      <td>NaN</td>\n",
       "    </tr>\n",
       "    <tr>\n",
       "      <th>1</th>\n",
       "      <td>city_0</td>\n",
       "      <td>2011-01-02</td>\n",
       "      <td>1</td>\n",
       "      <td>0</td>\n",
       "      <td>0</td>\n",
       "      <td>1</td>\n",
       "      <td>0</td>\n",
       "      <td>0</td>\n",
       "      <td>0</td>\n",
       "      <td>2</td>\n",
       "      <td>...</td>\n",
       "      <td>NaN</td>\n",
       "      <td>NaN</td>\n",
       "      <td>NaN</td>\n",
       "      <td>NaN</td>\n",
       "      <td>NaN</td>\n",
       "      <td>NaN</td>\n",
       "      <td>NaN</td>\n",
       "      <td>NaN</td>\n",
       "      <td>NaN</td>\n",
       "      <td>NaN</td>\n",
       "    </tr>\n",
       "    <tr>\n",
       "      <th>2</th>\n",
       "      <td>city_0</td>\n",
       "      <td>2011-01-03</td>\n",
       "      <td>1</td>\n",
       "      <td>0</td>\n",
       "      <td>0</td>\n",
       "      <td>1</td>\n",
       "      <td>0</td>\n",
       "      <td>1</td>\n",
       "      <td>1</td>\n",
       "      <td>1</td>\n",
       "      <td>...</td>\n",
       "      <td>NaN</td>\n",
       "      <td>NaN</td>\n",
       "      <td>NaN</td>\n",
       "      <td>NaN</td>\n",
       "      <td>NaN</td>\n",
       "      <td>NaN</td>\n",
       "      <td>NaN</td>\n",
       "      <td>NaN</td>\n",
       "      <td>NaN</td>\n",
       "      <td>NaN</td>\n",
       "    </tr>\n",
       "    <tr>\n",
       "      <th>3</th>\n",
       "      <td>city_0</td>\n",
       "      <td>2011-01-04</td>\n",
       "      <td>1</td>\n",
       "      <td>0</td>\n",
       "      <td>0</td>\n",
       "      <td>1</td>\n",
       "      <td>0</td>\n",
       "      <td>2</td>\n",
       "      <td>1</td>\n",
       "      <td>1</td>\n",
       "      <td>...</td>\n",
       "      <td>NaN</td>\n",
       "      <td>NaN</td>\n",
       "      <td>NaN</td>\n",
       "      <td>NaN</td>\n",
       "      <td>NaN</td>\n",
       "      <td>NaN</td>\n",
       "      <td>NaN</td>\n",
       "      <td>NaN</td>\n",
       "      <td>NaN</td>\n",
       "      <td>NaN</td>\n",
       "    </tr>\n",
       "    <tr>\n",
       "      <th>4</th>\n",
       "      <td>city_0</td>\n",
       "      <td>2011-01-05</td>\n",
       "      <td>1</td>\n",
       "      <td>0</td>\n",
       "      <td>0</td>\n",
       "      <td>1</td>\n",
       "      <td>0</td>\n",
       "      <td>3</td>\n",
       "      <td>1</td>\n",
       "      <td>1</td>\n",
       "      <td>...</td>\n",
       "      <td>929.0</td>\n",
       "      <td>NaN</td>\n",
       "      <td>NaN</td>\n",
       "      <td>NaN</td>\n",
       "      <td>NaN</td>\n",
       "      <td>NaN</td>\n",
       "      <td>NaN</td>\n",
       "      <td>NaN</td>\n",
       "      <td>NaN</td>\n",
       "      <td>NaN</td>\n",
       "    </tr>\n",
       "  </tbody>\n",
       "</table>\n",
       "<p>5 rows × 30 columns</p>\n",
       "</div>"
      ],
      "text/plain": [
       "     city     dteday  season  yr  mkt  mnth  holiday  weekday  workingday  \\\n",
       "0  city_0 2011-01-01       1   0    0     1        0        6           0   \n",
       "1  city_0 2011-01-02       1   0    0     1        0        0           0   \n",
       "2  city_0 2011-01-03       1   0    0     1        0        1           1   \n",
       "3  city_0 2011-01-04       1   0    0     1        0        2           1   \n",
       "4  city_0 2011-01-05       1   0    0     1        0        3           1   \n",
       "\n",
       "   weathersit  ...  cnt_l4  cnt_l5  cnt_l6  cnt_l7  cnt_l8  cnt_l9  cnt_l10  \\\n",
       "0           2  ...     NaN     NaN     NaN     NaN     NaN     NaN      NaN   \n",
       "1           2  ...     NaN     NaN     NaN     NaN     NaN     NaN      NaN   \n",
       "2           1  ...     NaN     NaN     NaN     NaN     NaN     NaN      NaN   \n",
       "3           1  ...     NaN     NaN     NaN     NaN     NaN     NaN      NaN   \n",
       "4           1  ...   929.0     NaN     NaN     NaN     NaN     NaN      NaN   \n",
       "\n",
       "   cnt_l11  cnt_l12  cnt_l13  \n",
       "0      NaN      NaN      NaN  \n",
       "1      NaN      NaN      NaN  \n",
       "2      NaN      NaN      NaN  \n",
       "3      NaN      NaN      NaN  \n",
       "4      NaN      NaN      NaN  \n",
       "\n",
       "[5 rows x 30 columns]"
      ]
     },
     "execution_count": 14,
     "metadata": {},
     "output_type": "execute_result"
    }
   ],
   "source": [
    "lags = range(1, 14)\n",
    "\n",
    "dataset = (bike_data\n",
    "           .assign(**{f\"cnt_l{l}\": bike_data.groupby(\"city\")[\"cnt\"].shift(l) for l in lags}))\n",
    "           \n",
    "dataset.head()"
   ]
  },
  {
   "cell_type": "markdown",
   "metadata": {},
   "source": [
    "E vamos adicionar variáveis dummies."
   ]
  },
  {
   "cell_type": "code",
   "execution_count": 15,
   "metadata": {},
   "outputs": [
    {
     "data": {
      "text/html": [
       "<div>\n",
       "<style scoped>\n",
       "    .dataframe tbody tr th:only-of-type {\n",
       "        vertical-align: middle;\n",
       "    }\n",
       "\n",
       "    .dataframe tbody tr th {\n",
       "        vertical-align: top;\n",
       "    }\n",
       "\n",
       "    .dataframe thead th {\n",
       "        text-align: right;\n",
       "    }\n",
       "</style>\n",
       "<table border=\"1\" class=\"dataframe\">\n",
       "  <thead>\n",
       "    <tr style=\"text-align: right;\">\n",
       "      <th></th>\n",
       "      <th>city</th>\n",
       "      <th>dteday</th>\n",
       "      <th>mkt</th>\n",
       "      <th>holiday</th>\n",
       "      <th>workingday</th>\n",
       "      <th>temp</th>\n",
       "      <th>atemp</th>\n",
       "      <th>hum</th>\n",
       "      <th>windspeed</th>\n",
       "      <th>stock</th>\n",
       "      <th>...</th>\n",
       "      <th>mnth_11</th>\n",
       "      <th>mnth_12</th>\n",
       "      <th>weekday_1</th>\n",
       "      <th>weekday_2</th>\n",
       "      <th>weekday_3</th>\n",
       "      <th>weekday_4</th>\n",
       "      <th>weekday_5</th>\n",
       "      <th>weekday_6</th>\n",
       "      <th>weathersit_2</th>\n",
       "      <th>weathersit_3</th>\n",
       "    </tr>\n",
       "  </thead>\n",
       "  <tbody>\n",
       "    <tr>\n",
       "      <th>0</th>\n",
       "      <td>city_0</td>\n",
       "      <td>2011-01-01</td>\n",
       "      <td>0</td>\n",
       "      <td>0</td>\n",
       "      <td>0</td>\n",
       "      <td>0.344167</td>\n",
       "      <td>0.363625</td>\n",
       "      <td>0.805833</td>\n",
       "      <td>0.160446</td>\n",
       "      <td>997</td>\n",
       "      <td>...</td>\n",
       "      <td>0</td>\n",
       "      <td>0</td>\n",
       "      <td>0</td>\n",
       "      <td>0</td>\n",
       "      <td>0</td>\n",
       "      <td>0</td>\n",
       "      <td>0</td>\n",
       "      <td>1</td>\n",
       "      <td>1</td>\n",
       "      <td>0</td>\n",
       "    </tr>\n",
       "    <tr>\n",
       "      <th>1</th>\n",
       "      <td>city_0</td>\n",
       "      <td>2011-01-02</td>\n",
       "      <td>0</td>\n",
       "      <td>0</td>\n",
       "      <td>0</td>\n",
       "      <td>0.363478</td>\n",
       "      <td>0.353739</td>\n",
       "      <td>0.696087</td>\n",
       "      <td>0.248539</td>\n",
       "      <td>1231</td>\n",
       "      <td>...</td>\n",
       "      <td>0</td>\n",
       "      <td>0</td>\n",
       "      <td>0</td>\n",
       "      <td>0</td>\n",
       "      <td>0</td>\n",
       "      <td>0</td>\n",
       "      <td>0</td>\n",
       "      <td>0</td>\n",
       "      <td>1</td>\n",
       "      <td>0</td>\n",
       "    </tr>\n",
       "    <tr>\n",
       "      <th>2</th>\n",
       "      <td>city_0</td>\n",
       "      <td>2011-01-03</td>\n",
       "      <td>0</td>\n",
       "      <td>0</td>\n",
       "      <td>1</td>\n",
       "      <td>0.196364</td>\n",
       "      <td>0.189405</td>\n",
       "      <td>0.437273</td>\n",
       "      <td>0.248309</td>\n",
       "      <td>1395</td>\n",
       "      <td>...</td>\n",
       "      <td>0</td>\n",
       "      <td>0</td>\n",
       "      <td>1</td>\n",
       "      <td>0</td>\n",
       "      <td>0</td>\n",
       "      <td>0</td>\n",
       "      <td>0</td>\n",
       "      <td>0</td>\n",
       "      <td>0</td>\n",
       "      <td>0</td>\n",
       "    </tr>\n",
       "    <tr>\n",
       "      <th>3</th>\n",
       "      <td>city_0</td>\n",
       "      <td>2011-01-04</td>\n",
       "      <td>0</td>\n",
       "      <td>0</td>\n",
       "      <td>1</td>\n",
       "      <td>0.200000</td>\n",
       "      <td>0.212122</td>\n",
       "      <td>0.590435</td>\n",
       "      <td>0.160296</td>\n",
       "      <td>1651</td>\n",
       "      <td>...</td>\n",
       "      <td>0</td>\n",
       "      <td>0</td>\n",
       "      <td>0</td>\n",
       "      <td>1</td>\n",
       "      <td>0</td>\n",
       "      <td>0</td>\n",
       "      <td>0</td>\n",
       "      <td>0</td>\n",
       "      <td>0</td>\n",
       "      <td>0</td>\n",
       "    </tr>\n",
       "    <tr>\n",
       "      <th>4</th>\n",
       "      <td>city_0</td>\n",
       "      <td>2011-01-05</td>\n",
       "      <td>0</td>\n",
       "      <td>0</td>\n",
       "      <td>1</td>\n",
       "      <td>0.226957</td>\n",
       "      <td>0.229270</td>\n",
       "      <td>0.436957</td>\n",
       "      <td>0.186900</td>\n",
       "      <td>2334</td>\n",
       "      <td>...</td>\n",
       "      <td>0</td>\n",
       "      <td>0</td>\n",
       "      <td>0</td>\n",
       "      <td>0</td>\n",
       "      <td>1</td>\n",
       "      <td>0</td>\n",
       "      <td>0</td>\n",
       "      <td>0</td>\n",
       "      <td>0</td>\n",
       "      <td>0</td>\n",
       "    </tr>\n",
       "  </tbody>\n",
       "</table>\n",
       "<p>5 rows × 48 columns</p>\n",
       "</div>"
      ],
      "text/plain": [
       "     city     dteday  mkt  holiday  workingday      temp     atemp       hum  \\\n",
       "0  city_0 2011-01-01    0        0           0  0.344167  0.363625  0.805833   \n",
       "1  city_0 2011-01-02    0        0           0  0.363478  0.353739  0.696087   \n",
       "2  city_0 2011-01-03    0        0           1  0.196364  0.189405  0.437273   \n",
       "3  city_0 2011-01-04    0        0           1  0.200000  0.212122  0.590435   \n",
       "4  city_0 2011-01-05    0        0           1  0.226957  0.229270  0.436957   \n",
       "\n",
       "   windspeed  stock  ...  mnth_11  mnth_12  weekday_1  weekday_2  weekday_3  \\\n",
       "0   0.160446    997  ...        0        0          0          0          0   \n",
       "1   0.248539   1231  ...        0        0          0          0          0   \n",
       "2   0.248309   1395  ...        0        0          1          0          0   \n",
       "3   0.160296   1651  ...        0        0          0          1          0   \n",
       "4   0.186900   2334  ...        0        0          0          0          1   \n",
       "\n",
       "   weekday_4  weekday_5  weekday_6  weathersit_2  weathersit_3  \n",
       "0          0          0          1             1             0  \n",
       "1          0          0          0             1             0  \n",
       "2          0          0          0             0             0  \n",
       "3          0          0          0             0             0  \n",
       "4          0          0          0             0             0  \n",
       "\n",
       "[5 rows x 48 columns]"
      ]
     },
     "execution_count": 15,
     "metadata": {},
     "output_type": "execute_result"
    }
   ],
   "source": [
    "catge_features = [\"season\",\"yr\",\"mnth\",\"weekday\",\"weathersit\"]\n",
    "dataset = pd.get_dummies(dataset, columns=catge_features, drop_first=True)\n",
    "dataset.head()"
   ]
  },
  {
   "cell_type": "markdown",
   "metadata": {},
   "source": [
    "### Valores Faltantes"
   ]
  },
  {
   "cell_type": "code",
   "execution_count": 16,
   "metadata": {},
   "outputs": [
    {
     "data": {
      "text/plain": [
       "city            0.000000\n",
       "dteday          0.000000\n",
       "mkt             0.000000\n",
       "holiday         0.000000\n",
       "workingday      0.000000\n",
       "temp            0.000000\n",
       "atemp           0.000000\n",
       "hum             0.000000\n",
       "windspeed       0.000000\n",
       "stock           0.000000\n",
       "cnt             0.000000\n",
       "target          0.000000\n",
       "cnt_l1          0.001387\n",
       "cnt_l2          0.002774\n",
       "cnt_l3          0.004161\n",
       "cnt_l4          0.005548\n",
       "cnt_l5          0.006935\n",
       "cnt_l6          0.008322\n",
       "cnt_l7          0.009709\n",
       "cnt_l8          0.011096\n",
       "cnt_l9          0.012483\n",
       "cnt_l10         0.013870\n",
       "cnt_l11         0.015257\n",
       "cnt_l12         0.016644\n",
       "cnt_l13         0.018031\n",
       "season_2        0.000000\n",
       "season_3        0.000000\n",
       "season_4        0.000000\n",
       "yr_1            0.000000\n",
       "mnth_2          0.000000\n",
       "mnth_3          0.000000\n",
       "mnth_4          0.000000\n",
       "mnth_5          0.000000\n",
       "mnth_6          0.000000\n",
       "mnth_7          0.000000\n",
       "mnth_8          0.000000\n",
       "mnth_9          0.000000\n",
       "mnth_10         0.000000\n",
       "mnth_11         0.000000\n",
       "mnth_12         0.000000\n",
       "weekday_1       0.000000\n",
       "weekday_2       0.000000\n",
       "weekday_3       0.000000\n",
       "weekday_4       0.000000\n",
       "weekday_5       0.000000\n",
       "weekday_6       0.000000\n",
       "weathersit_2    0.000000\n",
       "weathersit_3    0.000000\n",
       "dtype: float64"
      ]
     },
     "execution_count": 16,
     "metadata": {},
     "output_type": "execute_result"
    }
   ],
   "source": [
    "dataset.isna().mean()"
   ]
  },
  {
   "cell_type": "code",
   "execution_count": 17,
   "metadata": {},
   "outputs": [],
   "source": [
    "dataset = dataset.dropna()"
   ]
  },
  {
   "cell_type": "markdown",
   "metadata": {},
   "source": [
    "## Variáveis e Target"
   ]
  },
  {
   "cell_type": "code",
   "execution_count": 18,
   "metadata": {},
   "outputs": [],
   "source": [
    "non_features = [\"city\", \"dteday\", \"target\"]\n",
    "\n",
    "# similar to \n",
    "# features = list(filter(lambda col: col not in non_features, dataset.columns))\n",
    "features = [col for col in dataset.columns if col not in non_features]\n",
    "target = \"target\""
   ]
  },
  {
   "cell_type": "markdown",
   "metadata": {},
   "source": [
    "## Pipelines\n",
    "\n",
    "Em ML, um modelo raramente é apenas o algorítmo de aprendizado de máquina e envolve também passos de pré-processamento dos dados. Esses passo também precisam ser estimados nos dados de treino e aplicados nos dados de teste ou validação. Alguns exemplos são\n",
    "\n",
    "* Normalização das Features\n",
    "* Criar variáveis dummies"
   ]
  },
  {
   "cell_type": "code",
   "execution_count": 19,
   "metadata": {},
   "outputs": [
    {
     "name": "stdout",
     "output_type": "stream",
     "text": [
      "Train result: 0.6548686522870273\n",
      "Test result: 0.6521090317287668\n"
     ]
    }
   ],
   "source": [
    "from sklearn.linear_model import Ridge\n",
    "X_train, X_test, y_train, y_test = train_test_split(dataset[features], dataset[target],\n",
    "                                                    test_size=0.5, random_state=42)\n",
    "\n",
    "model = make_pipeline(StandardScaler(), # para treinar mais rápido\n",
    "                      Ridge())\n",
    "\n",
    "# treinamos em um dataset\n",
    "model.fit(X_train, y_train)\n",
    "\n",
    "# validamos em outro dataset\n",
    "print(\"Train result:\", model.score(X_train, y_train)),\n",
    "print(\"Test result:\", model.score(X_test, y_test))"
   ]
  },
  {
   "cell_type": "markdown",
   "metadata": {},
   "source": [
    "## K-Fold Cross Validation\n",
    "\n",
    "Em vez de fazer validação cruzada uma única vez, podemos repetir o processo para vários sub-samples. Isso nos dará uma estimativa da variância do nosso modelo.\n",
    "\n",
    "![](https://scikit-learn.org/stable/_images/grid_search_cross_validation.png)"
   ]
  },
  {
   "cell_type": "code",
   "execution_count": 20,
   "metadata": {},
   "outputs": [
    {
     "data": {
      "text/plain": [
       "array([0.63807944, 0.65434312, 0.65490763, 0.65886135, 0.65847631,\n",
       "       0.66011409, 0.6574404 , 0.6588355 , 0.64870754, 0.6427711 ])"
      ]
     },
     "execution_count": 20,
     "metadata": {},
     "output_type": "execute_result"
    }
   ],
   "source": [
    "scores = cross_val_score(model, dataset[features], dataset[target], cv=10)    \n",
    "scores"
   ]
  },
  {
   "cell_type": "code",
   "execution_count": 21,
   "metadata": {},
   "outputs": [
    {
     "data": {
      "image/png": "[encoded data removed]",
      "text/plain": [
       "<Figure size 432x288 with 1 Axes>"
      ]
     },
     "metadata": {
      "needs_background": "light"
     },
     "output_type": "display_data"
    }
   ],
   "source": [
    "plt.boxplot(scores)\n",
    "plt.show()"
   ]
  },
  {
   "cell_type": "markdown",
   "metadata": {},
   "source": [
    "### Beleza... Aí você sai de uma aula de ML 101 e acha bem de boas né? Só seprar os dados em treino e teste, estimar meu modelo no treino e avaliar no test\n",
    "Geralmente (muito geralmente, tipo o tempo todo. Serio!), os seus resultados de produção são beeem piores do que os dados de teste. O que acontece?\n",
    "\n",
    ". \n",
    "\n",
    "Durante o treino do seu modelo, os dados são sempre os mesmos. Eles são estaticos. Quando você vai pra produção, seus dados estão sempre mudando!\n",
    "\n",
    "* Seus dados mudam no tempo (sempre! sempre sempre sempre!!!)\n",
    "* Seus dados mudam no espaço"
   ]
  },
  {
   "cell_type": "markdown",
   "metadata": {},
   "source": [
    "## Cross Validation Temporal\n",
    "\n",
    "![](img/cv-real-world.png)"
   ]
  },
  {
   "cell_type": "code",
   "execution_count": 22,
   "metadata": {},
   "outputs": [
    {
     "data": {
      "text/plain": [
       "(Timestamp('2011-01-14 00:00:00'), Timestamp('2012-12-21 00:00:00'))"
      ]
     },
     "execution_count": 22,
     "metadata": {},
     "output_type": "execute_result"
    }
   ],
   "source": [
    "time_column = \"dteday\"\n",
    "dataset[time_column].min(), dataset[time_column].max()"
   ]
  },
  {
   "cell_type": "code",
   "execution_count": 23,
   "metadata": {},
   "outputs": [
    {
     "name": "stdout",
     "output_type": "stream",
     "text": [
      "Train result: 0.3506208737584583\n",
      "Test result: -0.6214834686164761\n"
     ]
    }
   ],
   "source": [
    "train_start_date = \"2011-01-01\"\n",
    "train_end_date = \"2012-03-01\"\n",
    "holdout_start_date = \"2012-05-01\"\n",
    "holdout_end_date = \"2012-12-21\"\n",
    "\n",
    "\n",
    "train_set = dataset[\n",
    "    (dataset[time_column] >= train_start_date) & (dataset[time_column] < train_end_date)]\n",
    "\n",
    "test_set = dataset[\n",
    "        (dataset[time_column] >= holdout_start_date) & (dataset[time_column] < holdout_end_date)]\n",
    "\n",
    "X_train, X_test, y_train, y_test = train_set[features], test_set[features], train_set[target], test_set[target]\n",
    "\n",
    "model = make_pipeline(StandardScaler(),\n",
    "                      Ridge(1e6))\n",
    "\n",
    "# treinamos em um dataset\n",
    "model.fit(X_train, y_train)\n",
    "\n",
    "# validamos em outro dataset\n",
    "print(\"Train result:\", model.score(X_train, y_train)),\n",
    "print(\"Test result:\", model.score(X_test, y_test))"
   ]
  },
  {
   "cell_type": "markdown",
   "metadata": {},
   "source": [
    "Você consegue ajustar o parâmetro de complexidade do seu modelo para ter um bom resultado?"
   ]
  },
  {
   "cell_type": "code",
   "execution_count": null,
   "metadata": {},
   "outputs": [],
   "source": []
  },
  {
   "cell_type": "markdown",
   "metadata": {},
   "source": [
    "## Cross Validação no Tempo e Espaço\n",
    "\n",
    "![](img/cv-time-space.png)"
   ]
  },
  {
   "cell_type": "code",
   "execution_count": 24,
   "metadata": {},
   "outputs": [],
   "source": [
    "space_column=\"city\"\n",
    "\n",
    "train_period = dataset[\n",
    "        (dataset[time_column] >= train_start_date) & (dataset[time_column] < train_end_date)]\n",
    "\n",
    "outime_holdout = dataset[\n",
    "        (dataset[time_column] >= train_end_date) & (dataset[time_column] < holdout_end_date)]\n",
    "\n",
    "train_period_space = np.sort(train_period[space_column].unique())\n",
    "\n",
    "holdout_space = np.random.choice(train_period_space,\n",
    "                                 int(0.3 * len(train_period_space)), replace=False)\n",
    "\n",
    "train_set = train_period[~train_period[space_column].isin(holdout_space)]\n",
    "intime_outspace_hdout = train_period[train_period[space_column].isin(holdout_space)]\n",
    "outime_outspace_hdout = outime_holdout[outime_holdout[space_column].isin(holdout_space)]"
   ]
  },
  {
   "cell_type": "code",
   "execution_count": 25,
   "metadata": {},
   "outputs": [
    {
     "name": "stdout",
     "output_type": "stream",
     "text": [
      "Train result: 0.5532027570411512\n",
      "Test result: 0.17674169139037121\n"
     ]
    }
   ],
   "source": [
    "X_train, X_test, y_train, y_test = train_set[features], outime_outspace_hdout[features], train_set[target], outime_outspace_hdout[target]\n",
    "\n",
    "model = make_pipeline(StandardScaler(),\n",
    "                      Ridge(1e0))\n",
    "\n",
    "# treinamos em um dataset\n",
    "model.fit(X_train, y_train)\n",
    "\n",
    "# validamos em outro dataset\n",
    "print(\"Train result:\", model.score(X_train, y_train)),\n",
    "print(\"Test result:\", model.score(X_test, y_test))"
   ]
  },
  {
   "cell_type": "markdown",
   "metadata": {},
   "source": [
    "# Bonus: Casos Reais\n",
    "\n",
    "Monedas PPT"
   ]
  },
  {
   "cell_type": "code",
   "execution_count": null,
   "metadata": {},
   "outputs": [],
   "source": []
  }
 ],
 "metadata": {
  "kernelspec": {
   "display_name": "Python 3",
   "language": "python",
   "name": "python3"
  },
  "language_info": {
   "codemirror_mode": {
    "name": "ipython",
    "version": 3
   },
   "file_extension": ".py",
   "mimetype": "text/x-python",
   "name": "python",
   "nbconvert_exporter": "python",
   "pygments_lexer": "ipython3",
   "version": "3.6.8"
  }
 },
 "nbformat": 4,
 "nbformat_minor": 2
}

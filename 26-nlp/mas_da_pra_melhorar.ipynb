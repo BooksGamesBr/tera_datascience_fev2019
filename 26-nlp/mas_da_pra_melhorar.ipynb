{
 "cells": [
  {
   "cell_type": "markdown",
   "metadata": {},
   "source": [
    "# Mas dá pra melhorar?\n",
    "\n",
    "\n",
    "Vimos na primeira parte da aula formas de tratar as nossas features em vetores de palavras que basicamente contam elas. Mas essas representações são as melhores possíveis?? Talvez sim talvez **não** ([There is no free lunch !](https://chemicalstatistician.wordpress.com/2014/01/24/machine-learning-lesson-of-the-day-the-no-free-lunch-theorem/))\n",
    "\n",
    "Podemos ter representações ainda mais poderosas de palavras e veremos o poder delas\n",
    "\n",
    "## Word2Vec e BERT"
   ]
  }
 ],
 "metadata": {
  "kernelspec": {
   "display_name": "Python 3",
   "language": "python",
   "name": "python3"
  },
  "language_info": {
   "codemirror_mode": {
    "name": "ipython",
    "version": 3
   },
   "file_extension": ".py",
   "mimetype": "text/x-python",
   "name": "python",
   "nbconvert_exporter": "python",
   "pygments_lexer": "ipython3",
   "version": "3.6.5"
  }
 },
 "nbformat": 4,
 "nbformat_minor": 2
}

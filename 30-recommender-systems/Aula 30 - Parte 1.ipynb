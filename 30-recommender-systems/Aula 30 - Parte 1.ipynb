{
 "cells": [
  {
   "cell_type": "markdown",
   "metadata": {},
   "source": [
    "# Sistemas de recomendação\n",
    "\n",
    "## O que são?\n",
    "\n",
    "* sistemas que calculam e fornecem itens relevantes a um usuário baseado no conhecimento sobre o usuário, conteúdo e sobre as interações do usuário com os itens (tradução livre de uma definição encontrada em [[1]](https://www.manning.com/books/practical-recommender-systems))\n",
    "\n",
    "\n",
    "## Importância hoje?\n",
    "\n",
    "* anedotas\n",
    "    1. youtube\n",
    "    2. arxiv\n",
    "\n",
    "## Exemplos:\n",
    "\n",
    "* recomendações da Amazon após visualização do livro _Foundations of Natural Language Processing_:\n",
    "\n",
    "![](resources/imgs/amazon_recommender.png)\n",
    "\n",
    "* recomendações da Netflix para mim:\n",
    "\n",
    "![](resources/imgs/netflix_recommender.png)\n",
    "\n",
    "* **Mais??**"
   ]
  },
  {
   "cell_type": "markdown",
   "metadata": {},
   "source": [
    "## Quando falamos de sistemas de recomendação...\n",
    "\n",
    "... devemos definir:\n",
    "\n",
    "* o quê?\n",
    "\n",
    "* por quê?\n",
    "\n",
    "* onde/como?\n",
    "\n",
    "* quão personalizado?"
   ]
  },
  {
   "cell_type": "markdown",
   "metadata": {},
   "source": [
    "## Efeitos indesejados\n",
    "\n",
    "* invasão de privacidade\n",
    "\n",
    "<img src=\"resources/imgs/target.png\" width=\"500\">\n",
    "\n",
    "Fonte: [Business Insider](https://www.businessinsider.com/the-incredible-story-of-how-target-exposed-a-teen-girls-pregnancy-2012-2)\n",
    "\n",
    "* espalhamento de desinformação\n",
    "\n",
    "<img src=\"resources/imgs/youtube.png\" width=\"300\">\n",
    "\n",
    "Fonte: [Twitter](https://twitter.com/PeterD_Adams/status/1089583479761788928). Leia mais no [NYT](https://www.nytimes.com/2018/03/10/opinion/sunday/youtube-politics-radical.html#click=https://t.co/cGE67FhlsI).\n",
    "\n",
    "* quebra de confiança\n",
    "\n",
    "<img src=\"resources/imgs/taboo.png\" width=\"600\">\n",
    "\n",
    "Fonte: essas são as recomendações geradas pelo Taboola no final da página do [Business Insider](https://www.businessinsider.com/the-incredible-story-of-how-target-exposed-a-teen-girls-pregnancy-2012-2). Leia mais sobre esse tipo de recomendação em [Fortune](http://fortune.com/2016/11/01/outbrain-taboola/)."
   ]
  },
  {
   "cell_type": "markdown",
   "metadata": {},
   "source": [
    "## Criando um sistema de recomendação\n",
    "\n",
    "Nas atividades dessa aula, vamos usar uma modificação do dataset [goodbooks-10k](https://github.com/zygmuntz/goodbooks-10k), um dataset que contém as avaliações (_ratings_) para os 10 mil livros mais populares no site [goodreads](https://www.goodreads.com/).\n",
    "\n",
    "Nosso objetivo será criar um sistema de recomendação assertivo; mais especificamente, queremos maximizar a leitura dos livros que recomendamos aos usuários."
   ]
  },
  {
   "cell_type": "markdown",
   "metadata": {},
   "source": [
    "### Carregando o dataset\n",
    "\n",
    "Se você não fez o download do dataset ainda, rode a célula abaixo após descomentá-la (remova o `#`).\n",
    "\n",
    "Para as próximas atividades, é importante carregar dois dos datasets disponíveis:\n",
    "\n",
    "* `resources/data/reduced/ratings.csv`\n",
    "* `resources/data/reduced/books.csv` (necessário caso queira ver que títulos estão sendo recomendados)"
   ]
  },
  {
   "cell_type": "code",
   "execution_count": 1,
   "metadata": {},
   "outputs": [],
   "source": [
    "#!git clone -b only-reduced --single-branch https://github.com/cimarieta/goodbooks-10k.git resources/data/"
   ]
  },
  {
   "cell_type": "code",
   "execution_count": 2,
   "metadata": {},
   "outputs": [],
   "source": [
    "import warnings"
   ]
  },
  {
   "cell_type": "code",
   "execution_count": 3,
   "metadata": {},
   "outputs": [],
   "source": [
    "warnings.filterwarnings('ignore')"
   ]
  },
  {
   "cell_type": "code",
   "execution_count": 4,
   "metadata": {},
   "outputs": [],
   "source": [
    "import pandas as pd"
   ]
  },
  {
   "cell_type": "code",
   "execution_count": 5,
   "metadata": {},
   "outputs": [],
   "source": [
    "data_folder = 'resources/data/reduced'"
   ]
  },
  {
   "cell_type": "code",
   "execution_count": 6,
   "metadata": {},
   "outputs": [],
   "source": [
    "user_ratings_df = pd.read_csv(f'{data_folder}/ratings.csv')"
   ]
  },
  {
   "cell_type": "code",
   "execution_count": 7,
   "metadata": {},
   "outputs": [
    {
     "data": {
      "text/html": [
       "<div>\n",
       "<style scoped>\n",
       "    .dataframe tbody tr th:only-of-type {\n",
       "        vertical-align: middle;\n",
       "    }\n",
       "\n",
       "    .dataframe tbody tr th {\n",
       "        vertical-align: top;\n",
       "    }\n",
       "\n",
       "    .dataframe thead th {\n",
       "        text-align: right;\n",
       "    }\n",
       "</style>\n",
       "<table border=\"1\" class=\"dataframe\">\n",
       "  <thead>\n",
       "    <tr style=\"text-align: right;\">\n",
       "      <th></th>\n",
       "      <th>user_id</th>\n",
       "      <th>book_id</th>\n",
       "      <th>rating</th>\n",
       "    </tr>\n",
       "  </thead>\n",
       "  <tbody>\n",
       "    <tr>\n",
       "      <th>0</th>\n",
       "      <td>75</td>\n",
       "      <td>3254</td>\n",
       "      <td>2</td>\n",
       "    </tr>\n",
       "  </tbody>\n",
       "</table>\n",
       "</div>"
      ],
      "text/plain": [
       "   user_id  book_id  rating\n",
       "0       75     3254       2"
      ]
     },
     "execution_count": 7,
     "metadata": {},
     "output_type": "execute_result"
    }
   ],
   "source": [
    "user_ratings_df.head(n=1)"
   ]
  },
  {
   "cell_type": "code",
   "execution_count": 8,
   "metadata": {},
   "outputs": [],
   "source": [
    "book_info_df = pd.read_csv(f'{data_folder}/books.csv')\n",
    "book_info_df = book_info_df[['book_id', 'original_title', 'authors', 'original_publication_year']]"
   ]
  },
  {
   "cell_type": "code",
   "execution_count": 9,
   "metadata": {},
   "outputs": [
    {
     "data": {
      "text/html": [
       "<div>\n",
       "<style scoped>\n",
       "    .dataframe tbody tr th:only-of-type {\n",
       "        vertical-align: middle;\n",
       "    }\n",
       "\n",
       "    .dataframe tbody tr th {\n",
       "        vertical-align: top;\n",
       "    }\n",
       "\n",
       "    .dataframe thead th {\n",
       "        text-align: right;\n",
       "    }\n",
       "</style>\n",
       "<table border=\"1\" class=\"dataframe\">\n",
       "  <thead>\n",
       "    <tr style=\"text-align: right;\">\n",
       "      <th></th>\n",
       "      <th>book_id</th>\n",
       "      <th>original_title</th>\n",
       "      <th>authors</th>\n",
       "      <th>original_publication_year</th>\n",
       "    </tr>\n",
       "  </thead>\n",
       "  <tbody>\n",
       "    <tr>\n",
       "      <th>0</th>\n",
       "      <td>1</td>\n",
       "      <td>The Hunger Games</td>\n",
       "      <td>Suzanne Collins</td>\n",
       "      <td>2008.0</td>\n",
       "    </tr>\n",
       "  </tbody>\n",
       "</table>\n",
       "</div>"
      ],
      "text/plain": [
       "   book_id    original_title          authors  original_publication_year\n",
       "0        1  The Hunger Games  Suzanne Collins                     2008.0"
      ]
     },
     "execution_count": 9,
     "metadata": {},
     "output_type": "execute_result"
    }
   ],
   "source": [
    "book_info_df.head(n=1)"
   ]
  },
  {
   "cell_type": "code",
   "execution_count": 10,
   "metadata": {},
   "outputs": [
    {
     "name": "stdout",
     "output_type": "stream",
     "text": [
      "Informações sobre o dataset:\n",
      "\n",
      "* Quantidade de avaliações: 790,947\n",
      "* Quantidade de livros com avaliação: 7,690\n",
      "* Quantidade de usuários únicos:  5,000\n"
     ]
    }
   ],
   "source": [
    "print('Informações sobre o dataset:\\n')\n",
    "print('* Quantidade de avaliações: {:,}'.format(len(user_ratings_df)))\n",
    "print('* Quantidade de livros com avaliação: {:,}'.format(len(user_ratings_df['book_id'].unique())))\n",
    "print('* Quantidade de usuários únicos: {: ,}'.format(len(user_ratings_df['user_id'].unique())))"
   ]
  },
  {
   "cell_type": "markdown",
   "metadata": {},
   "source": [
    "### Filtro colaborativo\n",
    "\n",
    "Há dois tipos de filtro colaborativo: o baseado em usuário (`user user`) e o baseado no conteúdo (`item item`).\n",
    "\n",
    "<img src=\"resources/imgs/collaborative_filtering.png\" width=\"400\">\n",
    "\n",
    "Fonte: [Practical Recommender Systems](https://www.manning.com/books/practical-recommender-systems)"
   ]
  },
  {
   "cell_type": "markdown",
   "metadata": {},
   "source": [
    "#### **Atividade**: construção de um filtro colaborativo baseado em usuário\n",
    "\n",
    "Etapas:\n",
    "\n",
    "1. pré-processamento\n",
    "    * normalizar dataset de ratings: para cada `rating`, será subtraída a média de `ratings` do usuário\n",
    "    * construir uma matriz de usuários (`user_id`) por itens (`book_id`) - `ratings matrix`\n",
    "    \n",
    "2. cálculo das recomendações\n",
    "    * encontrar os usuários similares para cada usuário (usando alguma métrica de similaridade, por ex., similaridade de cossenos)\n",
    "    * construir uma função que, dado o id de um usuário, traz $n$ recomendações para ele\n",
    "\n",
    "<img src=\"resources/imgs/user_item_collaborative_filtering_pipeline.png\" width=\"600\">\n",
    "\n",
    "Fonte: [Practical Recommender Systems](https://www.manning.com/books/practical-recommender-systems)\n",
    "\n",
    "Leia mais sobre filtros colaborativos em [um artigo de revisão do Grouplens](http://files.grouplens.org/papers/FnT%20CF%20Recsys%20Survey.pdf).\n",
    "\n",
    "** Tempo estimado para a atividade total: ** 45 minutos"
   ]
  },
  {
   "cell_type": "markdown",
   "metadata": {},
   "source": [
    "#### Etapa 1: pré-processamento\n",
    "\n",
    "**Etapa 1 - parte 1:** vamos normalizar o dataset `user_ratings_df`: para cada `rating`, será subtraída a média de `ratings` do usuário:"
   ]
  },
  {
   "cell_type": "markdown",
   "metadata": {},
   "source": [
    "* construa um ` pandas.DataFrame` a partir do dataframe `user_ratings_df` com duas colunas: `user_id` e `mean_rating`, de forma que para cada `user_id`, tenhamos sua média de ratings na coluna `mean_rating`"
   ]
  },
  {
   "cell_type": "code",
   "execution_count": 11,
   "metadata": {},
   "outputs": [],
   "source": [
    "mean_ratings_per_user_df = user_ratings_df \\\n",
    "    .groupby('user_id') \\\n",
    "    .agg({'rating': 'mean'}) \\\n",
    "    .reset_index() \\\n",
    "    .rename(columns={'rating': 'mean_rating'})"
   ]
  },
  {
   "cell_type": "code",
   "execution_count": 12,
   "metadata": {},
   "outputs": [
    {
     "data": {
      "text/html": [
       "<div>\n",
       "<style scoped>\n",
       "    .dataframe tbody tr th:only-of-type {\n",
       "        vertical-align: middle;\n",
       "    }\n",
       "\n",
       "    .dataframe tbody tr th {\n",
       "        vertical-align: top;\n",
       "    }\n",
       "\n",
       "    .dataframe thead th {\n",
       "        text-align: right;\n",
       "    }\n",
       "</style>\n",
       "<table border=\"1\" class=\"dataframe\">\n",
       "  <thead>\n",
       "    <tr style=\"text-align: right;\">\n",
       "      <th></th>\n",
       "      <th>user_id</th>\n",
       "      <th>mean_rating</th>\n",
       "    </tr>\n",
       "  </thead>\n",
       "  <tbody>\n",
       "    <tr>\n",
       "      <th>0</th>\n",
       "      <td>7</td>\n",
       "      <td>3.835526</td>\n",
       "    </tr>\n",
       "    <tr>\n",
       "      <th>1</th>\n",
       "      <td>35</td>\n",
       "      <td>3.114943</td>\n",
       "    </tr>\n",
       "  </tbody>\n",
       "</table>\n",
       "</div>"
      ],
      "text/plain": [
       "   user_id  mean_rating\n",
       "0        7     3.835526\n",
       "1       35     3.114943"
      ]
     },
     "execution_count": 12,
     "metadata": {},
     "output_type": "execute_result"
    }
   ],
   "source": [
    "mean_ratings_per_user_df.head(n=2)"
   ]
  },
  {
   "cell_type": "code",
   "execution_count": 13,
   "metadata": {},
   "outputs": [],
   "source": [
    "user_ratings_df = user_ratings_df.merge(\n",
    "    mean_ratings_per_user_df, on='user_id', how='inner')"
   ]
  },
  {
   "cell_type": "code",
   "execution_count": 14,
   "metadata": {},
   "outputs": [
    {
     "data": {
      "text/html": [
       "<div>\n",
       "<style scoped>\n",
       "    .dataframe tbody tr th:only-of-type {\n",
       "        vertical-align: middle;\n",
       "    }\n",
       "\n",
       "    .dataframe tbody tr th {\n",
       "        vertical-align: top;\n",
       "    }\n",
       "\n",
       "    .dataframe thead th {\n",
       "        text-align: right;\n",
       "    }\n",
       "</style>\n",
       "<table border=\"1\" class=\"dataframe\">\n",
       "  <thead>\n",
       "    <tr style=\"text-align: right;\">\n",
       "      <th></th>\n",
       "      <th>user_id</th>\n",
       "      <th>book_id</th>\n",
       "      <th>rating</th>\n",
       "      <th>mean_rating</th>\n",
       "    </tr>\n",
       "  </thead>\n",
       "  <tbody>\n",
       "    <tr>\n",
       "      <th>0</th>\n",
       "      <td>75</td>\n",
       "      <td>3254</td>\n",
       "      <td>2</td>\n",
       "      <td>3.496894</td>\n",
       "    </tr>\n",
       "    <tr>\n",
       "      <th>1</th>\n",
       "      <td>75</td>\n",
       "      <td>6777</td>\n",
       "      <td>5</td>\n",
       "      <td>3.496894</td>\n",
       "    </tr>\n",
       "  </tbody>\n",
       "</table>\n",
       "</div>"
      ],
      "text/plain": [
       "   user_id  book_id  rating  mean_rating\n",
       "0       75     3254       2     3.496894\n",
       "1       75     6777       5     3.496894"
      ]
     },
     "execution_count": 14,
     "metadata": {},
     "output_type": "execute_result"
    }
   ],
   "source": [
    "user_ratings_df.head(n=2)"
   ]
  },
  {
   "cell_type": "code",
   "execution_count": 15,
   "metadata": {},
   "outputs": [],
   "source": [
    "user_ratings_df['norm_rating'] = user_ratings_df['rating'] - user_ratings_df['mean_rating']"
   ]
  },
  {
   "cell_type": "code",
   "execution_count": 16,
   "metadata": {},
   "outputs": [
    {
     "data": {
      "text/html": [
       "<div>\n",
       "<style scoped>\n",
       "    .dataframe tbody tr th:only-of-type {\n",
       "        vertical-align: middle;\n",
       "    }\n",
       "\n",
       "    .dataframe tbody tr th {\n",
       "        vertical-align: top;\n",
       "    }\n",
       "\n",
       "    .dataframe thead th {\n",
       "        text-align: right;\n",
       "    }\n",
       "</style>\n",
       "<table border=\"1\" class=\"dataframe\">\n",
       "  <thead>\n",
       "    <tr style=\"text-align: right;\">\n",
       "      <th></th>\n",
       "      <th>user_id</th>\n",
       "      <th>book_id</th>\n",
       "      <th>rating</th>\n",
       "      <th>mean_rating</th>\n",
       "      <th>norm_rating</th>\n",
       "    </tr>\n",
       "  </thead>\n",
       "  <tbody>\n",
       "    <tr>\n",
       "      <th>0</th>\n",
       "      <td>75</td>\n",
       "      <td>3254</td>\n",
       "      <td>2</td>\n",
       "      <td>3.496894</td>\n",
       "      <td>-1.496894</td>\n",
       "    </tr>\n",
       "    <tr>\n",
       "      <th>1</th>\n",
       "      <td>75</td>\n",
       "      <td>6777</td>\n",
       "      <td>5</td>\n",
       "      <td>3.496894</td>\n",
       "      <td>1.503106</td>\n",
       "    </tr>\n",
       "  </tbody>\n",
       "</table>\n",
       "</div>"
      ],
      "text/plain": [
       "   user_id  book_id  rating  mean_rating  norm_rating\n",
       "0       75     3254       2     3.496894    -1.496894\n",
       "1       75     6777       5     3.496894     1.503106"
      ]
     },
     "execution_count": 16,
     "metadata": {},
     "output_type": "execute_result"
    }
   ],
   "source": [
    "user_ratings_df.head(n=2)"
   ]
  },
  {
   "cell_type": "markdown",
   "metadata": {},
   "source": [
    "* vamos separar parte do nosso dataset como treino e parte dele como teste"
   ]
  },
  {
   "cell_type": "code",
   "execution_count": 17,
   "metadata": {},
   "outputs": [],
   "source": [
    "from sklearn.model_selection import train_test_split"
   ]
  },
  {
   "cell_type": "code",
   "execution_count": 18,
   "metadata": {},
   "outputs": [],
   "source": [
    "train_indices, test_indices = train_test_split(range(len(user_ratings_df)))"
   ]
  },
  {
   "cell_type": "markdown",
   "metadata": {},
   "source": [
    "* podemos verificar se a quantidade de usuários no dataset de treino é a mesma do dataset original"
   ]
  },
  {
   "cell_type": "code",
   "execution_count": 20,
   "metadata": {},
   "outputs": [
    {
     "data": {
      "text/plain": [
       "True"
      ]
     },
     "execution_count": 20,
     "metadata": {},
     "output_type": "execute_result"
    }
   ],
   "source": [
    "len(train_df['user_id'].unique()) == len(user_ratings_df['user_id'].unique())"
   ]
  },
  {
   "cell_type": "markdown",
   "metadata": {},
   "source": [
    "**Etapa 1 - parte 2: ** vamos construir uma matriz de usuários por itens (`ratings_matrix`)\n",
    "\n",
    "```python\n",
    "# naive approach\n",
    "user_items_matrix = pd.pivot_table(\n",
    "    user_ratings_df,\n",
    "    values='rating',\n",
    "    index=['user_id'],\n",
    "    columns=['book_id'],\n",
    "    aggfunc=lambda x: x\n",
    ").fillna(0).reset_index().values\n",
    "``` \n",
    "\n",
    "<img src=\"resources/imgs/memory_error.png\" width=\"800\">"
   ]
  },
  {
   "cell_type": "markdown",
   "metadata": {},
   "source": [
    "* para evitar erros de memória, vamos construir uma [matriz esparsa](https://docs.scipy.org/doc/scipy/reference/generated/scipy.sparse.coo_matrix.html) com os dados!"
   ]
  },
  {
   "cell_type": "code",
   "execution_count": 21,
   "metadata": {},
   "outputs": [],
   "source": [
    "import numpy as np\n",
    "from scipy.sparse import coo_matrix"
   ]
  },
  {
   "cell_type": "code",
   "execution_count": 22,
   "metadata": {},
   "outputs": [],
   "source": [
    "unique_user_ids_df = user_ratings_df[['user_id']].drop_duplicates()\n",
    "unique_user_ids_df['ref_user_id'] = np.arange(len(unique_user_ids_df))"
   ]
  },
  {
   "cell_type": "code",
   "execution_count": 23,
   "metadata": {},
   "outputs": [],
   "source": [
    "unique_book_ids_df = user_ratings_df[['book_id']].drop_duplicates()\n",
    "unique_book_ids_df['ref_book_id'] = np.arange(len(unique_book_ids_df))"
   ]
  },
  {
   "cell_type": "markdown",
   "metadata": {},
   "source": [
    "* é importante conseguir identificar que linha da matriz (`id`) corresponde a que `user_id` e vice-versa, por isso vamos criar dois dicionários:"
   ]
  },
  {
   "cell_type": "code",
   "execution_count": 24,
   "metadata": {},
   "outputs": [],
   "source": [
    "ref_id2user_id = unique_user_ids_df.set_index('ref_user_id')['user_id'].to_dict()\n",
    "user_id2ref_id = {user_id: ref_id for ref_id, user_id in ref_id2user_id.items()}"
   ]
  },
  {
   "cell_type": "markdown",
   "metadata": {},
   "source": [
    "* o mesmo vale para os `book_id`:"
   ]
  },
  {
   "cell_type": "code",
   "execution_count": 25,
   "metadata": {},
   "outputs": [],
   "source": [
    "ref_id2book_id = unique_book_ids_df.set_index('ref_book_id')['book_id'].to_dict()\n",
    "book_id2ref_id = {book_id: ref_id for ref_id, book_id in ref_id2book_id.items()}"
   ]
  },
  {
   "cell_type": "markdown",
   "metadata": {},
   "source": [
    "* para facilitar os cálculos futuros, também vamos criar um dicionário com o rating médio de cada usuário:"
   ]
  },
  {
   "cell_type": "code",
   "execution_count": 26,
   "metadata": {},
   "outputs": [],
   "source": [
    "def add_ref_ids_to_df(df):\n",
    "    return df \\\n",
    "        .merge(unique_user_ids_df, on='user_id', how='inner') \\\n",
    "        .merge(unique_book_ids_df, on='book_id', how='inner')    "
   ]
  },
  {
   "cell_type": "code",
   "execution_count": 27,
   "metadata": {},
   "outputs": [],
   "source": [
    "ref_user_id2mean_ratings = add_ref_ids_to_df(user_ratings_df)[['ref_user_id', 'mean_rating']] \\\n",
    "    .drop_duplicates() \\\n",
    "    .set_index('ref_user_id')['mean_rating'] \\\n",
    "    .to_dict()"
   ]
  },
  {
   "cell_type": "code",
   "execution_count": 101,
   "metadata": {},
   "outputs": [],
   "source": [
    "user_ratings_df = add_ref_ids_to_df(user_ratings_df)"
   ]
  },
  {
   "cell_type": "code",
   "execution_count": 19,
   "metadata": {},
   "outputs": [],
   "source": [
    "train_df, test_df = user_ratings_df.loc[train_indices], user_ratings_df.loc[test_indices]"
   ]
  },
  {
   "cell_type": "code",
   "execution_count": 29,
   "metadata": {},
   "outputs": [],
   "source": [
    "unique_user_ids_len = len(unique_user_ids_df)\n",
    "unique_book_ids_len = len(unique_book_ids_df)"
   ]
  },
  {
   "cell_type": "code",
   "execution_count": 30,
   "metadata": {},
   "outputs": [],
   "source": [
    "def generate_user_interactions_matrix(df, data_col='rating'):\n",
    "    data = df[data_col].values\n",
    "    row = df['ref_user_id'].values\n",
    "    col = df['ref_book_id'].values\n",
    "    return coo_matrix(\n",
    "        (data, (row, col)),\n",
    "        shape=(unique_user_ids_len, unique_book_ids_len),\n",
    "        dtype=np.float64\n",
    "    ).tocsr()"
   ]
  },
  {
   "cell_type": "code",
   "execution_count": 31,
   "metadata": {},
   "outputs": [],
   "source": [
    "unnormalized_user_items_matrix = generate_user_interactions_matrix(train_df)\n",
    "unnormalized_test_user_items_matrix = generate_user_interactions_matrix(test_df)"
   ]
  },
  {
   "cell_type": "code",
   "execution_count": 32,
   "metadata": {},
   "outputs": [],
   "source": [
    "user_items_matrix = generate_user_interactions_matrix(train_df, data_col='norm_rating')\n",
    "test_user_items_matrix = generate_user_interactions_matrix(test_df, data_col='norm_rating')"
   ]
  },
  {
   "cell_type": "markdown",
   "metadata": {},
   "source": [
    "* vamos salvar os dados para usar posteriormente"
   ]
  },
  {
   "cell_type": "code",
   "execution_count": 100,
   "metadata": {},
   "outputs": [],
   "source": [
    "from sklearn.externals import joblib"
   ]
  },
  {
   "cell_type": "code",
   "execution_count": 103,
   "metadata": {},
   "outputs": [],
   "source": [
    "# funciona no linux/mac\n",
    "!mkdir -p resources/data/processed"
   ]
  },
  {
   "cell_type": "code",
   "execution_count": 106,
   "metadata": {},
   "outputs": [],
   "source": [
    "joblib.dump(ref_id2user_id, 'resources/data/processed/ref_id2user_id.joblib')\n",
    "joblib.dump(ref_id2book_id, 'resources/data/processed/ref_id2book_id.joblib')\n",
    "joblib.dump(unnormalized_user_items_matrix, 'resources/data/processed/unnormalized_user_items_matrix.joblib')\n",
    "joblib.dump(user_items_matrix, 'resources/data/processed/user_items_matrix.joblib')\n",
    "joblib.dump(test_user_items_matrix, 'resources/data/processed/test_user_items_matrix.joblib')\n",
    "joblib.dump((train_indices, test_indices), 'resources/data/processed/train_test_indices.joblib')\n",
    "user_ratings_df.to_csv('resources/data/processed/user_ratings.csv', index=False)"
   ]
  },
  {
   "cell_type": "code",
   "execution_count": 33,
   "metadata": {},
   "outputs": [
    {
     "data": {
      "text/plain": [
       "(<5000x7690 sparse matrix of type '<class 'numpy.float64'>'\n",
       " \twith 593210 stored elements in Compressed Sparse Row format>,\n",
       " <5000x7690 sparse matrix of type '<class 'numpy.float64'>'\n",
       " \twith 197737 stored elements in Compressed Sparse Row format>)"
      ]
     },
     "execution_count": 33,
     "metadata": {},
     "output_type": "execute_result"
    }
   ],
   "source": [
    "user_items_matrix, test_user_items_matrix"
   ]
  },
  {
   "cell_type": "markdown",
   "metadata": {},
   "source": [
    "#### Etapa 2: cálculo das recomendações\n",
    "\n",
    "**Etapa 2 - parte 1:** vamos calcular a matriz de similaridades entre os usuários\n",
    "\n",
    "Use a função [cosine_similarity](https://scikit-learn.org/stable/modules/generated/sklearn.metrics.pairwise.cosine_similarity.html) para calcular a matriz que guardará os scores de similaridade para cada par de usuários. Aqui, a matriz de input para o cálculo das similaridades é a matriz não normalizada `unnormalized_user_items_matrix`.\n",
    "\n",
    "Note que há liberdade para escolher a métrica de similaridade que será utilizada. Outra métrica bastante comum é a [correlação de Pearson](https://docs.scipy.org/doc/scipy-0.15.1/reference/generated/scipy.stats.pearsonr.html). Veja outras métricas comuns [nesse post](http://dataaspirant.com/2015/04/11/five-most-popular-similarity-measures-implementation-in-python/).\n",
    "\n",
    "** Tempo estimado para a atividade: ** 10 minutos"
   ]
  },
  {
   "cell_type": "code",
   "execution_count": null,
   "metadata": {},
   "outputs": [],
   "source": [
    "similarities_matrix = ### "
   ]
  },
  {
   "cell_type": "markdown",
   "metadata": {},
   "source": [
    "* o tamanho da matriz de similaridades deve ser de (5000, 5000), pois 5000 é o número de usuários únicos em nosso dataset"
   ]
  },
  {
   "cell_type": "code",
   "execution_count": null,
   "metadata": {},
   "outputs": [],
   "source": [
    "similarities_matrix.shape == (5000, 5000)"
   ]
  },
  {
   "cell_type": "markdown",
   "metadata": {},
   "source": [
    "* crie uma função que dado um `ref_user_id` (ou seja, o índice do usuário na matriz) e um número $k$, retornemos uma tupla `(most_similar_users, similarities)` com os $k$ usuários (um vetor de `ref_user_id`) mais similares e com os scores de similaridade (um vetor com os scores). Note que queremos que essa tupla esteja ordenada de forma que tenhamos o usuário mais similar na primeira posição.\n",
    "\n",
    "É importante que quando $k < 0$, retornemos **todos** os usuários."
   ]
  },
  {
   "cell_type": "code",
   "execution_count": 37,
   "metadata": {},
   "outputs": [],
   "source": [
    "def get_similar_users(ref_user_id, k=-1):\n",
    "    ###"
   ]
  },
  {
   "cell_type": "markdown",
   "metadata": {},
   "source": [
    "* teste de sanidade:\n",
    "     o usuário mais próximo a um usuário $u_0$ sempre deve ser ele mesmo"
   ]
  },
  {
   "cell_type": "code",
   "execution_count": 38,
   "metadata": {},
   "outputs": [
    {
     "data": {
      "text/plain": [
       "True"
      ]
     },
     "execution_count": 38,
     "metadata": {},
     "output_type": "execute_result"
    }
   ],
   "source": [
    "u0 = 1\n",
    "similar_users, similarities = get_similar_users(u0, k=5)\n",
    "similar_users[0] == u0"
   ]
  },
  {
   "cell_type": "markdown",
   "metadata": {},
   "source": [
    "* imprima os usuários e o score de similaridade para checar"
   ]
  },
  {
   "cell_type": "code",
   "execution_count": 39,
   "metadata": {},
   "outputs": [
    {
     "name": "stdout",
     "output_type": "stream",
     "text": [
      "ref_user_id:    1 \t - \t similarity_score: 1.000000\n",
      "ref_user_id:  373 \t - \t similarity_score: 0.236112\n",
      "ref_user_id:   22 \t - \t similarity_score: 0.225952\n",
      "ref_user_id: 4628 \t - \t similarity_score: 0.220277\n",
      "ref_user_id:  432 \t - \t similarity_score: 0.214147\n"
     ]
    }
   ],
   "source": [
    "for similar_user, similarity_score in zip(similar_users, similarities):\n",
    "    print(f'ref_user_id: {similar_user:4d} \\t - \\t similarity_score: {similarity_score:5f}')"
   ]
  },
  {
   "cell_type": "markdown",
   "metadata": {},
   "source": [
    "**Etapa 2 - parte 2:** vamos construir uma função que recebe o id de um usuário e um número $n > 0$ e retorna $n$ recomendações para aquele usuário\n",
    "\n",
    "Para um dado usuário `u`, devemos calcular as predições para todos itens que o usuário não avaliou (valor `0` na matriz `user_items_matrix`).\n",
    "\n",
    "Ou seja, para cada item $i$ um dos itens não avaliados, vamos:\n",
    "\n",
    "1. encontrar quais usuários avaliaram o item $i$\n",
    "2. encontrar uma vizinhança de tamanho $k$ dentre os usuários que avaliaram aquele item (lembre-se de que se o usuário não avaliou o item, a célula correspondente será zero)\n",
    "3. calcular a predição, que será a média dos ratings dessa vizinhança ponderada pelos valores de similaridade\n",
    "\n",
    "Por exemplo:\n",
    "\n",
    "Imagine que temos 4 usuários e 5 itens, de forma que tenhamos a seguinte matriz de ratings:\n",
    "\n",
    "user_id | item_1 | item_2 | item_3 | item_4 | item_5\n",
    "--------|--------|--------|--------|--------|--------|\n",
    "user_1  |$r_{11}$|$r_{12}$|$r_{13}$|$r_{14}$|$r_{15}$|\n",
    "user_2  |$r_{21}$|$r_{22}$|$r_{23}$|$r_{24}$|$r_{25}$|\n",
    "user_3  |$r_{31}$|$r_{32}$|$r_{33}$|$r_{34}$|$r_{35}$|\n",
    "user_4  |$r_{41}$|$r_{42}$|$r_{43}$|$r_{44}$|$r_{45}$|\n",
    "\n",
    "Mas sabemos que alguns dos itens não foram avaliados:\n",
    "\n",
    "user_id | item_1 | item_2 | item_3 | item_4 | item_5\n",
    "--------|--------|--------|--------|--------|--------|\n",
    "user_1  |        |$r_{12}$|$r_{13}$|$r_{14}$|        |\n",
    "user_2  |$r_{21}$|$r_{22}$|        |$r_{24}$|$r_{25}$|\n",
    "user_3  |$r_{31}$|$r_{32}$|        |$r_{34}$|$r_{35}$|\n",
    "user_4  |$r_{41}$|        |$r_{43}$|$r_{44}$|$r_{45}$|\n",
    "\n",
    "Então, para saber se devemos recomendar o `item_3` ao usuário `user_2`, vamos calcular:\n",
    "\n",
    "$$r^{pred}_{23} = \\mu_2 + \\frac{S(u_1, u_2) \\left(r_{23} - \\mu_3 \\right) +  S(u_4, u_2) \\left(r_{43} - \\mu_4 \\right)}{|S(u_1, u_2)| + |S(u_4, u_2)|}$$\n",
    "\n",
    "em que $\\mu_i$ representa o rating médio do usuário `user_i` e $S(u_i, u_j)$ representa a similaridade entre os usuários `user_i` e `user_j`$.\n",
    "\n",
    "Note que se $k=1$, o rating seria exatamente o rating dado pelo usuário mais próximo do `user_2`, entre os usuários `user_1` e `user_4`."
   ]
  },
  {
   "cell_type": "markdown",
   "metadata": {},
   "source": [
    "* encontrar quais usuários avaliaram cada um dos itens\n",
    "\n",
    "Dica: use o método [nonzero](https://docs.scipy.org/doc/scipy-0.14.0/reference/generated/scipy.sparse.csr_matrix.nonzero.html). Note que ele retornará uma tupla, com os índices das linhas e das colunas, respectivamente.\n",
    "\n",
    "** Tempo estimado para a atividade: ** 5 minutos"
   ]
  },
  {
   "cell_type": "code",
   "execution_count": 40,
   "metadata": {},
   "outputs": [],
   "source": [
    "rows, cols = ###"
   ]
  },
  {
   "cell_type": "markdown",
   "metadata": {},
   "source": [
    "* crie uma função que recebe um `ref_book_id` e retorna os usuários que avaliaram aquele item"
   ]
  },
  {
   "cell_type": "code",
   "execution_count": 41,
   "metadata": {},
   "outputs": [],
   "source": [
    "def get_users_who_rated_book(ref_book_id):\n",
    "    ###"
   ]
  },
  {
   "cell_type": "code",
   "execution_count": 42,
   "metadata": {},
   "outputs": [],
   "source": [
    "books_rated_by_users = {}\n",
    "for ref_book_id in unique_book_ids_df.ref_book_id.values:\n",
    "    books_rated_by_users[ref_book_id] = get_users_who_rated_book(ref_book_id)"
   ]
  },
  {
   "cell_type": "markdown",
   "metadata": {},
   "source": [
    "* criar uma função que recebe o `user_id` ($\\neq $ `ref_user_id`) e uma quantidade $n > 0$ e retorna os $n$ `book_id` ($\\neq$ `ref_book_id`) recomendados\n",
    "\n",
    "    Lembre-se de que podemos sempre utilizar os dicionários que criamos anteriormente:\n",
    "\n",
    "    * `user_id2ref_id`: dado o `user_id`, retorna o `ref_user_id`\n",
    "    * `ref_id2user_id`: dado o `ref_user_id`, retorna o `user_id`\n",
    "    * `book_id2ref_id`: dado o `book_id`, retorna o `ref_book_id`\n",
    "    * `ref_id2book_id`: dado o `ref_book_id`, retorna o `book_id`\n",
    "    * `books_rated_by_users`: dado o `ref_book_id`, retorna um conjunto (`set`) de `ref_user_id` (pode ser um conjunto vazio)"
   ]
  },
  {
   "cell_type": "markdown",
   "metadata": {},
   "source": [
    "* para auxiliar o cálculo, vamos criar a função `get_rating_predictions_from_CF`, que deverá receber um `ref_user_id`, uma lista de `ref_book_id` e um número $k > 0$, que é o tamanho da vizinhança a ser considerada. Essa função deve:\n",
    "    1. descobrir quais são os usuários similares e quais os scores de similaridade (lembre-se de usar a função criada `get_similar_users` e de que aqui queremos retornar a lista com todos os usuários, sem especificar ainda a vizinhança)\n",
    "    2. calcular o rating médio do usuário (pode-se usar o dicionário `ref_user_id2mean_ratings`)\n",
    "    3. para cada livro `ref_book_id`: usar o rating médio, os scores de similaridade $S(i, \\cdot)$ entre o usuário $i$ e os usuários similares, e os ratings **normalizados** ($r^{norm}_{ij}$ da matriz `user_items_matrix`) para calcular a predição para o user $i$ e livro $j$, segundo a fórmula:\n",
    "        $$r^{pred}_{ij} = \\mu_i + \\frac{\\sum\\limits_{l=1}^{k} S(u_i, v_l) r_{lj}^{norm} }{\\sum\\limits_{l=1}^{k}|S(u_i, v_l)|}$$\n",
    "        \n",
    "        em que $\\mu_i$ é o rating médio do usuário $i$, e $v_l$ representa um dos $k$ usuários mais próximos de $i$ que avaliaram o livro $j$. Caso o denominador seja zero, a fração será zero.\n",
    "        \n",
    "    4. retornar um dicionário no qual a chave é o `ref_book_id` e o valor é a predição\n",
    "    \n",
    "** Tempo estimado para a atividade: ** 15 minutos"
   ]
  },
  {
   "cell_type": "code",
   "execution_count": null,
   "metadata": {},
   "outputs": [],
   "source": [
    "def get_rating_predictions_from_CF(ref_user_id, ref_book_ids_to_rate, k=5):\n",
    "    similar_ref_user_ids, similarity_scores = get_similar_users(###)\n",
    "    user_mean_rating = ###\n",
    "    predictions = {}\n",
    "    for ref_book_id in ref_book_ids_to_rate:\n",
    "        predictions[ref_book_id] = ###\n",
    "    return predictions"
   ]
  },
  {
   "cell_type": "markdown",
   "metadata": {},
   "source": [
    "* com a função criada, podemos já fazer predições!"
   ]
  },
  {
   "cell_type": "code",
   "execution_count": 44,
   "metadata": {},
   "outputs": [],
   "source": [
    "def make_appropriate_conversions_from_ref_id(func):\n",
    "    def modified_func(user_id, *args, **kwargs):\n",
    "        predictions = func(user_id2ref_id[user_id], *args, **kwargs)\n",
    "        return [ref_id2book_id[ref_book_id] for ref_book_id in predictions]\n",
    "    return modified_func"
   ]
  },
  {
   "cell_type": "code",
   "execution_count": 50,
   "metadata": {},
   "outputs": [],
   "source": [
    "@make_appropriate_conversions_from_ref_id\n",
    "def get_recommended_items_from_CF(ref_user_id, n=10, k=40):\n",
    "    ref_book_ids_to_rate = get_unrated_items(ref_user_id)\n",
    "    predictions = get_rating_predictions_from_CF(ref_user_id, ref_book_ids_to_rate, k=k)\n",
    "    return sorted(predictions, key=lambda k: predictions[k], reverse=True)[:n]"
   ]
  },
  {
   "cell_type": "markdown",
   "metadata": {},
   "source": [
    "* teste a recomendação para qualquer `user_id` e parâmetros $n$ e $k$. Você percebe alguma diferença?"
   ]
  },
  {
   "cell_type": "code",
   "execution_count": 51,
   "metadata": {},
   "outputs": [],
   "source": [
    "predictions = get_recommended_items_from_CF(5447, n=10, k=10)"
   ]
  },
  {
   "cell_type": "code",
   "execution_count": 52,
   "metadata": {},
   "outputs": [
    {
     "data": {
      "text/plain": [
       "[70, 25, 27, 24, 23, 362, 133, 1616, 4230, 493]"
      ]
     },
     "execution_count": 52,
     "metadata": {},
     "output_type": "execute_result"
    }
   ],
   "source": [
    "predictions"
   ]
  },
  {
   "cell_type": "markdown",
   "metadata": {},
   "source": [
    "## Fatorização de matrizes - construindo modelos com fatores latentes\n",
    "\n",
    "Também podemos construir um sistema de recomendação usando técnicas de fatorização de matrizes. A ideia de fatorizar matrizes é reduzir a dimensionalidade e, consequentemente, a esparsidade das matrizes de interações, para gerar melhores recomendações para os usuários.\n",
    "\n",
    "Veja mais sobre redução de dimensionalidade e modelos de fatores latentes nos seguintes vídeos do curso `Mining Massive Datasets`: [vídeo 1](https://www.youtube.com/watch?v=yLdOS6xyM_Q&list=PLLssT5z_DsK9JDLcT8T62VtzwyW9LNepV&index=46) e [vídeo 2](https://www.youtube.com/watch?v=E8aMcwmqsTg&list=PLLssT5z_DsK9JDLcT8T62VtzwyW9LNepV&index=55)."
   ]
  },
  {
   "cell_type": "markdown",
   "metadata": {},
   "source": [
    "### SVD (Singular Value Decomposition)\n",
    "\n",
    "A decomposição usando SVD de uma matriz $R$ é uma técnica que fatora a matriz de forma que:\n",
    "\n",
    "$$R = U \\cdot S \\cdot V$$\n",
    "\n",
    "sendo que $S$ é a matriz de valores singulares (autovalores) da matriz $R$.\n",
    "\n",
    "O uso da técnica SVD em sistemas de recomendação parte da ideia de que com o SVD, podemos conseguir a melhor aproximação da matriz $R$ em uma dimensão menor $k$. Para saber mais, veja o [artigo do Grouplens](http://files.grouplens.org/papers/webKDD00.pdf).\n",
    "\n",
    "Etapas:\n",
    "\n",
    "1. imputação dos ratings faltando usando o rating médio (por coluna, ou seja, por livro) e normalização, subtraindo o rating médio **do usuário** (ou seja, por linha)\n",
    "2. fatorização usando a função [svds do scipy.sparse.linalg](https://docs.scipy.org/doc/scipy/reference/generated/scipy.sparse.linalg.svds.html). Note que ela é **diferente** da função [svd do scipy.linalg](https://docs.scipy.org/doc/scipy/reference/generated/scipy.linalg.svd.html#scipy.linalg.svd);\n",
    "3. cálculo das recomendações\n",
    "    * para o usuário representado pela linha $i$ ($U_{i}$), os valores das predições de ratings para todos os itens serão calculados da seguinte forma:\n",
    "        * primeiro, construímos a matriz usuário por tópicos: \n",
    "        $$M_{ut} = U_{i} \\sqrt{S}$$\n",
    "\n",
    "        * depois, construímos a matriz de tópicos por livros: \n",
    "        $$M_{tb} = \\sqrt{S} V$$\n",
    "\n",
    "        * e, finalmente, calculamos as predições (note que somamos o rating médio do usuário $\\mu_i$): \n",
    "        $$preds = \\mu_i +  M_{ut} M_{tb} $$"
   ]
  },
  {
   "cell_type": "markdown",
   "metadata": {},
   "source": [
    "**Etapa 1:** imputação dos ratings faltando usando o rating médio (por coluna, ou seja, por livro) e normalização, subtraindo o rating médio do usuário (ou seja, por linha)\n",
    "\n",
    "** Tempo estimado para a atividade: ** 10 minutos"
   ]
  },
  {
   "cell_type": "markdown",
   "metadata": {},
   "source": [
    "* use a função [Imputer](https://scikit-learn.org/0.19/modules/generated/sklearn.preprocessing.Imputer.html#sklearn.preprocessing.Imputer) para substituir os zeros na matriz `unnormalized_user_items_matrix` pelo rating médio da respectiva coluna\n",
    "\n",
    "* ponto de atenção: a biblioteca `scikit-learn` do env da Tera **não** é a versão estável: caso esteja usando outra versão mais nova, confira a [página do Imputer na versão estável do scikit-learn](https://scikit-learn.org/stable/modules/generated/sklearn.impute.SimpleImputer.html)"
   ]
  },
  {
   "cell_type": "code",
   "execution_count": null,
   "metadata": {},
   "outputs": [],
   "source": [
    "###"
   ]
  },
  {
   "cell_type": "code",
   "execution_count": null,
   "metadata": {},
   "outputs": [],
   "source": [
    "user_items_matrix_for_SVD = ###"
   ]
  },
  {
   "cell_type": "markdown",
   "metadata": {},
   "source": [
    "* com a matriz `user_items_matrix_for_SVD` pronta, subtraia dela a sua média (por usuário, ou seja, por linha)\n",
    "    * para calcular a média, pode-se usar a função [numpy.mean](https://docs.scipy.org/doc/numpy/reference/generated/numpy.mean.html). Veja os exemplos e verifique se você deve usar `axis=0` ou `axis=1` como parâmetro\n",
    "    * após calcular a média, a subtração precisa de um pequeno _truque_: devemos transformar em o vetor das médias em uma matriz; adicione `[:, np.newaxis]` ao final de seu vetor para fazer essa modificação"
   ]
  },
  {
   "cell_type": "code",
   "execution_count": 56,
   "metadata": {},
   "outputs": [],
   "source": [
    "user_mean_rating_matrix = ###"
   ]
  },
  {
   "cell_type": "code",
   "execution_count": 57,
   "metadata": {},
   "outputs": [],
   "source": [
    "user_items_matrix_for_SVD = ### "
   ]
  },
  {
   "cell_type": "markdown",
   "metadata": {},
   "source": [
    "**Etapa 2:** fatorização usando a função [svds do scipy.sparse.linalg](https://docs.scipy.org/doc/scipy/reference/generated/scipy.sparse.linalg.svds.html). Note que ela é **diferente** da função [svd do scipy.linalg](https://docs.scipy.org/doc/scipy/reference/generated/scipy.linalg.svd.html#scipy.linalg.svd)\n",
    "\n",
    "Use a matriz gerada na etapa 1 como input do svd. Lembre-se que ele retornará três objetos: uma matriz $U$ (de usuários por $k$ fatores), um vetor com os $k$ maiores valores singulares e uma matriz $Vt$ (dos $k$ fatores pelos livros).\n",
    "\n",
    "** Tempo estimado para a atividade: ** 5 minutos"
   ]
  },
  {
   "cell_type": "code",
   "execution_count": null,
   "metadata": {},
   "outputs": [],
   "source": [
    "## Parâmetro para SVD\n",
    "k = 20"
   ]
  },
  {
   "cell_type": "code",
   "execution_count": null,
   "metadata": {},
   "outputs": [],
   "source": [
    "###"
   ]
  },
  {
   "cell_type": "markdown",
   "metadata": {},
   "source": [
    "**Etapa 3:** cálculo das recomendações\n",
    "\n",
    "* para auxiliar o cálculo, vamos criar a função `get_rating_predictions_from_SVD`, que deverá receber um `ref_user_id` e uma lista de `ref_book_id`. Essa função deve:\n",
    "    1. calcular a aproximação dos ratings para a linha do usuário recebido $i$:\n",
    "        * primeiro, construindo a matriz usuário por tópicos: \n",
    "        $$M_{ut} = U_{i} \\sqrt{S}$$\n",
    "\n",
    "        * depois, a matriz de tópicos por livros: \n",
    "        $$M_{tb} = \\sqrt{S} V$$\n",
    "        \n",
    "        * e, finalmente, a matriz aproximada (1 linha e 7690 colunas):\n",
    "        $$\\tilde{R} = M_{ut} M_{tb} $$\n",
    "        \n",
    "    2. calcular o rating médio do usuário (pode-se usar o dicionário `ref_user_id2mean_ratings`)\n",
    "    \n",
    "    3. somar o rating médio a $\\tilde{R}$\n",
    "    \n",
    "    4. retornar um dicionário no qual a chave é o `ref_book_id` e o valor é a predição, sendo que ele só deve conter os `ref_book_id` presentes na lista de `ref_book_id` recebida\n",
    "    \n",
    "** Tempo estimado para a atividade: ** 15 minutos"
   ]
  },
  {
   "cell_type": "markdown",
   "metadata": {},
   "source": [
    "* essa matriz é a matriz $\\sqrt{S}$ que  será usada nos cálculos"
   ]
  },
  {
   "cell_type": "code",
   "execution_count": 60,
   "metadata": {},
   "outputs": [],
   "source": [
    "s_matrix_root_square = np.diag(np.sqrt(s))"
   ]
  },
  {
   "cell_type": "markdown",
   "metadata": {},
   "source": [
    "* lembre-se de que para fazer as multiplicações de matrizes, você pode usar a função [numpy.dot](https://docs.scipy.org/doc/numpy-1.16.1/reference/generated/numpy.dot.html#numpy.dot)"
   ]
  },
  {
   "cell_type": "code",
   "execution_count": 61,
   "metadata": {},
   "outputs": [],
   "source": [
    "def get_rating_predictions_from_SVD(ref_user_id, ref_book_ids_to_rate):\n",
    "    M_ut = np.dot(###)\n",
    "    M_tb = np.dot(###)\n",
    "    approx_ratings_matrix = ###\n",
    "    user_mean_rating = ###\n",
    "    normalized_approx_ratings_matrix = ###\n",
    "    predictions = {}\n",
    "    for ref_book_id in ref_book_ids_to_rate:\n",
    "        predictions[ref_book_id] = ###\n",
    "    return predictions"
   ]
  },
  {
   "cell_type": "markdown",
   "metadata": {},
   "source": [
    "* oba, agora já podemos fazer as predições!"
   ]
  },
  {
   "cell_type": "code",
   "execution_count": 61,
   "metadata": {},
   "outputs": [],
   "source": [
    "@make_appropriate_conversions_from_ref_id\n",
    "def get_recommended_items_from_SVD(ref_user_id, n=10):\n",
    "    ref_book_ids_to_rate = get_unrated_items(ref_user_id)\n",
    "    predictions = get_rating_predictions_from_SVD(ref_user_id, ref_book_ids_to_rate)\n",
    "    return sorted(predictions, key=lambda k: predictions[k], reverse=True)[:n]"
   ]
  },
  {
   "cell_type": "code",
   "execution_count": 62,
   "metadata": {},
   "outputs": [],
   "source": [
    "predictions = get_recommended_items_from_SVD(5447, n=10)"
   ]
  },
  {
   "cell_type": "code",
   "execution_count": 66,
   "metadata": {},
   "outputs": [
    {
     "data": {
      "text/plain": [
       "[9566, 1355, 1904, 2100, 3275, 9162, 8978, 6590, 3345, 8173]"
      ]
     },
     "execution_count": 66,
     "metadata": {},
     "output_type": "execute_result"
    }
   ],
   "source": [
    "predictions"
   ]
  },
  {
   "cell_type": "markdown",
   "metadata": {},
   "source": [
    "### Bônus: comparação entre os dois modelos de recomendação\n",
    "\n",
    "Que tal comparar a performance (em termos de [rmse](https://medium.com/human-in-a-machine-world/mae-and-rmse-which-metric-is-better-e60ac3bde13d)) dos dois modelos que criamos?"
   ]
  },
  {
   "cell_type": "code",
   "execution_count": 64,
   "metadata": {},
   "outputs": [
    {
     "data": {
      "text/plain": [
       "{5810: 4.877098097106038,\n",
       " 611: 4.945521922722298,\n",
       " 50: 4.86506997527011,\n",
       " 481: 5.028803979066535,\n",
       " 1114: 4.9670518570273785,\n",
       " 30: 4.875816993464053,\n",
       " 471: 5.049323796307863}"
      ]
     },
     "execution_count": 64,
     "metadata": {},
     "output_type": "execute_result"
    }
   ],
   "source": [
    "get_rating_predictions_from_CF(2801, [5810, 611, 50, 481, 1114, 30, 471], k=30)"
   ]
  },
  {
   "cell_type": "code",
   "execution_count": 65,
   "metadata": {},
   "outputs": [
    {
     "data": {
      "text/plain": [
       "{30: 4.408089210602784,\n",
       " 50: 5.718953034913978,\n",
       " 471: 5.625139588624251,\n",
       " 481: 5.343427632937128,\n",
       " 611: 5.113829598837039,\n",
       " 1114: 5.195059237387463,\n",
       " 5810: 4.96756347283006}"
      ]
     },
     "execution_count": 65,
     "metadata": {},
     "output_type": "execute_result"
    }
   ],
   "source": [
    "get_rating_predictions_from_SVD(2801, [5810, 611, 50, 481, 1114, 30, 471])"
   ]
  },
  {
   "cell_type": "code",
   "execution_count": 73,
   "metadata": {},
   "outputs": [],
   "source": [
    "from sklearn.metrics import mean_squared_error"
   ]
  },
  {
   "cell_type": "code",
   "execution_count": 74,
   "metadata": {},
   "outputs": [],
   "source": [
    "items_to_test_df = test_df[['ref_user_id', 'ref_book_id', 'rating']] \\\n",
    "    .groupby('ref_user_id') \\\n",
    "    .agg(lambda s: s.tolist()) \\\n",
    "    .reset_index()"
   ]
  },
  {
   "cell_type": "code",
   "execution_count": 75,
   "metadata": {},
   "outputs": [],
   "source": [
    "from tqdm import tqdm"
   ]
  },
  {
   "cell_type": "code",
   "execution_count": 97,
   "metadata": {},
   "outputs": [],
   "source": [
    "def get_rmse_from_test_df(get_rating_predictions_func, *args, **kwargs):\n",
    "    preds = []\n",
    "    true = []\n",
    "    for row in tqdm(items_to_test_df.itertuples(), total=len(items_to_test_df)):\n",
    "        rating_predictions_dict = get_rating_predictions_func(row.ref_user_id, row.ref_book_id, *args, **kwargs)\n",
    "        preds += [rating_predictions_dict.get(ref_id, 0) for ref_id in row.ref_book_id]\n",
    "        true += row.rating\n",
    "    return np.sqrt(mean_squared_error(true, preds))"
   ]
  },
  {
   "cell_type": "code",
   "execution_count": 98,
   "metadata": {},
   "outputs": [
    {
     "name": "stderr",
     "output_type": "stream",
     "text": [
      "100%|██████████| 5000/5000 [01:32<00:00, 53.90it/s]"
     ]
    },
    {
     "name": "stdout",
     "output_type": "stream",
     "text": [
      "CPU times: user 1min 32s, sys: 189 ms, total: 1min 33s\n",
      "Wall time: 1min 32s\n"
     ]
    },
    {
     "name": "stderr",
     "output_type": "stream",
     "text": [
      "\n"
     ]
    },
    {
     "data": {
      "text/plain": [
       "0.8717957658858932"
      ]
     },
     "execution_count": 98,
     "metadata": {},
     "output_type": "execute_result"
    }
   ],
   "source": [
    "%%time\n",
    "get_rmse_from_test_df(get_rating_predictions_from_CF, k=40)"
   ]
  },
  {
   "cell_type": "code",
   "execution_count": 99,
   "metadata": {},
   "outputs": [
    {
     "name": "stderr",
     "output_type": "stream",
     "text": [
      "100%|██████████| 5000/5000 [00:43<00:00, 114.02it/s]\n"
     ]
    },
    {
     "name": "stdout",
     "output_type": "stream",
     "text": [
      "CPU times: user 1min 16s, sys: 1min 24s, total: 2min 41s\n",
      "Wall time: 43.9 s\n"
     ]
    },
    {
     "data": {
      "text/plain": [
       "0.8475938208369121"
      ]
     },
     "execution_count": 99,
     "metadata": {},
     "output_type": "execute_result"
    }
   ],
   "source": [
    "%%time\n",
    "get_rmse_from_test_df(get_rating_predictions_from_SVD)"
   ]
  },
  {
   "cell_type": "code",
   "execution_count": null,
   "metadata": {},
   "outputs": [],
   "source": []
  }
 ],
 "metadata": {
  "kernelspec": {
   "display_name": "Python 3",
   "language": "python",
   "name": "python3"
  },
  "language_info": {
   "codemirror_mode": {
    "name": "ipython",
    "version": 3
   },
   "file_extension": ".py",
   "mimetype": "text/x-python",
   "name": "python",
   "nbconvert_exporter": "python",
   "pygments_lexer": "ipython3",
   "version": "3.6.5"
  }
 },
 "nbformat": 4,
 "nbformat_minor": 2
}

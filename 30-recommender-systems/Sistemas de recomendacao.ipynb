{
 "cells": [
  {
   "cell_type": "markdown",
   "metadata": {},
   "source": [
    "# Sistemas de recomendação\n",
    "\n",
    "## O que são?\n",
    "\n",
    "* sistemas que calculam e fornecem itens relevantes a um usuário baseado no conhecimento sobre o usuário, conteúdo e sobre as interações do usuário com os itens (tradução livre de uma definição encontrada em [[1]](https://www.manning.com/books/practical-recommender-systems))\n",
    "\n",
    "\n",
    "## Importância hoje?\n",
    "\n",
    "* anedotas\n",
    "    1. youtube\n",
    "    2. arxiv\n",
    "\n",
    "## Exemplos:\n",
    "\n",
    "* recomendações da Amazon após visualização do livro _Foundations of Natural Language Processing_:\n",
    "\n",
    "![](resources/imgs/amazon_recommender.png)\n",
    "\n",
    "* recomendações da Netflix para mim:\n",
    "\n",
    "![](resources/imgs/netflix_recommender.png)\n",
    "\n",
    "* **Mais??**"
   ]
  },
  {
   "cell_type": "markdown",
   "metadata": {},
   "source": [
    "## Quando falamos de sistemas de recomendação...\n",
    "\n",
    "... devemos definir:\n",
    "\n",
    "* o quê?\n",
    "\n",
    "* por quê?\n",
    "\n",
    "* onde/como?\n",
    "\n",
    "* quão personalizado?"
   ]
  },
  {
   "cell_type": "markdown",
   "metadata": {},
   "source": [
    "## Efeitos indesejados\n",
    "\n",
    "* invasão de privacidade\n",
    "\n",
    "<img src=\"resources/imgs/target.png\" width=\"500\">\n",
    "\n",
    "Fonte: [Business Insider](https://www.businessinsider.com/the-incredible-story-of-how-target-exposed-a-teen-girls-pregnancy-2012-2)\n",
    "\n",
    "* espalhamento de desinformação\n",
    "\n",
    "<img src=\"resources/imgs/youtube.png\" width=\"300\">\n",
    "\n",
    "Fonte: [Twitter](https://twitter.com/PeterD_Adams/status/1089583479761788928). Leia mais no [NYT](https://www.nytimes.com/2018/03/10/opinion/sunday/youtube-politics-radical.html#click=https://t.co/cGE67FhlsI).\n",
    "\n",
    "* quebra de confiança\n",
    "\n",
    "<img src=\"resources/imgs/taboo.png\" width=\"600\">\n",
    "\n",
    "Fonte: essas são as recomendações geradas pelo Taboola no final da página do [Business Insider](https://www.businessinsider.com/the-incredible-story-of-how-target-exposed-a-teen-girls-pregnancy-2012-2). Leia mais sobre esse tipo de recomendação em [Fortune](http://fortune.com/2016/11/01/outbrain-taboola/)."
   ]
  },
  {
   "cell_type": "markdown",
   "metadata": {},
   "source": [
    "## Criando um sistema de recomendação\n",
    "\n",
    "Nas atividades dessa aula, vamos usar o dataset [goodbooks-10k](https://github.com/zygmuntz/goodbooks-10k), um dataset que contém as avaliações (_ratings_) para os 10 mil livros mais populares no site [goodreads](https://www.goodreads.com/).\n",
    "\n",
    "Nosso objetivo será criar um sistema de recomendação assertivo; mais especificamente, queremos maximizar a leitura dos livros que recomendamos aos usuários."
   ]
  },
  {
   "cell_type": "markdown",
   "metadata": {},
   "source": [
    "### Carregando o dataset\n",
    "\n",
    "Se você não fez o download do dataset ainda, rode a célula abaixo após descomentá-la (remova o `#`).\n",
    "\n",
    "Para as próximas atividades, é importante carregar dois dos datasets disponíveis:\n",
    "\n",
    "* `resources/data/ratings.csv`\n",
    "* `resources/data/books.csv`"
   ]
  },
  {
   "cell_type": "code",
   "execution_count": 18,
   "metadata": {},
   "outputs": [
    {
     "name": "stdout",
     "output_type": "stream",
     "text": [
      "Cloning into 'resources/data'...\n",
      "remote: Enumerating objects: 66, done.\u001b[K\n",
      "remote: Total 66 (delta 0), reused 0 (delta 0), pack-reused 66\u001b[K\n",
      "Unpacking objects: 100% (66/66), done.\n"
     ]
    }
   ],
   "source": [
    "#!git clone https://github.com/zygmuntz/goodbooks-10k.git resources/data"
   ]
  },
  {
   "cell_type": "code",
   "execution_count": 1,
   "metadata": {},
   "outputs": [],
   "source": [
    "import warnings"
   ]
  },
  {
   "cell_type": "code",
   "execution_count": 2,
   "metadata": {},
   "outputs": [],
   "source": [
    "warnings.filterwarnings('ignore')"
   ]
  },
  {
   "cell_type": "code",
   "execution_count": 3,
   "metadata": {},
   "outputs": [],
   "source": [
    "import pandas as pd"
   ]
  },
  {
   "cell_type": "code",
   "execution_count": 4,
   "metadata": {},
   "outputs": [],
   "source": [
    "user_ratings_df = pd.read_csv('resources/data/ratings.csv')"
   ]
  },
  {
   "cell_type": "code",
   "execution_count": 5,
   "metadata": {},
   "outputs": [
    {
     "data": {
      "text/html": [
       "<div>\n",
       "<style scoped>\n",
       "    .dataframe tbody tr th:only-of-type {\n",
       "        vertical-align: middle;\n",
       "    }\n",
       "\n",
       "    .dataframe tbody tr th {\n",
       "        vertical-align: top;\n",
       "    }\n",
       "\n",
       "    .dataframe thead th {\n",
       "        text-align: right;\n",
       "    }\n",
       "</style>\n",
       "<table border=\"1\" class=\"dataframe\">\n",
       "  <thead>\n",
       "    <tr style=\"text-align: right;\">\n",
       "      <th></th>\n",
       "      <th>user_id</th>\n",
       "      <th>book_id</th>\n",
       "      <th>rating</th>\n",
       "    </tr>\n",
       "  </thead>\n",
       "  <tbody>\n",
       "    <tr>\n",
       "      <th>0</th>\n",
       "      <td>1</td>\n",
       "      <td>258</td>\n",
       "      <td>5</td>\n",
       "    </tr>\n",
       "  </tbody>\n",
       "</table>\n",
       "</div>"
      ],
      "text/plain": [
       "   user_id  book_id  rating\n",
       "0        1      258       5"
      ]
     },
     "execution_count": 5,
     "metadata": {},
     "output_type": "execute_result"
    }
   ],
   "source": [
    "user_ratings_df.head(n=1)"
   ]
  },
  {
   "cell_type": "code",
   "execution_count": 65,
   "metadata": {},
   "outputs": [],
   "source": [
    "book_info_df = pd.read_csv('resources/data/books.csv')\n",
    "book_info_df = book_info_df[['book_id', 'original_title', 'authors', 'original_publication_year']]"
   ]
  },
  {
   "cell_type": "code",
   "execution_count": 66,
   "metadata": {},
   "outputs": [
    {
     "data": {
      "text/html": [
       "<div>\n",
       "<style scoped>\n",
       "    .dataframe tbody tr th:only-of-type {\n",
       "        vertical-align: middle;\n",
       "    }\n",
       "\n",
       "    .dataframe tbody tr th {\n",
       "        vertical-align: top;\n",
       "    }\n",
       "\n",
       "    .dataframe thead th {\n",
       "        text-align: right;\n",
       "    }\n",
       "</style>\n",
       "<table border=\"1\" class=\"dataframe\">\n",
       "  <thead>\n",
       "    <tr style=\"text-align: right;\">\n",
       "      <th></th>\n",
       "      <th>book_id</th>\n",
       "      <th>original_title</th>\n",
       "      <th>authors</th>\n",
       "      <th>original_publication_year</th>\n",
       "    </tr>\n",
       "  </thead>\n",
       "  <tbody>\n",
       "    <tr>\n",
       "      <th>0</th>\n",
       "      <td>1</td>\n",
       "      <td>The Hunger Games</td>\n",
       "      <td>Suzanne Collins</td>\n",
       "      <td>2008.0</td>\n",
       "    </tr>\n",
       "  </tbody>\n",
       "</table>\n",
       "</div>"
      ],
      "text/plain": [
       "   book_id    original_title          authors  original_publication_year\n",
       "0        1  The Hunger Games  Suzanne Collins                     2008.0"
      ]
     },
     "execution_count": 66,
     "metadata": {},
     "output_type": "execute_result"
    }
   ],
   "source": [
    "book_info_df.head(n=1)"
   ]
  },
  {
   "cell_type": "code",
   "execution_count": 6,
   "metadata": {},
   "outputs": [
    {
     "name": "stdout",
     "output_type": "stream",
     "text": [
      "Informações sobre o dataset:\n",
      "\n",
      "* Quantidade de avaliações: 5,976,479\n",
      "* Quantidade de livros com avaliação: 10,000\n",
      "* Quantidade de usuários únicos:  53,424\n"
     ]
    }
   ],
   "source": [
    "print('Informações sobre o dataset:\\n')\n",
    "print('* Quantidade de avaliações: {:,}'.format(len(user_ratings_df)))\n",
    "print('* Quantidade de livros com avaliação: {:,}'.format(len(user_ratings_df['book_id'].unique())))\n",
    "print('* Quantidade de usuários únicos: {: ,}'.format(len(user_ratings_df['user_id'].unique())))"
   ]
  },
  {
   "cell_type": "markdown",
   "metadata": {},
   "source": [
    "### Filtro colaborativo\n",
    "\n",
    "Há dois tipos de filtro colaborativo: o baseado em usuário (`user user`) e o baseado no conteúdo (`item item`).\n",
    "\n",
    "<img src=\"resources/imgs/collaborative_filtering.png\" width=\"400\">"
   ]
  },
  {
   "cell_type": "markdown",
   "metadata": {},
   "source": [
    "#### **Atividade**: construção de um filtro colaborativo baseado em usuário\n",
    "\n",
    "Etapas:\n",
    "\n",
    "1. normalizar dataset de ratings: para cada `rating`, será subtraída a média de `ratings` do usuário\n",
    "2. construir uma matriz de usuários (`user_id`) por itens (`book_id`)\n",
    "3. encontrar os grupos de usuários similares usando o algoritmo [knn](https://scikit-learn.org/stable/modules/neighbors.html)\n",
    "4. construir uma função que, dado o id de um usuário, traz $n$ recomendações para ele\n",
    "\n",
    "** Tempo estimado para a atividade: ** 15 minutos"
   ]
  },
  {
   "cell_type": "markdown",
   "metadata": {},
   "source": [
    "**Etapa 1:** vamos normalizar o dataset `user_ratings_df`: para cada `rating`, será subtraída a média de `ratings` do usuário"
   ]
  },
  {
   "cell_type": "code",
   "execution_count": 7,
   "metadata": {},
   "outputs": [],
   "source": [
    "mean_ratings_per_user_df = user_ratings_df \\\n",
    "    .groupby('user_id') \\\n",
    "    .agg({'rating': 'mean'}) \\\n",
    "    .reset_index() \\\n",
    "    .rename(columns={'rating': 'mean_rating'})"
   ]
  },
  {
   "cell_type": "code",
   "execution_count": 8,
   "metadata": {},
   "outputs": [
    {
     "data": {
      "text/html": [
       "<div>\n",
       "<style scoped>\n",
       "    .dataframe tbody tr th:only-of-type {\n",
       "        vertical-align: middle;\n",
       "    }\n",
       "\n",
       "    .dataframe tbody tr th {\n",
       "        vertical-align: top;\n",
       "    }\n",
       "\n",
       "    .dataframe thead th {\n",
       "        text-align: right;\n",
       "    }\n",
       "</style>\n",
       "<table border=\"1\" class=\"dataframe\">\n",
       "  <thead>\n",
       "    <tr style=\"text-align: right;\">\n",
       "      <th></th>\n",
       "      <th>user_id</th>\n",
       "      <th>mean_rating</th>\n",
       "    </tr>\n",
       "  </thead>\n",
       "  <tbody>\n",
       "    <tr>\n",
       "      <th>0</th>\n",
       "      <td>1</td>\n",
       "      <td>3.589744</td>\n",
       "    </tr>\n",
       "    <tr>\n",
       "      <th>1</th>\n",
       "      <td>2</td>\n",
       "      <td>4.415385</td>\n",
       "    </tr>\n",
       "  </tbody>\n",
       "</table>\n",
       "</div>"
      ],
      "text/plain": [
       "   user_id  mean_rating\n",
       "0        1     3.589744\n",
       "1        2     4.415385"
      ]
     },
     "execution_count": 8,
     "metadata": {},
     "output_type": "execute_result"
    }
   ],
   "source": [
    "mean_ratings_per_user_df.head(n=2)"
   ]
  },
  {
   "cell_type": "code",
   "execution_count": 9,
   "metadata": {},
   "outputs": [],
   "source": [
    "user_ratings_df = user_ratings_df.merge(\n",
    "    mean_ratings_per_user_df, on='user_id', how='inner')"
   ]
  },
  {
   "cell_type": "code",
   "execution_count": 10,
   "metadata": {},
   "outputs": [
    {
     "data": {
      "text/html": [
       "<div>\n",
       "<style scoped>\n",
       "    .dataframe tbody tr th:only-of-type {\n",
       "        vertical-align: middle;\n",
       "    }\n",
       "\n",
       "    .dataframe tbody tr th {\n",
       "        vertical-align: top;\n",
       "    }\n",
       "\n",
       "    .dataframe thead th {\n",
       "        text-align: right;\n",
       "    }\n",
       "</style>\n",
       "<table border=\"1\" class=\"dataframe\">\n",
       "  <thead>\n",
       "    <tr style=\"text-align: right;\">\n",
       "      <th></th>\n",
       "      <th>user_id</th>\n",
       "      <th>book_id</th>\n",
       "      <th>rating</th>\n",
       "      <th>mean_rating</th>\n",
       "    </tr>\n",
       "  </thead>\n",
       "  <tbody>\n",
       "    <tr>\n",
       "      <th>0</th>\n",
       "      <td>1</td>\n",
       "      <td>258</td>\n",
       "      <td>5</td>\n",
       "      <td>3.589744</td>\n",
       "    </tr>\n",
       "    <tr>\n",
       "      <th>1</th>\n",
       "      <td>1</td>\n",
       "      <td>268</td>\n",
       "      <td>3</td>\n",
       "      <td>3.589744</td>\n",
       "    </tr>\n",
       "  </tbody>\n",
       "</table>\n",
       "</div>"
      ],
      "text/plain": [
       "   user_id  book_id  rating  mean_rating\n",
       "0        1      258       5     3.589744\n",
       "1        1      268       3     3.589744"
      ]
     },
     "execution_count": 10,
     "metadata": {},
     "output_type": "execute_result"
    }
   ],
   "source": [
    "user_ratings_df.head(n=2)"
   ]
  },
  {
   "cell_type": "code",
   "execution_count": 11,
   "metadata": {},
   "outputs": [],
   "source": [
    "user_ratings_df['rating'] = user_ratings_df['rating'] - user_ratings_df['mean_rating']\n",
    "user_ratings_df.drop('mean_rating', axis=1, inplace=True)"
   ]
  },
  {
   "cell_type": "code",
   "execution_count": 12,
   "metadata": {},
   "outputs": [
    {
     "data": {
      "text/html": [
       "<div>\n",
       "<style scoped>\n",
       "    .dataframe tbody tr th:only-of-type {\n",
       "        vertical-align: middle;\n",
       "    }\n",
       "\n",
       "    .dataframe tbody tr th {\n",
       "        vertical-align: top;\n",
       "    }\n",
       "\n",
       "    .dataframe thead th {\n",
       "        text-align: right;\n",
       "    }\n",
       "</style>\n",
       "<table border=\"1\" class=\"dataframe\">\n",
       "  <thead>\n",
       "    <tr style=\"text-align: right;\">\n",
       "      <th></th>\n",
       "      <th>user_id</th>\n",
       "      <th>book_id</th>\n",
       "      <th>rating</th>\n",
       "    </tr>\n",
       "  </thead>\n",
       "  <tbody>\n",
       "    <tr>\n",
       "      <th>0</th>\n",
       "      <td>1</td>\n",
       "      <td>258</td>\n",
       "      <td>1.410256</td>\n",
       "    </tr>\n",
       "    <tr>\n",
       "      <th>1</th>\n",
       "      <td>1</td>\n",
       "      <td>268</td>\n",
       "      <td>-0.589744</td>\n",
       "    </tr>\n",
       "  </tbody>\n",
       "</table>\n",
       "</div>"
      ],
      "text/plain": [
       "   user_id  book_id    rating\n",
       "0        1      258  1.410256\n",
       "1        1      268 -0.589744"
      ]
     },
     "execution_count": 12,
     "metadata": {},
     "output_type": "execute_result"
    }
   ],
   "source": [
    "user_ratings_df.head(n=2)"
   ]
  },
  {
   "cell_type": "markdown",
   "metadata": {},
   "source": [
    "* vamos separar parte do nosso dataset como treino e parte dele como teste"
   ]
  },
  {
   "cell_type": "code",
   "execution_count": 13,
   "metadata": {},
   "outputs": [],
   "source": [
    "from sklearn.model_selection import train_test_split"
   ]
  },
  {
   "cell_type": "code",
   "execution_count": 14,
   "metadata": {},
   "outputs": [],
   "source": [
    "train_indices, test_indices = train_test_split(range(len(user_ratings_df)))"
   ]
  },
  {
   "cell_type": "code",
   "execution_count": 15,
   "metadata": {},
   "outputs": [],
   "source": [
    "train_df, test_df = user_ratings_df.loc[train_indices], user_ratings_df.loc[test_indices]"
   ]
  },
  {
   "cell_type": "markdown",
   "metadata": {},
   "source": [
    "* podemos verificar se a quantidade de usuários no dataset de treino é a mesma do dataset original"
   ]
  },
  {
   "cell_type": "code",
   "execution_count": 16,
   "metadata": {},
   "outputs": [
    {
     "data": {
      "text/plain": [
       "True"
      ]
     },
     "execution_count": 16,
     "metadata": {},
     "output_type": "execute_result"
    }
   ],
   "source": [
    "len(train_df['user_id'].unique()) == len(user_ratings_df['user_id'].unique())"
   ]
  },
  {
   "cell_type": "markdown",
   "metadata": {},
   "source": [
    "**Etapa 2: ** vamos construir uma matriz de usuários por itens\n",
    "\n",
    "```python\n",
    "# naive approach\n",
    "user_items_matrix = pd.pivot_table(\n",
    "    user_ratings_df,\n",
    "    values='rating',\n",
    "    index=['user_id'],\n",
    "    columns=['book_id'],\n",
    "    aggfunc=lambda x: x\n",
    ").fillna(0).reset_index().values\n",
    "``` \n",
    "\n",
    "<img src=\"resources/imgs/memory_error.png\" width=\"800\">"
   ]
  },
  {
   "cell_type": "markdown",
   "metadata": {},
   "source": [
    "* para evitar erros de memória, vamos construir uma [matriz esparsa](https://docs.scipy.org/doc/scipy/reference/generated/scipy.sparse.coo_matrix.html) com os dados!"
   ]
  },
  {
   "cell_type": "code",
   "execution_count": 17,
   "metadata": {},
   "outputs": [],
   "source": [
    "import numpy as np\n",
    "from scipy.sparse import coo_matrix"
   ]
  },
  {
   "cell_type": "code",
   "execution_count": 18,
   "metadata": {},
   "outputs": [],
   "source": [
    "unique_user_ids_df = user_ratings_df[['user_id']].drop_duplicates()\n",
    "unique_user_ids_df['id'] = np.arange(len(unique_user_ids_df))"
   ]
  },
  {
   "cell_type": "code",
   "execution_count": 19,
   "metadata": {},
   "outputs": [],
   "source": [
    "train_df = train_df.merge(unique_user_ids_df, on='user_id', how='inner')\n",
    "test_df = test_df.merge(unique_user_ids_df, on='user_id', how='inner')"
   ]
  },
  {
   "cell_type": "code",
   "execution_count": 32,
   "metadata": {},
   "outputs": [],
   "source": [
    "def generate_user_interactions_matrix(df):\n",
    "    data = df['rating'].values\n",
    "    row = df['id'].values\n",
    "    col = (df['book_id'] - 1).values\n",
    "    return coo_matrix((data, (row, col)), shape=(max(row)+1, max(col)+1), dtype=np.float64).tocsr()"
   ]
  },
  {
   "cell_type": "code",
   "execution_count": 33,
   "metadata": {},
   "outputs": [],
   "source": [
    "user_items_matrix = generate_user_interactions_matrix(train_df)"
   ]
  },
  {
   "cell_type": "code",
   "execution_count": 34,
   "metadata": {},
   "outputs": [],
   "source": [
    "test_user_items_matrix = generate_user_interactions_matrix(test_df)"
   ]
  },
  {
   "cell_type": "code",
   "execution_count": 35,
   "metadata": {},
   "outputs": [
    {
     "data": {
      "text/plain": [
       "(<53424x10000 sparse matrix of type '<class 'numpy.float64'>'\n",
       " \twith 4482359 stored elements in Compressed Sparse Row format>,\n",
       " <53424x10000 sparse matrix of type '<class 'numpy.float64'>'\n",
       " \twith 1494120 stored elements in Compressed Sparse Row format>)"
      ]
     },
     "execution_count": 35,
     "metadata": {},
     "output_type": "execute_result"
    }
   ],
   "source": [
    "user_items_matrix, test_user_items_matrix"
   ]
  },
  {
   "cell_type": "markdown",
   "metadata": {},
   "source": [
    "**Etapa 3:** vamos encontrar os grupos de usuários similares usando o algoritmo knn (k-nearest neighbors), que encontra os k usuários mais similares a um determinado usuário"
   ]
  },
  {
   "cell_type": "code",
   "execution_count": 24,
   "metadata": {},
   "outputs": [],
   "source": [
    "from sklearn.neighbors import NearestNeighbors"
   ]
  },
  {
   "cell_type": "code",
   "execution_count": 48,
   "metadata": {},
   "outputs": [],
   "source": [
    "k = 50"
   ]
  },
  {
   "cell_type": "code",
   "execution_count": 49,
   "metadata": {},
   "outputs": [],
   "source": [
    "nn = NearestNeighbors(n_neighbors=k, metric='cosine')"
   ]
  },
  {
   "cell_type": "code",
   "execution_count": 50,
   "metadata": {},
   "outputs": [
    {
     "name": "stdout",
     "output_type": "stream",
     "text": [
      "CPU times: user 38.4 ms, sys: 59.3 ms, total: 97.8 ms\n",
      "Wall time: 106 ms\n"
     ]
    },
    {
     "data": {
      "text/plain": [
       "NearestNeighbors(algorithm='auto', leaf_size=100, metric='cosine',\n",
       "         metric_params=None, n_jobs=1, n_neighbors=50, p=2, radius=1.0)"
      ]
     },
     "execution_count": 50,
     "metadata": {},
     "output_type": "execute_result"
    }
   ],
   "source": [
    "%%time\n",
    "nn.fit(user_items_matrix)"
   ]
  },
  {
   "cell_type": "markdown",
   "metadata": {},
   "source": [
    "* vamos fazer um teste com o usuário 0"
   ]
  },
  {
   "cell_type": "code",
   "execution_count": 31,
   "metadata": {},
   "outputs": [
    {
     "data": {
      "text/html": [
       "<div>\n",
       "<style scoped>\n",
       "    .dataframe tbody tr th:only-of-type {\n",
       "        vertical-align: middle;\n",
       "    }\n",
       "\n",
       "    .dataframe tbody tr th {\n",
       "        vertical-align: top;\n",
       "    }\n",
       "\n",
       "    .dataframe thead th {\n",
       "        text-align: right;\n",
       "    }\n",
       "</style>\n",
       "<table border=\"1\" class=\"dataframe\">\n",
       "  <thead>\n",
       "    <tr style=\"text-align: right;\">\n",
       "      <th></th>\n",
       "      <th>user_id</th>\n",
       "      <th>book_id</th>\n",
       "      <th>rating</th>\n",
       "      <th>id</th>\n",
       "    </tr>\n",
       "  </thead>\n",
       "  <tbody>\n",
       "    <tr>\n",
       "      <th>518075</th>\n",
       "      <td>1</td>\n",
       "      <td>128</td>\n",
       "      <td>1.410256</td>\n",
       "      <td>0</td>\n",
       "    </tr>\n",
       "    <tr>\n",
       "      <th>518076</th>\n",
       "      <td>1</td>\n",
       "      <td>138</td>\n",
       "      <td>-1.589744</td>\n",
       "      <td>0</td>\n",
       "    </tr>\n",
       "  </tbody>\n",
       "</table>\n",
       "</div>"
      ],
      "text/plain": [
       "        user_id  book_id    rating  id\n",
       "518075        1      128  1.410256   0\n",
       "518076        1      138 -1.589744   0"
      ]
     },
     "execution_count": 31,
     "metadata": {},
     "output_type": "execute_result"
    }
   ],
   "source": [
    "test_df[(test_df['id'] == 0)].head(n=2)"
   ]
  },
  {
   "cell_type": "code",
   "execution_count": 60,
   "metadata": {},
   "outputs": [],
   "source": [
    "distances, nearest_ids = nn.kneighbors(test_user_items_matrix[0], n_neighbors=5)"
   ]
  },
  {
   "cell_type": "code",
   "execution_count": 61,
   "metadata": {},
   "outputs": [
    {
     "data": {
      "text/plain": [
       "array([[ 0.74372181,  0.74786006,  0.74851963,  0.75978293,  0.76277675]])"
      ]
     },
     "execution_count": 61,
     "metadata": {},
     "output_type": "execute_result"
    }
   ],
   "source": [
    "distances"
   ]
  },
  {
   "cell_type": "code",
   "execution_count": 59,
   "metadata": {},
   "outputs": [
    {
     "data": {
      "text/plain": [
       "array([[29009, 26220, 24933, 37786, 36757,   153, 27471, 12679, 30171,\n",
       "          965]])"
      ]
     },
     "execution_count": 59,
     "metadata": {},
     "output_type": "execute_result"
    }
   ],
   "source": [
    "nearest_ids"
   ]
  },
  {
   "cell_type": "markdown",
   "metadata": {},
   "source": [
    "**Etapa 4:** vamos construir uma função que recebe o id de um usuário e um número $n > 0$ e retorna $n$ recomendações para aquele usuário"
   ]
  },
  {
   "cell_type": "code",
   "execution_count": 62,
   "metadata": {},
   "outputs": [],
   "source": [
    "unique_user_ids_df = unique_user_ids_df.set_index('user_id')"
   ]
  },
  {
   "cell_type": "code",
   "execution_count": 67,
   "metadata": {},
   "outputs": [
    {
     "data": {
      "text/html": [
       "<div>\n",
       "<style scoped>\n",
       "    .dataframe tbody tr th:only-of-type {\n",
       "        vertical-align: middle;\n",
       "    }\n",
       "\n",
       "    .dataframe tbody tr th {\n",
       "        vertical-align: top;\n",
       "    }\n",
       "\n",
       "    .dataframe thead th {\n",
       "        text-align: right;\n",
       "    }\n",
       "</style>\n",
       "<table border=\"1\" class=\"dataframe\">\n",
       "  <thead>\n",
       "    <tr style=\"text-align: right;\">\n",
       "      <th></th>\n",
       "      <th>book_id</th>\n",
       "      <th>original_title</th>\n",
       "      <th>authors</th>\n",
       "      <th>original_publication_year</th>\n",
       "    </tr>\n",
       "  </thead>\n",
       "  <tbody>\n",
       "    <tr>\n",
       "      <th>0</th>\n",
       "      <td>1</td>\n",
       "      <td>The Hunger Games</td>\n",
       "      <td>Suzanne Collins</td>\n",
       "      <td>2008.0</td>\n",
       "    </tr>\n",
       "    <tr>\n",
       "      <th>1</th>\n",
       "      <td>2</td>\n",
       "      <td>Harry Potter and the Philosopher's Stone</td>\n",
       "      <td>J.K. Rowling, Mary GrandPré</td>\n",
       "      <td>1997.0</td>\n",
       "    </tr>\n",
       "    <tr>\n",
       "      <th>2</th>\n",
       "      <td>3</td>\n",
       "      <td>Twilight</td>\n",
       "      <td>Stephenie Meyer</td>\n",
       "      <td>2005.0</td>\n",
       "    </tr>\n",
       "    <tr>\n",
       "      <th>3</th>\n",
       "      <td>4</td>\n",
       "      <td>To Kill a Mockingbird</td>\n",
       "      <td>Harper Lee</td>\n",
       "      <td>1960.0</td>\n",
       "    </tr>\n",
       "    <tr>\n",
       "      <th>4</th>\n",
       "      <td>5</td>\n",
       "      <td>The Great Gatsby</td>\n",
       "      <td>F. Scott Fitzgerald</td>\n",
       "      <td>1925.0</td>\n",
       "    </tr>\n",
       "  </tbody>\n",
       "</table>\n",
       "</div>"
      ],
      "text/plain": [
       "   book_id                            original_title  \\\n",
       "0        1                          The Hunger Games   \n",
       "1        2  Harry Potter and the Philosopher's Stone   \n",
       "2        3                                  Twilight   \n",
       "3        4                     To Kill a Mockingbird   \n",
       "4        5                          The Great Gatsby   \n",
       "\n",
       "                       authors  original_publication_year  \n",
       "0              Suzanne Collins                     2008.0  \n",
       "1  J.K. Rowling, Mary GrandPré                     1997.0  \n",
       "2              Stephenie Meyer                     2005.0  \n",
       "3                   Harper Lee                     1960.0  \n",
       "4          F. Scott Fitzgerald                     1925.0  "
      ]
     },
     "execution_count": 67,
     "metadata": {},
     "output_type": "execute_result"
    }
   ],
   "source": [
    "book_info_df.head()"
   ]
  },
  {
   "cell_type": "code",
   "execution_count": 69,
   "metadata": {},
   "outputs": [],
   "source": [
    "user_ratings_df['sign'] = user_ratings_df['rating'].apply(lambda rating: 'positive' if rating >=0 else 'negative')"
   ]
  },
  {
   "cell_type": "code",
   "execution_count": 94,
   "metadata": {},
   "outputs": [],
   "source": [
    "user_id2idx = unique_user_ids_df['id'].to_dict()"
   ]
  },
  {
   "cell_type": "code",
   "execution_count": 95,
   "metadata": {},
   "outputs": [],
   "source": [
    "idx2user_id = {idx: user_id for user_id, idx in user_id2idx.items()}"
   ]
  },
  {
   "cell_type": "code",
   "execution_count": 105,
   "metadata": {},
   "outputs": [],
   "source": [
    "def get_unique_user_id(user_id):\n",
    "    return unique_user_ids_df.loc[user_id]['id']\n",
    "\n",
    "def get_info_from_user(user_id):\n",
    "    ratings_from_one_user_df = user_ratings_df[user_ratings_df['user_id'] == user_id]\n",
    "    ratings_from_one_user_df = ratings_from_one_user_df.merge(book_info_df, on='book_id', how='left')\n",
    "    return ratings_from_one_user_df.groupby('sign').agg({'original_title': lambda s: s.tolist()})\n",
    "\n",
    "def get_already_read(user_id):\n",
    "    return train_df[train_df['user_id'] == user_id]['book_id'].unique().tolist()\n",
    "\n",
    "def get_similar_users(user_id):\n",
    "    unique_user_id = get_unique_user_id(user_id)\n",
    "    distances, nearest_ids = nn.kneighbors(test_user_items_matrix[unique_user_id], n_neighbors=10)\n",
    "    nearest_user_ids = [idx2user_id[idx] for idx in nearest_ids[0]]\n",
    "    return user_ratings_df[user_ratings_df['user_id'].isin(nearest_user_ids)] \\\n",
    "        .sort_values(by='rating', ascending=False)\n",
    "    \n",
    "def get_recommended_items_from_CF(user_id, n):\n",
    "    nearest_user_ratings = get_similar_users(user_id)\n",
    "    nearest_user_ratings = nearest_user_ratings[\n",
    "        ~nearest_user_ratings['book_id'].isin(get_already_read(user_id))][:n]\n",
    "    \n",
    "    recommended_df = pd.DataFrame()\n",
    "    recommended_df['book_id'] = nearest_user_ratings['book_id'].tolist()\n",
    "    return recommended_df.merge(book_info_df, on='book_id', how='left')"
   ]
  },
  {
   "cell_type": "code",
   "execution_count": null,
   "metadata": {},
   "outputs": [],
   "source": [
    "test_df.merge()"
   ]
  },
  {
   "cell_type": "code",
   "execution_count": 76,
   "metadata": {},
   "outputs": [
    {
     "data": {
      "text/html": [
       "<div>\n",
       "<style scoped>\n",
       "    .dataframe tbody tr th:only-of-type {\n",
       "        vertical-align: middle;\n",
       "    }\n",
       "\n",
       "    .dataframe tbody tr th {\n",
       "        vertical-align: top;\n",
       "    }\n",
       "\n",
       "    .dataframe thead th {\n",
       "        text-align: right;\n",
       "    }\n",
       "</style>\n",
       "<table border=\"1\" class=\"dataframe\">\n",
       "  <thead>\n",
       "    <tr style=\"text-align: right;\">\n",
       "      <th></th>\n",
       "      <th>user_id</th>\n",
       "      <th>book_id</th>\n",
       "      <th>rating</th>\n",
       "      <th>id</th>\n",
       "    </tr>\n",
       "  </thead>\n",
       "  <tbody>\n",
       "    <tr>\n",
       "      <th>0</th>\n",
       "      <td>7005</td>\n",
       "      <td>143</td>\n",
       "      <td>0.47205</td>\n",
       "      <td>4793</td>\n",
       "    </tr>\n",
       "  </tbody>\n",
       "</table>\n",
       "</div>"
      ],
      "text/plain": [
       "   user_id  book_id   rating    id\n",
       "0     7005      143  0.47205  4793"
      ]
     },
     "execution_count": 76,
     "metadata": {},
     "output_type": "execute_result"
    }
   ],
   "source": [
    "test_df.head(n=1)"
   ]
  },
  {
   "cell_type": "code",
   "execution_count": 109,
   "metadata": {},
   "outputs": [
    {
     "data": {
      "text/plain": [
       "['All the King’s Men',\n",
       " 'The Things They Carried',\n",
       " 'The Killer Angels',\n",
       " 'All the Pretty Horses',\n",
       " 'A Walk in the Woods',\n",
       " 'The Stand',\n",
       " 'To Kill a Mockingbird',\n",
       " 'Three Cups of Tea ',\n",
       " 'Possession',\n",
       " \"The Time Traveler's Wife\"]"
      ]
     },
     "execution_count": 109,
     "metadata": {},
     "output_type": "execute_result"
    }
   ],
   "source": [
    "get_info_from_user(7005).iloc[1]['original_title'][:10]"
   ]
  },
  {
   "cell_type": "code",
   "execution_count": 107,
   "metadata": {},
   "outputs": [
    {
     "data": {
      "text/html": [
       "<div>\n",
       "<style scoped>\n",
       "    .dataframe tbody tr th:only-of-type {\n",
       "        vertical-align: middle;\n",
       "    }\n",
       "\n",
       "    .dataframe tbody tr th {\n",
       "        vertical-align: top;\n",
       "    }\n",
       "\n",
       "    .dataframe thead th {\n",
       "        text-align: right;\n",
       "    }\n",
       "</style>\n",
       "<table border=\"1\" class=\"dataframe\">\n",
       "  <thead>\n",
       "    <tr style=\"text-align: right;\">\n",
       "      <th></th>\n",
       "      <th>book_id</th>\n",
       "      <th>original_title</th>\n",
       "      <th>authors</th>\n",
       "      <th>original_publication_year</th>\n",
       "    </tr>\n",
       "  </thead>\n",
       "  <tbody>\n",
       "    <tr>\n",
       "      <th>0</th>\n",
       "      <td>83</td>\n",
       "      <td>A Tale of Two Cities</td>\n",
       "      <td>Charles Dickens, Richard Maxwell, Hablot Knigh...</td>\n",
       "      <td>1859.0</td>\n",
       "    </tr>\n",
       "    <tr>\n",
       "      <th>1</th>\n",
       "      <td>3504</td>\n",
       "      <td>The Known World</td>\n",
       "      <td>Edward P. Jones</td>\n",
       "      <td>2003.0</td>\n",
       "    </tr>\n",
       "    <tr>\n",
       "      <th>2</th>\n",
       "      <td>130</td>\n",
       "      <td>The Old Man and the Sea</td>\n",
       "      <td>Ernest Hemingway</td>\n",
       "      <td>1952.0</td>\n",
       "    </tr>\n",
       "    <tr>\n",
       "      <th>3</th>\n",
       "      <td>2355</td>\n",
       "      <td>Silas Marner: The Weaver of Raveloe</td>\n",
       "      <td>George Eliot</td>\n",
       "      <td>1861.0</td>\n",
       "    </tr>\n",
       "    <tr>\n",
       "      <th>4</th>\n",
       "      <td>47</td>\n",
       "      <td>The Book Thief</td>\n",
       "      <td>Markus Zusak</td>\n",
       "      <td>2005.0</td>\n",
       "    </tr>\n",
       "  </tbody>\n",
       "</table>\n",
       "</div>"
      ],
      "text/plain": [
       "   book_id                       original_title  \\\n",
       "0       83                 A Tale of Two Cities   \n",
       "1     3504                      The Known World   \n",
       "2      130              The Old Man and the Sea   \n",
       "3     2355  Silas Marner: The Weaver of Raveloe   \n",
       "4       47                       The Book Thief   \n",
       "\n",
       "                                             authors  \\\n",
       "0  Charles Dickens, Richard Maxwell, Hablot Knigh...   \n",
       "1                                    Edward P. Jones   \n",
       "2                                   Ernest Hemingway   \n",
       "3                                       George Eliot   \n",
       "4                                       Markus Zusak   \n",
       "\n",
       "   original_publication_year  \n",
       "0                     1859.0  \n",
       "1                     2003.0  \n",
       "2                     1952.0  \n",
       "3                     1861.0  \n",
       "4                     2005.0  "
      ]
     },
     "execution_count": 107,
     "metadata": {},
     "output_type": "execute_result"
    }
   ],
   "source": [
    "get_recommended_items_from_CF(7005, 5)"
   ]
  },
  {
   "cell_type": "markdown",
   "metadata": {},
   "source": [
    "## Fatorização de matrizes - construindo modelos com fatores latentes\n",
    "\n",
    "Também podemos construir um sistema de recomendação usando técnicas de fatorização de matrizes. A ideia de fatorizar matrizes é reduzir a dimensionalidade e, consequentemente, a esparsidade das matrizes de interações, para gerar melhores recomendações para os usuários.\n",
    "\n",
    "Veja mais sobre redução de dimensionalidade e modelos de fatores latentes nos seguintes vídeos do curso `Mining Massive Datasets`: [vídeo 1](https://www.youtube.com/watch?v=yLdOS6xyM_Q&list=PLLssT5z_DsK9JDLcT8T62VtzwyW9LNepV&index=46) e [vídeo 2](https://www.youtube.com/watch?v=E8aMcwmqsTg&list=PLLssT5z_DsK9JDLcT8T62VtzwyW9LNepV&index=55)."
   ]
  },
  {
   "cell_type": "markdown",
   "metadata": {},
   "source": [
    "### SVD (Singular Value Decomposition)"
   ]
  },
  {
   "cell_type": "code",
   "execution_count": 64,
   "metadata": {},
   "outputs": [],
   "source": [
    "from scipy.sparse.linalg import svds"
   ]
  },
  {
   "cell_type": "code",
   "execution_count": 69,
   "metadata": {},
   "outputs": [],
   "source": [
    "u, s, vt = svds(user_items_matrix, k=100)"
   ]
  },
  {
   "cell_type": "code",
   "execution_count": 73,
   "metadata": {},
   "outputs": [
    {
     "data": {
      "text/plain": [
       "((53424, 100), (100,), (100, 10000))"
      ]
     },
     "execution_count": 73,
     "metadata": {},
     "output_type": "execute_result"
    }
   ],
   "source": [
    "u.shape, s.shape, vt.shape"
   ]
  },
  {
   "cell_type": "code",
   "execution_count": 148,
   "metadata": {},
   "outputs": [],
   "source": [
    "from scipy.sparse import csr_matrix"
   ]
  },
  {
   "cell_type": "code",
   "execution_count": 155,
   "metadata": {},
   "outputs": [],
   "source": [
    "vt = csr_matrix(vt)"
   ]
  },
  {
   "cell_type": "code",
   "execution_count": 149,
   "metadata": {},
   "outputs": [],
   "source": [
    "v = csr_matrix(np.transpose(vt))"
   ]
  },
  {
   "cell_type": "code",
   "execution_count": 137,
   "metadata": {},
   "outputs": [],
   "source": [
    "user_0 = test_user_items_matrix.getrow(0)"
   ]
  },
  {
   "cell_type": "code",
   "execution_count": 138,
   "metadata": {},
   "outputs": [
    {
     "data": {
      "text/plain": [
       "(1, 10000)"
      ]
     },
     "execution_count": 138,
     "metadata": {},
     "output_type": "execute_result"
    }
   ],
   "source": [
    "user_0.shape"
   ]
  },
  {
   "cell_type": "code",
   "execution_count": 150,
   "metadata": {},
   "outputs": [
    {
     "data": {
      "text/plain": [
       "(10000, 100)"
      ]
     },
     "execution_count": 150,
     "metadata": {},
     "output_type": "execute_result"
    }
   ],
   "source": [
    "v.shape"
   ]
  },
  {
   "cell_type": "code",
   "execution_count": 156,
   "metadata": {},
   "outputs": [],
   "source": [
    "new_user_0 = np.dot(np.dot(user_0, v), vt)"
   ]
  },
  {
   "cell_type": "code",
   "execution_count": 157,
   "metadata": {},
   "outputs": [
    {
     "data": {
      "text/plain": [
       "(1, 10000)"
      ]
     },
     "execution_count": 157,
     "metadata": {},
     "output_type": "execute_result"
    }
   ],
   "source": [
    "new_user_0.shape"
   ]
  },
  {
   "cell_type": "code",
   "execution_count": 159,
   "metadata": {},
   "outputs": [],
   "source": [
    "new_df = pd.DataFrame(columns=[f'book_{k}' for k in range(1, 10001)])"
   ]
  },
  {
   "cell_type": "code",
   "execution_count": 174,
   "metadata": {},
   "outputs": [],
   "source": [
    "u = np.asarray(user_0.todense()).ravel()"
   ]
  },
  {
   "cell_type": "code",
   "execution_count": 176,
   "metadata": {},
   "outputs": [],
   "source": [
    "new_u = np.asarray(new_user_0.todense()).ravel()"
   ]
  },
  {
   "cell_type": "code",
   "execution_count": 177,
   "metadata": {},
   "outputs": [],
   "source": [
    "new_df.loc[0] = u\n",
    "new_df.loc[1] = new_u"
   ]
  },
  {
   "cell_type": "code",
   "execution_count": 178,
   "metadata": {},
   "outputs": [
    {
     "data": {
      "text/html": [
       "<div>\n",
       "<style scoped>\n",
       "    .dataframe tbody tr th:only-of-type {\n",
       "        vertical-align: middle;\n",
       "    }\n",
       "\n",
       "    .dataframe tbody tr th {\n",
       "        vertical-align: top;\n",
       "    }\n",
       "\n",
       "    .dataframe thead th {\n",
       "        text-align: right;\n",
       "    }\n",
       "</style>\n",
       "<table border=\"1\" class=\"dataframe\">\n",
       "  <thead>\n",
       "    <tr style=\"text-align: right;\">\n",
       "      <th></th>\n",
       "      <th>book_1</th>\n",
       "      <th>book_2</th>\n",
       "      <th>book_3</th>\n",
       "      <th>book_4</th>\n",
       "      <th>book_5</th>\n",
       "      <th>book_6</th>\n",
       "      <th>book_7</th>\n",
       "      <th>book_8</th>\n",
       "      <th>book_9</th>\n",
       "      <th>book_10</th>\n",
       "      <th>...</th>\n",
       "      <th>book_9991</th>\n",
       "      <th>book_9992</th>\n",
       "      <th>book_9993</th>\n",
       "      <th>book_9994</th>\n",
       "      <th>book_9995</th>\n",
       "      <th>book_9996</th>\n",
       "      <th>book_9997</th>\n",
       "      <th>book_9998</th>\n",
       "      <th>book_9999</th>\n",
       "      <th>book_10000</th>\n",
       "    </tr>\n",
       "  </thead>\n",
       "  <tbody>\n",
       "    <tr>\n",
       "      <th>0</th>\n",
       "      <td>0.000000</td>\n",
       "      <td>0.00000</td>\n",
       "      <td>0.000000</td>\n",
       "      <td>0.000000</td>\n",
       "      <td>0.000000</td>\n",
       "      <td>0.000000</td>\n",
       "      <td>0.00000</td>\n",
       "      <td>0.000000</td>\n",
       "      <td>0.000000</td>\n",
       "      <td>0.000000</td>\n",
       "      <td>...</td>\n",
       "      <td>0.000000</td>\n",
       "      <td>0.000000</td>\n",
       "      <td>0.000000</td>\n",
       "      <td>0.00000</td>\n",
       "      <td>0.000000</td>\n",
       "      <td>0.000000</td>\n",
       "      <td>0.000000</td>\n",
       "      <td>0.000000</td>\n",
       "      <td>0.000000</td>\n",
       "      <td>0.000000</td>\n",
       "    </tr>\n",
       "    <tr>\n",
       "      <th>1</th>\n",
       "      <td>-0.124653</td>\n",
       "      <td>-0.06444</td>\n",
       "      <td>0.257004</td>\n",
       "      <td>-0.003357</td>\n",
       "      <td>-0.026881</td>\n",
       "      <td>0.038335</td>\n",
       "      <td>-0.10294</td>\n",
       "      <td>0.020795</td>\n",
       "      <td>0.490848</td>\n",
       "      <td>0.373307</td>\n",
       "      <td>...</td>\n",
       "      <td>-0.000362</td>\n",
       "      <td>-0.002611</td>\n",
       "      <td>0.006737</td>\n",
       "      <td>0.00443</td>\n",
       "      <td>-0.005341</td>\n",
       "      <td>-0.004257</td>\n",
       "      <td>0.009189</td>\n",
       "      <td>0.002552</td>\n",
       "      <td>0.000313</td>\n",
       "      <td>-0.005129</td>\n",
       "    </tr>\n",
       "  </tbody>\n",
       "</table>\n",
       "<p>2 rows × 10000 columns</p>\n",
       "</div>"
      ],
      "text/plain": [
       "     book_1   book_2    book_3    book_4    book_5    book_6   book_7  \\\n",
       "0  0.000000  0.00000  0.000000  0.000000  0.000000  0.000000  0.00000   \n",
       "1 -0.124653 -0.06444  0.257004 -0.003357 -0.026881  0.038335 -0.10294   \n",
       "\n",
       "     book_8    book_9   book_10     ...      book_9991  book_9992  book_9993  \\\n",
       "0  0.000000  0.000000  0.000000     ...       0.000000   0.000000   0.000000   \n",
       "1  0.020795  0.490848  0.373307     ...      -0.000362  -0.002611   0.006737   \n",
       "\n",
       "   book_9994  book_9995  book_9996  book_9997  book_9998  book_9999  \\\n",
       "0    0.00000   0.000000   0.000000   0.000000   0.000000   0.000000   \n",
       "1    0.00443  -0.005341  -0.004257   0.009189   0.002552   0.000313   \n",
       "\n",
       "   book_10000  \n",
       "0    0.000000  \n",
       "1   -0.005129  \n",
       "\n",
       "[2 rows x 10000 columns]"
      ]
     },
     "execution_count": 178,
     "metadata": {},
     "output_type": "execute_result"
    }
   ],
   "source": [
    "new_df.head()"
   ]
  },
  {
   "cell_type": "code",
   "execution_count": 181,
   "metadata": {},
   "outputs": [],
   "source": [
    "indices = np.argsort(new_u)"
   ]
  },
  {
   "cell_type": "code",
   "execution_count": 182,
   "metadata": {},
   "outputs": [
    {
     "data": {
      "text/plain": [
       "array([ True,  True,  True, ...,  True,  True,  True], dtype=bool)"
      ]
     },
     "execution_count": 182,
     "metadata": {},
     "output_type": "execute_result"
    }
   ],
   "source": [
    "u==0"
   ]
  },
  {
   "cell_type": "code",
   "execution_count": 189,
   "metadata": {},
   "outputs": [],
   "source": [
    "indices = set(np.arange(len(new_u))).difference(set(np.nonzero(u)[0]))"
   ]
  },
  {
   "cell_type": "code",
   "execution_count": null,
   "metadata": {},
   "outputs": [],
   "source": [
    "largest_vals = np.argsort(new_u[])"
   ]
  },
  {
   "cell_type": "code",
   "execution_count": 179,
   "metadata": {},
   "outputs": [
    {
     "data": {
      "text/plain": [
       "array([-0.1246529 , -0.06444014,  0.2570037 , ...,  0.00255161,\n",
       "        0.00031287, -0.00512864])"
      ]
     },
     "execution_count": 179,
     "metadata": {},
     "output_type": "execute_result"
    }
   ],
   "source": [
    "np.where(u == 0)[0]"
   ]
  },
  {
   "cell_type": "code",
   "execution_count": 154,
   "metadata": {},
   "outputs": [
    {
     "data": {
      "text/plain": [
       "<1x100 sparse matrix of type '<class 'numpy.float64'>'\n",
       "\twith 100 stored elements in Compressed Sparse Row format>"
      ]
     },
     "execution_count": 154,
     "metadata": {},
     "output_type": "execute_result"
    }
   ],
   "source": [
    "new_user_0 = np.dot()"
   ]
  },
  {
   "cell_type": "code",
   "execution_count": 126,
   "metadata": {},
   "outputs": [],
   "source": [
    "a = np.array([[1, 2, 3]])"
   ]
  },
  {
   "cell_type": "code",
   "execution_count": 128,
   "metadata": {},
   "outputs": [],
   "source": [
    "b = np.array([[3,2],[5,2],[3,3]])"
   ]
  },
  {
   "cell_type": "code",
   "execution_count": 141,
   "metadata": {},
   "outputs": [
    {
     "data": {
      "text/plain": [
       "(1, 2)"
      ]
     },
     "execution_count": 141,
     "metadata": {},
     "output_type": "execute_result"
    }
   ],
   "source": [
    "np.dot(a, b).shape"
   ]
  },
  {
   "cell_type": "markdown",
   "metadata": {},
   "source": [
    "### NMF (Non-negative Matrix Factorization)"
   ]
  },
  {
   "cell_type": "markdown",
   "metadata": {},
   "source": [
    "## Bônus: LDA"
   ]
  },
  {
   "cell_type": "markdown",
   "metadata": {},
   "source": [
    "Acabamos de reproduzir parte da evolução do [sistema de recomendação do NYT](https://open.blogs.nytimes.com/2015/08/11/building-the-next-new-york-times-recommendation-engine/)."
   ]
  },
  {
   "cell_type": "markdown",
   "metadata": {},
   "source": [
    "## Mais Bônus: ranking e avaliação"
   ]
  },
  {
   "cell_type": "code",
   "execution_count": null,
   "metadata": {},
   "outputs": [],
   "source": []
  }
 ],
 "metadata": {
  "kernelspec": {
   "display_name": "Python 3",
   "language": "python",
   "name": "python3"
  },
  "language_info": {
   "codemirror_mode": {
    "name": "ipython",
    "version": 3
   },
   "file_extension": ".py",
   "mimetype": "text/x-python",
   "name": "python",
   "nbconvert_exporter": "python",
   "pygments_lexer": "ipython3",
   "version": "3.6.5"
  }
 },
 "nbformat": 4,
 "nbformat_minor": 2
}

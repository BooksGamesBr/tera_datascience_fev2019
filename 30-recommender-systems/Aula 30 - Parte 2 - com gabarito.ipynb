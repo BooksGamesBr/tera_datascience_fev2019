{
 "cells": [
  {
   "cell_type": "markdown",
   "metadata": {},
   "source": [
    "# Modelo de tópicos como sistemas de recomendação\n",
    "\n",
    "Na primeira parte da aula, falamos sobre sistemas de recomendação baseado em filtros colaborativos. Aqui, vamos nos focar em outro tipo de sistema de recomendação: o baseado em conteúdo. Vamos continuar falando de fatorização de matrizes para criar sistemas de recomendação, e vamos ver como a técnica `NMF` pode nos ajudar a criar um sistema de recomendação interpretável.\n",
    "\n",
    "Bom, mas qual é a diferença desse tal de NMF em relação ao SVD? Técnicas como o SVD reduzem a esparsidade do dataset e, em geral, melhoram as predições de ratings. Entretanto, uma desvantagem clara é a falta de uma explicabilidade dos fatores gerados.\n",
    "\n",
    "<img src=\"resources/imgs/NMF_PCA.png\" width=700>\n",
    "\n",
    "Fonte: [Learning the parts of objects by non-negative matrix factorization](http://www.columbia.edu/~jwp2128/Teaching/E4903/papers/nmf_nature.pdf)\n",
    "\n",
    "Essa característica do NMF de aprender partes do objeto é muito útil à construção de um modelo de tópicos, cujo objetivo em tarefas textuais é caracterizar documentos em tópicos (conjunto de palavras).\n",
    "\n",
    "<img src=\"resources/imgs/topic_model.png\" width=500>"
   ]
  },
  {
   "cell_type": "markdown",
   "metadata": {},
   "source": [
    "### NMF (Non-negative Matrix Factorization)\n",
    "\n",
    "O objetivo da fatorização de matrizes usando NMF é encontrar matrizes **não negativas** ($W$ e $H$) que ao serem multiplicadas geram aproximadamente a matriz original ($X$):\n",
    "\n",
    "$$X = W \\cdot H$$\n",
    "\n",
    "A escolha do número de tópicos (parâmetro `n_components` no [sklearn](https://scikit-learn.org/stable/modules/generated/sklearn.decomposition.NMF.html)) é feita a priori, e determina uma das dimensões das matrizes $W$ e $H$."
   ]
  },
  {
   "cell_type": "markdown",
   "metadata": {},
   "source": [
    "#### **Atividade**: construa um sistema de recomendação usando o algoritmo NMF\n",
    "\n",
    "Etapas:\n",
    "\n",
    "1. Pré-processamento do dataset\n",
    "2. Crie o modelo de tópicos:\n",
    "    * construa uma matriz de input para o NMF usando o [TfidfVectorizer](https://scikit-learn.org/stable/modules/generated/sklearn.feature_extraction.text.TfidfVectorizer.html)\n",
    "    * faça a decomposição [NMF](https://scikit-learn.org/stable/modules/generated/sklearn.decomposition.NMF.html) dessa matriz para obter a matriz que descreve os livros em tópicos e a matriz que descreve os tópicos em features (da matriz de input)\n",
    "3. Use a matriz que descreve os livros em tópicos para fazer o `fit` do algoritmo [knn](https://scikit-learn.org/stable/modules/generated/sklearn.neighbors.NearestNeighbors.html#sklearn.neighbors.NearestNeighbors)\n",
    "4. Carregue os dados processados do outro notebook e encontre a matriz de usuário por tópicos\n",
    "5. Dado um usuário (uma linha da matriz de usuário por tópicos) e um número $n > 0$, crie uma função que encontra as top $n$ recomendações de livros (lista de `book_id`) para ele \n",
    "\n",
    "** Tempo estimado para a atividade total: ** 45 minutos"
   ]
  },
  {
   "cell_type": "markdown",
   "metadata": {},
   "source": [
    "**Etapa 1: ** pré-processamento\n",
    "\n",
    "1. Carregue o dataset `resources/data/reduced/books_summary.csv` em um `pandas.DataFrame`\n",
    "2. Crie uma coluna que concatena as seguintes informações: título (`title`), autores (`authors`) e tags (`tags`)\n",
    "3. Normalize a coluna recém criada, colocando todo o texto em caixa baixa (_lowercase_) e usando expressão regular `REG_SYMBOLS` para remover caracteres indesejados do texto\n",
    "\n",
    "** Tempo estimado para a atividade: ** 10 minutos"
   ]
  },
  {
   "cell_type": "code",
   "execution_count": 1,
   "metadata": {},
   "outputs": [],
   "source": [
    "import pandas as pd\n",
    "import re"
   ]
  },
  {
   "cell_type": "code",
   "execution_count": 2,
   "metadata": {},
   "outputs": [],
   "source": [
    "pd.set_option('display.max_columns', None)\n",
    "pd.set_option('display.max_colwidth', -1)"
   ]
  },
  {
   "cell_type": "code",
   "execution_count": 3,
   "metadata": {},
   "outputs": [],
   "source": [
    "books_df = pd.read_csv('resources/data/reduced/books_summary.csv')"
   ]
  },
  {
   "cell_type": "code",
   "execution_count": 4,
   "metadata": {},
   "outputs": [],
   "source": [
    "books_df['text'] = books_df['title'] + ' ' + books_df['authors'] + ' ' + books_df['tags']"
   ]
  },
  {
   "cell_type": "code",
   "execution_count": 5,
   "metadata": {},
   "outputs": [],
   "source": [
    "REG_SYMBOLS = re.compile(r'[^A-Za-z0-9 #\\-]+')"
   ]
  },
  {
   "cell_type": "code",
   "execution_count": 6,
   "metadata": {},
   "outputs": [],
   "source": [
    "books_df['norm_text'] = books_df['text'].str.lower().str.replace(REG_SYMBOLS, '')"
   ]
  },
  {
   "cell_type": "markdown",
   "metadata": {},
   "source": [
    "* ao final dessa etapa, você deve ter uma coluna a mais no dataset, que mostra os textos concatenados e com a normalização proposta"
   ]
  },
  {
   "cell_type": "code",
   "execution_count": 7,
   "metadata": {},
   "outputs": [
    {
     "data": {
      "text/html": [
       "<div>\n",
       "<style scoped>\n",
       "    .dataframe tbody tr th:only-of-type {\n",
       "        vertical-align: middle;\n",
       "    }\n",
       "\n",
       "    .dataframe tbody tr th {\n",
       "        vertical-align: top;\n",
       "    }\n",
       "\n",
       "    .dataframe thead th {\n",
       "        text-align: right;\n",
       "    }\n",
       "</style>\n",
       "<table border=\"1\" class=\"dataframe\">\n",
       "  <thead>\n",
       "    <tr style=\"text-align: right;\">\n",
       "      <th></th>\n",
       "      <th>book_id</th>\n",
       "      <th>goodreads_book_id</th>\n",
       "      <th>title</th>\n",
       "      <th>authors</th>\n",
       "      <th>original_publication_year</th>\n",
       "      <th>tags</th>\n",
       "      <th>text</th>\n",
       "      <th>norm_text</th>\n",
       "    </tr>\n",
       "  </thead>\n",
       "  <tbody>\n",
       "    <tr>\n",
       "      <th>0</th>\n",
       "      <td>1</td>\n",
       "      <td>2767052</td>\n",
       "      <td>The Hunger Games (The Hunger Games, #1)</td>\n",
       "      <td>Suzanne Collins</td>\n",
       "      <td>2008.0</td>\n",
       "      <td>to-read fantasy favorites currently-reading young-adult fiction books-i-own owned ya series favourites re-read adventure sci-fi-fantasy all-time-favorites default my-books reread i-own audiobook 5-stars favorite-books novels fantasy-sci-fi favorite audiobooks read-more-than-once my-library ya-fantasy teen english books ya-fiction my-favorites own-it library audio young-adult-fiction novel scifi-fantasy faves favorite-series shelfari-favorites kindle romance favourite to-buy read-in-2014 ebook contemporary 5-star coming-of-age favourite-books favs action read-in-2013 read-in-2011 finished ya-books borrowed sci-fi ya-lit science-fiction scifi sf book-club speculative-fiction ebooks survival action-adventure e-book drama thriller suspense dystopia dystopian love read-in-2012 post-apocalyptic futuristic dystopias distopian distopia teen-fiction loved read-2012 trilogy read-in-2010 dystopian-fiction 2012-reads future reviewed read-2011 ya-dystopian finished-series completed-series love-triangle suzanne-collins hunger-games the-hunger-games</td>\n",
       "      <td>The Hunger Games (The Hunger Games, #1) Suzanne Collins to-read fantasy favorites currently-reading young-adult fiction books-i-own owned ya series favourites re-read adventure sci-fi-fantasy all-time-favorites default my-books reread i-own audiobook 5-stars favorite-books novels fantasy-sci-fi favorite audiobooks read-more-than-once my-library ya-fantasy teen english books ya-fiction my-favorites own-it library audio young-adult-fiction novel scifi-fantasy faves favorite-series shelfari-favorites kindle romance favourite to-buy read-in-2014 ebook contemporary 5-star coming-of-age favourite-books favs action read-in-2013 read-in-2011 finished ya-books borrowed sci-fi ya-lit science-fiction scifi sf book-club speculative-fiction ebooks survival action-adventure e-book drama thriller suspense dystopia dystopian love read-in-2012 post-apocalyptic futuristic dystopias distopian distopia teen-fiction loved read-2012 trilogy read-in-2010 dystopian-fiction 2012-reads future reviewed read-2011 ya-dystopian finished-series completed-series love-triangle suzanne-collins hunger-games the-hunger-games</td>\n",
       "      <td>the hunger games the hunger games #1 suzanne collins to-read fantasy favorites currently-reading young-adult fiction books-i-own owned ya series favourites re-read adventure sci-fi-fantasy all-time-favorites default my-books reread i-own audiobook 5-stars favorite-books novels fantasy-sci-fi favorite audiobooks read-more-than-once my-library ya-fantasy teen english books ya-fiction my-favorites own-it library audio young-adult-fiction novel scifi-fantasy faves favorite-series shelfari-favorites kindle romance favourite to-buy read-in-2014 ebook contemporary 5-star coming-of-age favourite-books favs action read-in-2013 read-in-2011 finished ya-books borrowed sci-fi ya-lit science-fiction scifi sf book-club speculative-fiction ebooks survival action-adventure e-book drama thriller suspense dystopia dystopian love read-in-2012 post-apocalyptic futuristic dystopias distopian distopia teen-fiction loved read-2012 trilogy read-in-2010 dystopian-fiction 2012-reads future reviewed read-2011 ya-dystopian finished-series completed-series love-triangle suzanne-collins hunger-games the-hunger-games</td>\n",
       "    </tr>\n",
       "  </tbody>\n",
       "</table>\n",
       "</div>"
      ],
      "text/plain": [
       "   book_id  goodreads_book_id                                    title  \\\n",
       "0  1        2767052            The Hunger Games (The Hunger Games, #1)   \n",
       "\n",
       "           authors  original_publication_year  \\\n",
       "0  Suzanne Collins  2008.0                      \n",
       "\n",
       "                                                                                                                                                                                                                                                                                                                                                                                                                                                                                                                                                                                                                                                                                                                                                                                                                                                                                                                                                                                                                                                                                         tags  \\\n",
       "0  to-read fantasy favorites currently-reading young-adult fiction books-i-own owned ya series favourites re-read adventure sci-fi-fantasy all-time-favorites default my-books reread i-own audiobook 5-stars favorite-books novels fantasy-sci-fi favorite audiobooks read-more-than-once my-library ya-fantasy teen english books ya-fiction my-favorites own-it library audio young-adult-fiction novel scifi-fantasy faves favorite-series shelfari-favorites kindle romance favourite to-buy read-in-2014 ebook contemporary 5-star coming-of-age favourite-books favs action read-in-2013 read-in-2011 finished ya-books borrowed sci-fi ya-lit science-fiction scifi sf book-club speculative-fiction ebooks survival action-adventure e-book drama thriller suspense dystopia dystopian love read-in-2012 post-apocalyptic futuristic dystopias distopian distopia teen-fiction loved read-2012 trilogy read-in-2010 dystopian-fiction 2012-reads future reviewed read-2011 ya-dystopian finished-series completed-series love-triangle suzanne-collins hunger-games the-hunger-games   \n",
       "\n",
       "                                                                                                                                                                                                                                                                                                                                                                                                                                                                                                                                                                                                                                                                                                                                                                                                                                                                                                                                                                                                                                                                                                                                                 text  \\\n",
       "0  The Hunger Games (The Hunger Games, #1) Suzanne Collins to-read fantasy favorites currently-reading young-adult fiction books-i-own owned ya series favourites re-read adventure sci-fi-fantasy all-time-favorites default my-books reread i-own audiobook 5-stars favorite-books novels fantasy-sci-fi favorite audiobooks read-more-than-once my-library ya-fantasy teen english books ya-fiction my-favorites own-it library audio young-adult-fiction novel scifi-fantasy faves favorite-series shelfari-favorites kindle romance favourite to-buy read-in-2014 ebook contemporary 5-star coming-of-age favourite-books favs action read-in-2013 read-in-2011 finished ya-books borrowed sci-fi ya-lit science-fiction scifi sf book-club speculative-fiction ebooks survival action-adventure e-book drama thriller suspense dystopia dystopian love read-in-2012 post-apocalyptic futuristic dystopias distopian distopia teen-fiction loved read-2012 trilogy read-in-2010 dystopian-fiction 2012-reads future reviewed read-2011 ya-dystopian finished-series completed-series love-triangle suzanne-collins hunger-games the-hunger-games   \n",
       "\n",
       "                                                                                                                                                                                                                                                                                                                                                                                                                                                                                                                                                                                                                                                                                                                                                                                                                                                                                                                                                                                                                                                                                                                                         norm_text  \n",
       "0  the hunger games the hunger games #1 suzanne collins to-read fantasy favorites currently-reading young-adult fiction books-i-own owned ya series favourites re-read adventure sci-fi-fantasy all-time-favorites default my-books reread i-own audiobook 5-stars favorite-books novels fantasy-sci-fi favorite audiobooks read-more-than-once my-library ya-fantasy teen english books ya-fiction my-favorites own-it library audio young-adult-fiction novel scifi-fantasy faves favorite-series shelfari-favorites kindle romance favourite to-buy read-in-2014 ebook contemporary 5-star coming-of-age favourite-books favs action read-in-2013 read-in-2011 finished ya-books borrowed sci-fi ya-lit science-fiction scifi sf book-club speculative-fiction ebooks survival action-adventure e-book drama thriller suspense dystopia dystopian love read-in-2012 post-apocalyptic futuristic dystopias distopian distopia teen-fiction loved read-2012 trilogy read-in-2010 dystopian-fiction 2012-reads future reviewed read-2011 ya-dystopian finished-series completed-series love-triangle suzanne-collins hunger-games the-hunger-games  "
      ]
     },
     "execution_count": 7,
     "metadata": {},
     "output_type": "execute_result"
    }
   ],
   "source": [
    "books_df.head(n=1)"
   ]
  },
  {
   "cell_type": "markdown",
   "metadata": {},
   "source": [
    "**Etapa 2:** criação do modelo de tópicos\n",
    "\n",
    "* construa uma matriz de input para o NMF usando o [TfidfVectorizer](https://scikit-learn.org/stable/modules/generated/sklearn.feature_extraction.text.TfidfVectorizer.html)\n",
    "* faça a decomposição [NMF](https://scikit-learn.org/stable/modules/generated/sklearn.decomposition.NMF.html) dessa matriz para obter a matriz que descreve os livros em tópicos e a matriz que descreve os tópicos em features (da matriz de input)\n",
    "\n",
    "** Tempo estimado para a atividade: ** 15 minutos"
   ]
  },
  {
   "cell_type": "code",
   "execution_count": 8,
   "metadata": {},
   "outputs": [],
   "source": [
    "import numpy as np\n",
    "from scipy.sparse import csr_matrix\n",
    "from sklearn.feature_extraction.text import TfidfVectorizer\n",
    "from sklearn.decomposition import NMF\n",
    "from sklearn.preprocessing import Normalizer"
   ]
  },
  {
   "cell_type": "markdown",
   "metadata": {},
   "source": [
    "* aplique o `TfidfVectorizer` na coluna de texto criada na etapa 1 para obter uma matriz de features textuais"
   ]
  },
  {
   "cell_type": "code",
   "execution_count": 9,
   "metadata": {},
   "outputs": [],
   "source": [
    "tfidf = TfidfVectorizer(max_df=0.9, min_df=0.001, sublinear_tf=True, max_features=1500, stopwords='english')\n",
    "X_tfidf = tfidf.fit_transform(books_df['norm_text'].values)"
   ]
  },
  {
   "cell_type": "markdown",
   "metadata": {},
   "source": [
    "* escolha a quantidade de tópicos para gerar o NMF"
   ]
  },
  {
   "cell_type": "code",
   "execution_count": 49,
   "metadata": {},
   "outputs": [],
   "source": [
    "# parâmetro para NMF\n",
    "n_components = 10"
   ]
  },
  {
   "cell_type": "markdown",
   "metadata": {},
   "source": [
    "* calcule a decomposição `NMF` (note que ao executar o `fit_transform`, o NMF já retorna a matriz $W$ da fórmula; a matriz $H$ pode ser obtida através do atributo `.components_` do modelo NMF)"
   ]
  },
  {
   "cell_type": "code",
   "execution_count": 11,
   "metadata": {},
   "outputs": [],
   "source": [
    "nmf = NMF(n_components=n_components)"
   ]
  },
  {
   "cell_type": "code",
   "execution_count": 12,
   "metadata": {},
   "outputs": [
    {
     "name": "stdout",
     "output_type": "stream",
     "text": [
      "CPU times: user 532 ms, sys: 468 ms, total: 1e+03 ms\n",
      "Wall time: 380 ms\n"
     ]
    }
   ],
   "source": [
    "%%time\n",
    "M_bt = nmf.fit_transform(X_tfidf)"
   ]
  },
  {
   "cell_type": "code",
   "execution_count": 13,
   "metadata": {},
   "outputs": [],
   "source": [
    "M_tf = nmf.components_"
   ]
  },
  {
   "cell_type": "code",
   "execution_count": 14,
   "metadata": {},
   "outputs": [
    {
     "data": {
      "text/plain": [
       "((7690, 10), (10, 1500))"
      ]
     },
     "execution_count": 14,
     "metadata": {},
     "output_type": "execute_result"
    }
   ],
   "source": [
    "M_bt.shape, M_tf.shape"
   ]
  },
  {
   "cell_type": "markdown",
   "metadata": {},
   "source": [
    "* normalize a matriz $W$, que relaciona os livros com os tópicos\n",
    "    * para facilitar os cálculos futuros, use converta a matriz final em uma matriz esparsa `scipy.sparse.csr_matrix`. Por exemplo:\n",
    "    \n",
    "    ```python\n",
    "    from scipy.sparse import csr_matrix\n",
    "    W = csr_matrix(W)\n",
    "    ```"
   ]
  },
  {
   "cell_type": "code",
   "execution_count": 33,
   "metadata": {},
   "outputs": [],
   "source": [
    "norm = Normalizer()\n",
    "M_bt = norm.fit_transform(csr_matrix(M_bt))"
   ]
  },
  {
   "cell_type": "code",
   "execution_count": 34,
   "metadata": {},
   "outputs": [
    {
     "data": {
      "text/plain": [
       "<7690x10 sparse matrix of type '<class 'numpy.float64'>'\n",
       "\twith 39451 stored elements in Compressed Sparse Row format>"
      ]
     },
     "execution_count": 34,
     "metadata": {},
     "output_type": "execute_result"
    }
   ],
   "source": [
    "M_bt"
   ]
  },
  {
   "cell_type": "markdown",
   "metadata": {},
   "source": [
    "* ao final, caso deseje, você pode imprimir 10 palavras que representam cada um dos tópicos (nesse trecho de código, a matriz $W$ está na variável `M_bt` e a matriz $H$, na variável `M_tf`; modifique-o com os nomes que você escolheu para essas matrizes)"
   ]
  },
  {
   "cell_type": "code",
   "execution_count": 16,
   "metadata": {},
   "outputs": [
    {
     "name": "stdout",
     "output_type": "stream",
     "text": [
      "Topic 0:\n",
      "\tin\n",
      "\t2015\n",
      "\t2016\n",
      "\t2014\n",
      "\taudio\n",
      "\treads\n",
      "\tlibrary\n",
      "\tadult\n",
      "\tmy\n",
      "\tbook\n",
      "Topic 1:\n",
      "\tchildren\n",
      "\tchildrens\n",
      "\tkids\n",
      "\tpicture\n",
      "\tchildhood\n",
      "\tbooks\n",
      "\tmiddle\n",
      "\tjuvenile\n",
      "\tgrade\n",
      "\tanimals\n",
      "Topic 2:\n",
      "\tnon\n",
      "\tnonfiction\n",
      "\tbiography\n",
      "\tmemoir\n",
      "\tmemoirs\n",
      "\thistory\n",
      "\tthe\n",
      "\tof\n",
      "\treading\n",
      "\tcurrently\n",
      "Topic 3:\n",
      "\tfi\n",
      "\tsci\n",
      "\tfantasy\n",
      "\tscience\n",
      "\tscifi\n",
      "\tsf\n",
      "\towned\n",
      "\tdefault\n",
      "\tthe\n",
      "\tepic\n",
      "Topic 4:\n",
      "\tthriller\n",
      "\tmystery\n",
      "\tsuspense\n",
      "\tcrime\n",
      "\tmysteries\n",
      "\tdefault\n",
      "\tcurrently\n",
      "\treading\n",
      "\tthrillers\n",
      "\tjames\n",
      "Topic 5:\n",
      "\t1001\n",
      "\tliterature\n",
      "\tclassics\n",
      "\tclassic\n",
      "\tbooks\n",
      "\tamerican\n",
      "\tgilmore\n",
      "\trory\n",
      "\tcentury\n",
      "\tschool\n",
      "Topic 6:\n",
      "\tparanormal\n",
      "\tfantasy\n",
      "\tromance\n",
      "\tseries\n",
      "\tya\n",
      "\tsupernatural\n",
      "\turban\n",
      "\tvampire\n",
      "\tmagic\n",
      "\tyoung\n",
      "Topic 7:\n",
      "\thistorical\n",
      "\tclub\n",
      "\tbook\n",
      "\tthe\n",
      "\thistory\n",
      "\tcurrently\n",
      "\treading\n",
      "\tfavorites\n",
      "\tof\n",
      "\twar\n",
      "Topic 8:\n",
      "\tgraphic\n",
      "\tcomics\n",
      "\tnovels\n",
      "\tcomic\n",
      "\tnovel\n",
      "\tcmics\n",
      "\tand\n",
      "\tvol\n",
      "\thorror\n",
      "\tbooks\n",
      "Topic 9:\n",
      "\tcontemporary\n",
      "\tchick\n",
      "\tlit\n",
      "\tromance\n",
      "\tadult\n",
      "\tnora\n",
      "\troberts\n",
      "\town\n",
      "\tbooks\n",
      "\tfavorites\n"
     ]
    }
   ],
   "source": [
    "idx2words = np.array(tfidf.get_feature_names())\n",
    "\n",
    "for idx in range(M_bt.shape[1]):\n",
    "    top_words_indices = np.argsort(M_tf[idx])[::-1]\n",
    "    print('Topic {}:'.format(idx))\n",
    "    print('\\t{}'.format('\\n\\t'.join(idx2words[top_words_indices[:10]])))"
   ]
  },
  {
   "cell_type": "markdown",
   "metadata": {},
   "source": [
    "**Etapa 3:** Use a matriz que descreve os livros em tópicos (matriz $H$) para fazer o `fit` do algoritmo [knn](https://scikit-learn.org/stable/modules/generated/sklearn.neighbors.NearestNeighbors.html#sklearn.neighbors.NearestNeighbors)\n",
    "\n",
    "** Tempo estimado para a atividade total: ** 5 minutos"
   ]
  },
  {
   "cell_type": "code",
   "execution_count": 17,
   "metadata": {},
   "outputs": [],
   "source": [
    "from sklearn.neighbors import NearestNeighbors"
   ]
  },
  {
   "cell_type": "code",
   "execution_count": null,
   "metadata": {},
   "outputs": [],
   "source": [
    "# Parâmetro para calcular o knn\n",
    "n_neighbors = 40"
   ]
  },
  {
   "cell_type": "code",
   "execution_count": 18,
   "metadata": {},
   "outputs": [],
   "source": [
    "knn = NearestNeighbors(n_neighbors=n_neighbors, metric='cosine')"
   ]
  },
  {
   "cell_type": "code",
   "execution_count": 19,
   "metadata": {},
   "outputs": [
    {
     "data": {
      "text/plain": [
       "NearestNeighbors(algorithm='auto', leaf_size=30, metric='cosine',\n",
       "         metric_params=None, n_jobs=1, n_neighbors=40, p=2, radius=1.0)"
      ]
     },
     "execution_count": 19,
     "metadata": {},
     "output_type": "execute_result"
    }
   ],
   "source": [
    "knn.fit(M_bt)"
   ]
  },
  {
   "cell_type": "markdown",
   "metadata": {},
   "source": [
    "* você pode testar se está tudo ok, verificando que chamar o método `kneighbors` com a primeira das linhas (índice 0) da matriz retorna como mais próximo a própria linha"
   ]
  },
  {
   "cell_type": "code",
   "execution_count": 48,
   "metadata": {},
   "outputs": [
    {
     "data": {
      "text/plain": [
       "True"
      ]
     },
     "execution_count": 48,
     "metadata": {},
     "output_type": "execute_result"
    }
   ],
   "source": [
    "knn.kneighbors(M_bt[0])[1][0][0] == 0"
   ]
  },
  {
   "cell_type": "markdown",
   "metadata": {},
   "source": [
    "**Etapa 4: ** Carregue os dados processados do outro notebook e encontre a matriz de usuário por tópicos\n",
    "\n",
    "** Tempo estimado para a atividade total: ** 10 minutos"
   ]
  },
  {
   "cell_type": "markdown",
   "metadata": {},
   "source": [
    "Primeiro, Será necessário carregar os seguintes arquivos:\n",
    "\n",
    "* `ref_id2user_id`: `resources/data/processed/ref_id2user_id.joblib` \n",
    "* `ref_id2book_id`: `resources/data/processed/ref_id2book_id.joblib`\n",
    "* `user_items_matrix`: `resources/data/processed/user_items_matrix.joblib`\n",
    "* `user_ratings_df`: `resources/data/processed/user_ratings.csv`\n",
    "\n",
    "Note que para os três primeiros, você usará a biblioteca joblib (que pode ser importada a partir do scikit-learn com `from sklearn.externals import joblib`), e para o último, a biblioteca `pandas`."
   ]
  },
  {
   "cell_type": "code",
   "execution_count": 25,
   "metadata": {},
   "outputs": [],
   "source": [
    "from sklearn.externals import joblib"
   ]
  },
  {
   "cell_type": "code",
   "execution_count": 32,
   "metadata": {},
   "outputs": [],
   "source": [
    "ref_id2user_id = joblib.load('resources/data/processed/ref_id2user_id.joblib')\n",
    "ref_id2book_id = joblib.load('resources/data/processed/ref_id2book_id.joblib')\n",
    "unnormalized_user_items_matrix = joblib.load('resources/data/processed/unnormalized_user_items_matrix.joblib')\n",
    "user_items_matrix = joblib.load('resources/data/processed/user_items_matrix.joblib')\n",
    "test_user_items_matrix = joblib.load('resources/data/processed/test_user_items_matrix.joblib')\n",
    "train_indices, test_indices = joblib.load('resources/data/processed/train_test_indices.joblib')\n",
    "user_ratings_df = pd.read_csv('resources/data/processed/user_ratings.csv')"
   ]
  },
  {
   "cell_type": "markdown",
   "metadata": {},
   "source": [
    "* após carregar os dados necessários, rode a seguinte célula"
   ]
  },
  {
   "cell_type": "code",
   "execution_count": 43,
   "metadata": {},
   "outputs": [],
   "source": [
    "train_df, test_df = user_ratings_df.loc[train_indices], user_ratings_df.loc[test_indices]\n",
    "user_id2ref_id = {user_id: ref_id for ref_id, user_id in ref_id2user_id.items()}\n",
    "book_id2ref_id = {book_id: ref_id for ref_id, book_id in ref_id2book_id.items()}"
   ]
  },
  {
   "cell_type": "markdown",
   "metadata": {},
   "source": [
    "* encontre agora a matriz de usuários por tópicos (dica: basta [multiplicar](https://docs.scipy.org/doc/numpy-1.14.1/reference/generated/numpy.dot.html) a matriz `user_items_matrix` pela matriz $H$)"
   ]
  },
  {
   "cell_type": "code",
   "execution_count": 26,
   "metadata": {},
   "outputs": [],
   "source": [
    "M_ut = np.dot(user_items_matrix, csr_matrix(M_bt))"
   ]
  },
  {
   "cell_type": "markdown",
   "metadata": {},
   "source": [
    "* essa matriz (a minha ficava na variável de nome `M_ut`) deverá ter dimensão `(5000, n_components)`"
   ]
  },
  {
   "cell_type": "code",
   "execution_count": 50,
   "metadata": {},
   "outputs": [
    {
     "data": {
      "text/plain": [
       "True"
      ]
     },
     "execution_count": 50,
     "metadata": {},
     "output_type": "execute_result"
    }
   ],
   "source": [
    "M_ut.shape == (5000, n_components)"
   ]
  },
  {
   "cell_type": "markdown",
   "metadata": {},
   "source": [
    "**Etapa 5:** Dado um usuário (o índice da linha da matriz de usuário por tópicos) e um número $n > 0$, crie uma função que encontra as top $n$ recomendações de livros (lista de `ref_book_id`) para ele \n",
    "\n",
    "A ideia é que, ao ser passado o índice da linha (`ref_user_id`) que representa o usuário, usemos o índice `knn` gerado na etapa 3 para encontrar os $n$ livros (`ref_book_id`) mais próximos, que serão suas recomendações\n",
    "\n",
    "** Tempo estimado para a atividade total: ** 5 minutos"
   ]
  },
  {
   "cell_type": "code",
   "execution_count": 37,
   "metadata": {},
   "outputs": [],
   "source": [
    "def make_appropriate_conversions_from_ref_id(func):\n",
    "    def modified_func(user_id, *args, **kwargs):\n",
    "        predictions = func(user_id2ref_id[user_id], *args, **kwargs)\n",
    "        return [ref_id2book_id[ref_book_id] for ref_book_id in predictions]\n",
    "    return modified_func"
   ]
  },
  {
   "cell_type": "code",
   "execution_count": 39,
   "metadata": {},
   "outputs": [],
   "source": [
    "@make_appropriate_conversions_from_ref_id\n",
    "def get_recommendations_from_NMF(ref_user_id, n=10):\n",
    "    distances, nearest_ref_book_ids = knn.kneighbors(M_ut[ref_user_id], n_neighbors=n)\n",
    "    return nearest_ref_book_ids[0]"
   ]
  },
  {
   "cell_type": "code",
   "execution_count": 44,
   "metadata": {},
   "outputs": [
    {
     "data": {
      "text/plain": [
       "[5957, 3513, 228, 3630, 5294, 1577, 1911, 2967, 3396, 957]"
      ]
     },
     "execution_count": 44,
     "metadata": {},
     "output_type": "execute_result"
    }
   ],
   "source": [
    "get_recommendations_from_NMF(5447, n=10)"
   ]
  },
  {
   "cell_type": "markdown",
   "metadata": {},
   "source": [
    "Acabamos de mimetizar a evolução do [sistema de recomendação do NYT](https://open.blogs.nytimes.com/2015/08/11/building-the-next-new-york-times-recommendation-engine/). Porém, o modelo de tópicos usado foi o [LDA](http://www.jmlr.org/papers/volume3/blei03a/blei03a.pdf). Veja um exemplo usando o LDA, que também usa uma ferramenta de visualização chamada `PyLDAvis` [nesse artigo do medium](https://medium.com/@sherryqixuan/topic-modeling-and-pyldavis-visualization-86a543e21f58)."
   ]
  },
  {
   "cell_type": "markdown",
   "metadata": {},
   "source": [
    "## Indo além desses notebooks...\n",
    "\n",
    "Para se aprofundar mais é preciso pensar em:\n",
    "\n",
    "* como usar os dados que estão disponíveis para você como input desses sistemas de recomendação:\n",
    "    * que tipo de dados existem? Por exemplo, existem avaliações de usuários para os itens que deseja recomendar?\n",
    "    * existem muitos usuários novos todos os dias?\n",
    "\n",
    "* como avaliar as recomendações:\n",
    "    * importância de um baseline\n",
    "\n",
    "    * parte qualitativa\n",
    "    \n",
    "    <img src=\"resources/imgs/exemplo_elo7.png\" width=800>\n",
    "\n",
    "    * parte quantitativa\n",
    "        * [métricas básicas](https://heartbeat.fritz.ai/recommendation-systems-models-and-evaluation-84944a84fb8e)\n",
    "        * [curso no Coursera sobre avaliação de sistemas de recomendação](https://pt.coursera.org/learn/recommender-metrics)\n",
    "        * [usando CTR para medir a qualidade do retrieval](http://www.cs.cornell.edu/~tj/publications/radlinski_etal_08b.pdf)\n",
    "    \n",
    "\n",
    "* como ranquear as recomendações:\n",
    "    * devemos promover certos itens?\n",
    "\n",
    "* como colocar os modelos em produção"
   ]
  },
  {
   "cell_type": "code",
   "execution_count": null,
   "metadata": {},
   "outputs": [],
   "source": []
  }
 ],
 "metadata": {
  "kernelspec": {
   "display_name": "Python 3",
   "language": "python",
   "name": "python3"
  },
  "language_info": {
   "codemirror_mode": {
    "name": "ipython",
    "version": 3
   },
   "file_extension": ".py",
   "mimetype": "text/x-python",
   "name": "python",
   "nbconvert_exporter": "python",
   "pygments_lexer": "ipython3",
   "version": "3.6.5"
  }
 },
 "nbformat": 4,
 "nbformat_minor": 2
}
